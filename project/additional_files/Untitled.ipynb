{
 "cells": [
  {
   "cell_type": "code",
   "execution_count": 1,
   "id": "95e505e0-ea27-4f5a-8e73-e7560edb24c4",
   "metadata": {},
   "outputs": [],
   "source": [
    "from pyspark.sql import SparkSession, DataFrame\n",
    "from pyspark.sql.functions import col"
   ]
  },
  {
   "cell_type": "code",
   "execution_count": 2,
   "id": "e04d9cf8-971b-4d11-a341-5dbffbbb9865",
   "metadata": {},
   "outputs": [
    {
     "name": "stderr",
     "output_type": "stream",
     "text": [
      "24/12/11 10:24:53 WARN Utils: Your hostname, codespaces-f8c460 resolves to a loopback address: 127.0.0.1; using 10.0.0.182 instead (on interface eth0)\n",
      "24/12/11 10:24:53 WARN Utils: Set SPARK_LOCAL_IP if you need to bind to another address\n",
      "Setting default log level to \"WARN\".\n",
      "To adjust logging level use sc.setLogLevel(newLevel). For SparkR, use setLogLevel(newLevel).\n",
      "24/12/11 10:24:54 WARN NativeCodeLoader: Unable to load native-hadoop library for your platform... using builtin-java classes where applicable\n"
     ]
    },
    {
     "data": {
      "text/html": [
       "\n",
       "            <div>\n",
       "                <p><b>SparkSession - in-memory</b></p>\n",
       "                \n",
       "        <div>\n",
       "            <p><b>SparkContext</b></p>\n",
       "\n",
       "            <p><a href=\"http://f4ba4af6-71d1-495b-8768-b79426589564.internal.cloudapp.net:4040\">Spark UI</a></p>\n",
       "\n",
       "            <dl>\n",
       "              <dt>Version</dt>\n",
       "                <dd><code>v3.5.3</code></dd>\n",
       "              <dt>Master</dt>\n",
       "                <dd><code>local[*]</code></dd>\n",
       "              <dt>AppName</dt>\n",
       "                <dd><code>spark</code></dd>\n",
       "            </dl>\n",
       "        </div>\n",
       "        \n",
       "            </div>\n",
       "        "
      ],
      "text/plain": [
       "<pyspark.sql.session.SparkSession at 0x7005506c3c80>"
      ]
     },
     "execution_count": 2,
     "metadata": {},
     "output_type": "execute_result"
    }
   ],
   "source": [
    "spark = SparkSession.builder.appName(\"spark\") \\\n",
    "    .config(\"spark.driver.memory\", \"2g\") \\\n",
    "    .config(\"spark.executor.memory\", \"2g\") \\\n",
    "    .config(\"spark.executor.cores\", \"2\") \\\n",
    "    .config(\"spark.network.timeout\", \"600s\") \\\n",
    "    .getOrCreate()\n",
    "\n",
    "spark"
   ]
  },
  {
   "cell_type": "code",
   "execution_count": 3,
   "id": "4fc8e562-a273-4efb-9569-b9a708f3c5c2",
   "metadata": {},
   "outputs": [],
   "source": [
    "country_aliases = spark.read.option(\"header\", True).csv(\"csv/country_aliases.csv\")\n",
    "data = spark.read.option(\"header\", True).csv(\"csv/charts.csv\")"
   ]
  },
  {
   "cell_type": "code",
   "execution_count": 4,
   "id": "ca0d70f3-6356-4be8-9e29-c74913502e4f",
   "metadata": {},
   "outputs": [
    {
     "name": "stdout",
     "output_type": "stream",
     "text": [
      "+----------+-------+--------+-------+--------------------+----------+------------------+--------+--------+------+\n",
      "|      date|country|position|streams|            track_id|   artists|     artist_genres|duration|explicit|  name|\n",
      "+----------+-------+--------+-------+--------------------+----------+------------------+--------+--------+------+\n",
      "|2019-03-14|     ro|      26|  23430|2XKFnwB6djxrJCjR3...|['Khalid']|['pop r&b', 'pop']|  163973|   False|My Bad|\n",
      "|2019-03-21|     ro|      26|  23264|2XKFnwB6djxrJCjR3...|['Khalid']|['pop r&b', 'pop']|  163973|   False|My Bad|\n",
      "|2019-03-28|     ro|      21|  24878|2XKFnwB6djxrJCjR3...|['Khalid']|['pop r&b', 'pop']|  163973|   False|My Bad|\n",
      "|2019-04-04|     ro|      42|  22087|2XKFnwB6djxrJCjR3...|['Khalid']|['pop r&b', 'pop']|  163973|   False|My Bad|\n",
      "|2019-04-11|     ro|      46|  19601|2XKFnwB6djxrJCjR3...|['Khalid']|['pop r&b', 'pop']|  163973|   False|My Bad|\n",
      "+----------+-------+--------+-------+--------------------+----------+------------------+--------+--------+------+\n",
      "only showing top 5 rows\n",
      "\n"
     ]
    }
   ],
   "source": [
    "data.show(5)"
   ]
  },
  {
   "cell_type": "code",
   "execution_count": 5,
   "id": "145e4ae4-72c5-4f0c-b5f3-c85bcfc15f7e",
   "metadata": {},
   "outputs": [],
   "source": [
    "data = data.dropna(subset=[\"name\"])\n",
    "data = data.withColumn(\"duration_minutes\", col(\"duration\") / (1000 * 60))"
   ]
  },
  {
   "cell_type": "code",
   "execution_count": 6,
   "id": "5a742f4d-aea5-4214-a7dc-beb5d45d537e",
   "metadata": {},
   "outputs": [],
   "source": [
    "country_aliases = country_aliases.select(col(\"alias\"), col(\"country\").alias(\"country_name\"))"
   ]
  },
  {
   "cell_type": "code",
   "execution_count": 7,
   "id": "0f665d79-382c-4db4-97d8-67f84d593d34",
   "metadata": {},
   "outputs": [],
   "source": [
    "data.createOrReplaceTempView(\"data\")\n",
    "country_aliases.createOrReplaceTempView(\"country_aliases\")"
   ]
  },
  {
   "cell_type": "code",
   "execution_count": 8,
   "id": "c607ef46-d815-4612-ab86-5a3fdaa7cf8a",
   "metadata": {},
   "outputs": [],
   "source": [
    "data = spark.sql(\n",
    "\"\"\"\n",
    "select *\n",
    "from data\n",
    "join country_aliases on data.country = country_aliases.alias\n",
    "\"\"\"\n",
    ")"
   ]
  },
  {
   "cell_type": "code",
   "execution_count": 9,
   "id": "6a9f2e0c-08d4-4f57-a14a-cda35a3aff62",
   "metadata": {},
   "outputs": [],
   "source": [
    "columns_to_drop = ['country', 'alias', 'duration']\n",
    "data = data.drop(*columns_to_drop)"
   ]
  },
  {
   "cell_type": "code",
   "execution_count": 10,
   "id": "842bc45e-017f-4800-a914-ce5b120893e0",
   "metadata": {},
   "outputs": [
    {
     "name": "stdout",
     "output_type": "stream",
     "text": [
      "+----------+--------+-------+--------------------+----------+------------------+--------+------+------------------+------------+\n",
      "|      date|position|streams|            track_id|   artists|     artist_genres|explicit|  name|  duration_minutes|country_name|\n",
      "+----------+--------+-------+--------------------+----------+------------------+--------+------+------------------+------------+\n",
      "|2019-03-14|      26|  23430|2XKFnwB6djxrJCjR3...|['Khalid']|['pop r&b', 'pop']|   False|My Bad|2.7328833333333336|     Romania|\n",
      "|2019-03-21|      26|  23264|2XKFnwB6djxrJCjR3...|['Khalid']|['pop r&b', 'pop']|   False|My Bad|2.7328833333333336|     Romania|\n",
      "|2019-03-28|      21|  24878|2XKFnwB6djxrJCjR3...|['Khalid']|['pop r&b', 'pop']|   False|My Bad|2.7328833333333336|     Romania|\n",
      "|2019-04-04|      42|  22087|2XKFnwB6djxrJCjR3...|['Khalid']|['pop r&b', 'pop']|   False|My Bad|2.7328833333333336|     Romania|\n",
      "|2019-04-11|      46|  19601|2XKFnwB6djxrJCjR3...|['Khalid']|['pop r&b', 'pop']|   False|My Bad|2.7328833333333336|     Romania|\n",
      "+----------+--------+-------+--------------------+----------+------------------+--------+------+------------------+------------+\n",
      "only showing top 5 rows\n",
      "\n"
     ]
    }
   ],
   "source": [
    "data.show(5)"
   ]
  },
  {
   "cell_type": "code",
   "execution_count": 11,
   "id": "0d0ca0e5-21c8-4310-9d18-196f598a6d8e",
   "metadata": {},
   "outputs": [
    {
     "name": "stderr",
     "output_type": "stream",
     "text": [
      "                                                                                "
     ]
    },
    {
     "data": {
      "text/plain": [
       "2009631"
      ]
     },
     "execution_count": 11,
     "metadata": {},
     "output_type": "execute_result"
    }
   ],
   "source": [
    "data.count()"
   ]
  },
  {
   "cell_type": "code",
   "execution_count": 12,
   "id": "a6ff91e7-6af9-4d77-99c7-979367db4578",
   "metadata": {},
   "outputs": [
    {
     "name": "stderr",
     "output_type": "stream",
     "text": [
      "24/12/11 10:25:09 WARN GarbageCollectionMetrics: To enable non-built-in garbage collector(s) List(G1 Concurrent GC), users should configure it(them) to spark.eventLog.gcMetrics.youngGenerationGarbageCollectors or spark.eventLog.gcMetrics.oldGenerationGarbageCollectors\n"
     ]
    }
   ],
   "source": [
    "data.createOrReplaceTempView(\"data\")"
   ]
  },
  {
   "cell_type": "code",
   "execution_count": 26,
   "id": "70aa99d8-c5b9-4c99-9d59-2338d9ca26bc",
   "metadata": {},
   "outputs": [
    {
     "name": "stdout",
     "output_type": "stream",
     "text": [
      "+----------------+\n",
      "|duration_minutes|\n",
      "+----------------+\n",
      "+----------------+\n",
      "\n"
     ]
    }
   ],
   "source": [
    "data.s"
   ]
  },
  {
   "cell_type": "markdown",
   "id": "715e8210-1f32-41d1-aaeb-5440bc2dc5cc",
   "metadata": {},
   "source": [
    "## Create tables"
   ]
  },
  {
   "cell_type": "code",
   "execution_count": 13,
   "id": "a6af4a50-73c8-483a-8da8-9198f05d8728",
   "metadata": {},
   "outputs": [],
   "source": [
    "total_and_max_streams_by_country = spark.sql(\n",
    "\"\"\"\n",
    "select \n",
    "    country_name, \n",
    "    sum(streams) as total_streams, \n",
    "    max(streams) as max_stream, \n",
    "    count(*) as count_songs \n",
    "from data\n",
    "group by country_name \n",
    "order by total_streams desc\n",
    "\"\"\"\n",
    ")"
   ]
  },
  {
   "cell_type": "code",
   "execution_count": 14,
   "id": "d6c06ba7-4104-4586-b173-fd1ce592e92d",
   "metadata": {},
   "outputs": [
    {
     "name": "stderr",
     "output_type": "stream",
     "text": [
      "[Stage 10:>                                                         (0 + 4) / 4]"
     ]
    },
    {
     "name": "stdout",
     "output_type": "stream",
     "text": [
      "+-------------+----------------+----------+-----------+\n",
      "| country_name|   total_streams|max_stream|count_songs|\n",
      "+-------------+----------------+----------+-----------+\n",
      "|       Global|2.44282798692E11|   9997563|      32737|\n",
      "|United States| 7.3543418344E10|    999931|      32345|\n",
      "|       Brazil| 2.7839103326E10|    999907|      32333|\n",
      "|       Mexico| 2.6328201557E10|    999951|      34304|\n",
      "|      Germany| 2.2971087595E10|     99999|      34720|\n",
      "+-------------+----------------+----------+-----------+\n",
      "only showing top 5 rows\n",
      "\n"
     ]
    },
    {
     "name": "stderr",
     "output_type": "stream",
     "text": [
      "                                                                                "
     ]
    }
   ],
   "source": [
    "total_and_max_streams_by_country.show(5)"
   ]
  },
  {
   "cell_type": "code",
   "execution_count": 16,
   "id": "4623ba44-2db2-4b4e-b604-95c507c82ba1",
   "metadata": {},
   "outputs": [],
   "source": [
    "top_genres_by_country = spark.sql(\n",
    "\"\"\"\n",
    "select \n",
    "    country_name, \n",
    "    genre, \n",
    "    count(*) as genre_count\n",
    "from (\n",
    "    select \n",
    "        country_name, \n",
    "        explode(\n",
    "            split(replace(replace(replace(artist_genres, \"]\", \"\"), \"[\", \"\"), \"'\", \"\"), ',\\\\s*')\n",
    "        ) as genre\n",
    "    from data\n",
    ") exploded_genres\n",
    "group by country_name, genre\n",
    "order by genre_count desc\n",
    "\"\"\"\n",
    ")"
   ]
  },
  {
   "cell_type": "code",
   "execution_count": 17,
   "id": "f92d9ccb-b767-4a45-8fd0-1e44a84e57e2",
   "metadata": {},
   "outputs": [
    {
     "name": "stderr",
     "output_type": "stream",
     "text": [
      "[Stage 14:===========================================>              (3 + 1) / 4]"
     ]
    },
    {
     "name": "stdout",
     "output_type": "stream",
     "text": [
      "+-------------+------------+-----------+\n",
      "| country_name|       genre|genre_count|\n",
      "+-------------+------------+-----------+\n",
      "|     Malaysia|         pop|      14511|\n",
      "|    Singapore|         pop|      14435|\n",
      "|        Chile| trap latino|      13088|\n",
      "|    Australia|         pop|      13032|\n",
      "|United States|         rap|      12841|\n",
      "+-------------+------------+-----------+\n",
      "only showing top 5 rows\n",
      "\n"
     ]
    },
    {
     "name": "stderr",
     "output_type": "stream",
     "text": [
      "                                                                                "
     ]
    }
   ],
   "source": [
    "top_genres_by_country.show(5)"
   ]
  },
  {
   "cell_type": "code",
   "execution_count": 18,
   "id": "7156e927-d26b-4e24-906e-5fa7245103c6",
   "metadata": {},
   "outputs": [],
   "source": [
    "top_songs_by_countries = spark.sql(\n",
    "\"\"\"\n",
    "select country_name, name\n",
    "from (\n",
    "    select \n",
    "        name, \n",
    "        country_name, \n",
    "        row_number() over(partition by country_name order by position) as rank\n",
    "    from data\n",
    ") as ranked_songs\n",
    "where rank = 1\n",
    "\"\"\"\n",
    ")"
   ]
  },
  {
   "cell_type": "code",
   "execution_count": 19,
   "id": "7dd0734e-aefc-465f-96ff-1419b33c6460",
   "metadata": {},
   "outputs": [
    {
     "name": "stderr",
     "output_type": "stream",
     "text": [
      "[Stage 18:===========================================>              (3 + 1) / 4]"
     ]
    },
    {
     "name": "stdout",
     "output_type": "stream",
     "text": [
      "+------------+--------------------+\n",
      "|country_name|                name|\n",
      "+------------+--------------------+\n",
      "|     Andorra|I Took A Pill In ...|\n",
      "|   Argentina|             Corazón|\n",
      "|   Australia|Roses - Imanbek R...|\n",
      "|     Austria|                 110|\n",
      "|     Belarus|          HOODAK MP3|\n",
      "+------------+--------------------+\n",
      "only showing top 5 rows\n",
      "\n"
     ]
    },
    {
     "name": "stderr",
     "output_type": "stream",
     "text": [
      "                                                                                "
     ]
    }
   ],
   "source": [
    "top_songs_by_countries.show(5)"
   ]
  },
  {
   "cell_type": "code",
   "execution_count": 20,
   "id": "d431dcd7-4a5d-4db0-8644-8c35766be60b",
   "metadata": {},
   "outputs": [],
   "source": [
    "top_artists_by_country = spark.sql(\n",
    "\"\"\"\n",
    "with artists_streams as\n",
    "(\n",
    "    select \n",
    "        artist,\n",
    "        sum(streams) as total_streams,\n",
    "        country_name\n",
    "    from\n",
    "    (\n",
    "        select \n",
    "            explode(split(replace(replace(replace(artists, \"]\", \"\"), \"[\", \"\"), \"'\", \"\"), ',\\\\s*')) as artist,\n",
    "            streams, \n",
    "            country_name\n",
    "        from data\n",
    "    ) as artist_data\n",
    "    group by artist, country_name\n",
    ")\n",
    "\n",
    "select \n",
    "    country_name,\n",
    "    artist,\n",
    "    total_streams\n",
    "from (\n",
    "    select \n",
    "        country_name,\n",
    "        artist,\n",
    "        total_streams,\n",
    "        row_number() over (partition by country_name order by total_streams desc) as rank\n",
    "    from artists_streams\n",
    ") as ranked_artists\n",
    "where rank = 1\n",
    "order by country_name\n",
    "\"\"\"\n",
    ")"
   ]
  },
  {
   "cell_type": "code",
   "execution_count": 21,
   "id": "79ea770e-bdf7-4286-b7da-4e274f6a6aa3",
   "metadata": {},
   "outputs": [
    {
     "name": "stderr",
     "output_type": "stream",
     "text": [
      "[Stage 22:==============>                                           (1 + 3) / 4]"
     ]
    },
    {
     "name": "stdout",
     "output_type": "stream",
     "text": [
      "+------------+-----------+-------------+\n",
      "|country_name|     artist|total_streams|\n",
      "+------------+-----------+-------------+\n",
      "|     Andorra|       Sech|     137853.0|\n",
      "|   Argentina|   J Balvin| 3.42262394E8|\n",
      "|   Australia| Ed Sheeran| 4.61058785E8|\n",
      "|     Austria|Capital Bra|  5.7124997E7|\n",
      "|     Belarus| INSTASAMKA|    1344977.0|\n",
      "+------------+-----------+-------------+\n",
      "only showing top 5 rows\n",
      "\n"
     ]
    },
    {
     "name": "stderr",
     "output_type": "stream",
     "text": [
      "                                                                                "
     ]
    }
   ],
   "source": [
    "top_artists_by_country.show(5)"
   ]
  },
  {
   "cell_type": "code",
   "execution_count": 22,
   "id": "614090ca-759a-4823-a342-769911549a5c",
   "metadata": {},
   "outputs": [],
   "source": [
    "top_songs_more_than_1_time = spark.sql(\n",
    "\"\"\"\n",
    "with song_position_1 as\n",
    "(\n",
    "    select \n",
    "        name, \n",
    "        artists,\n",
    "        row_number() over(partition by name order by name) as rank\n",
    "    from (\n",
    "        select\n",
    "            name, \n",
    "            artists\n",
    "        from data\n",
    "        where position = 1\n",
    "    ) \n",
    ")\n",
    "\n",
    "select\n",
    "    name,\n",
    "    artists\n",
    "from\n",
    "(\n",
    "    select \n",
    "        max(rank) as max_rank,\n",
    "        name,\n",
    "        artists\n",
    "    from song_position_1\n",
    "    group by name, artists\n",
    ")\n",
    "where max_rank > 1\n",
    "order by name\n",
    "\"\"\"\n",
    ")"
   ]
  },
  {
   "cell_type": "code",
   "execution_count": 23,
   "id": "531d5211-cb13-4227-86ea-1bd6f022eb27",
   "metadata": {},
   "outputs": [
    {
     "name": "stderr",
     "output_type": "stream",
     "text": [
      "[Stage 29:===========================================>              (3 + 1) / 4]"
     ]
    },
    {
     "name": "stdout",
     "output_type": "stream",
     "text": [
      "+--------------------+--------------------+\n",
      "|                name|             artists|\n",
      "+--------------------+--------------------+\n",
      "|\"Bekhayali (From ...|['Sachet Tandon',...|\n",
      "|\"Let It Go - From...|    ['Idina Menzel']|\n",
      "|                 1-2|           ['nublu']|\n",
      "|   100 dni do matury|['Mata', 'Ezra Wi...|\n",
      "|                 110|['Capital Bra', '...|\n",
      "+--------------------+--------------------+\n",
      "only showing top 5 rows\n",
      "\n"
     ]
    },
    {
     "name": "stderr",
     "output_type": "stream",
     "text": [
      "                                                                                "
     ]
    }
   ],
   "source": [
    "top_songs_more_than_1_time.show(5)"
   ]
  },
  {
   "cell_type": "code",
   "execution_count": 48,
   "id": "709a1ff3-9525-4dba-b118-d3c3be6942d5",
   "metadata": {},
   "outputs": [],
   "source": [
    "top_songs_in_more_than_1_country = spark.sql(\n",
    "\"\"\"\n",
    "select distinct\n",
    "    name, \n",
    "    artists,\n",
    "    count(country_name) as total_countries\n",
    "from data\n",
    "where position = 1\n",
    "group by name, artists\n",
    "having total_countries > 1\n",
    "order by name\n",
    "\"\"\"\n",
    ")"
   ]
  },
  {
   "cell_type": "code",
   "execution_count": 49,
   "id": "37e33919-7108-4898-9953-aeae1d86004c",
   "metadata": {},
   "outputs": [
    {
     "name": "stderr",
     "output_type": "stream",
     "text": [
      "[Stage 61:======================================>                   (2 + 1) / 3]"
     ]
    },
    {
     "name": "stdout",
     "output_type": "stream",
     "text": [
      "+--------------------+--------------------+---------------+\n",
      "|                name|             artists|total_countries|\n",
      "+--------------------+--------------------+---------------+\n",
      "|\"Bekhayali (From ...|['Sachet Tandon',...|              8|\n",
      "|\"Let It Go - From...|    ['Idina Menzel']|              2|\n",
      "|                 1-2|           ['nublu']|              6|\n",
      "|   100 dni do matury|['Mata', 'Ezra Wi...|              3|\n",
      "|                 110|['Capital Bra', '...|             10|\n",
      "+--------------------+--------------------+---------------+\n",
      "only showing top 5 rows\n",
      "\n"
     ]
    },
    {
     "name": "stderr",
     "output_type": "stream",
     "text": [
      "                                                                                "
     ]
    }
   ],
   "source": [
    "top_songs_in_more_than_1_country.show(5)"
   ]
  },
  {
   "cell_type": "code",
   "execution_count": null,
   "id": "d66d74ae-eb27-47b2-b802-68b2dc000059",
   "metadata": {},
   "outputs": [],
   "source": []
  }
 ],
 "metadata": {
  "kernelspec": {
   "display_name": "Python 3 (ipykernel)",
   "language": "python",
   "name": "python3"
  },
  "language_info": {
   "codemirror_mode": {
    "name": "ipython",
    "version": 3
   },
   "file_extension": ".py",
   "mimetype": "text/x-python",
   "name": "python",
   "nbconvert_exporter": "python",
   "pygments_lexer": "ipython3",
   "version": "3.12.1"
  }
 },
 "nbformat": 4,
 "nbformat_minor": 5
}
