{
 "cells": [
  {
   "cell_type": "markdown",
   "id": "536ab677-6f71-43c5-ae8d-f375cd9922b0",
   "metadata": {},
   "source": [
    "### План-минимум\n",
    "- [ ] Посмотреть таблицу снэпшотов \n",
    "- [ ] Сделать изменения и потом откатиться к предыдущему снэпшоту\n",
    "- [ ] Изменить названия колонок\n",
    "- [ ] Вставить новые данные\n",
    "- [ ] Изменить партицию\n",
    "- [ ] Посмотреть таблицу `files`\n",
    "- [ ] Посмотреть таблицу `history`\n",
    "- [ ] Посмотреть таблицу `partitions`\n",
    "- [ ] Сделать аудит прямым способом\n",
    "- [ ] Сделать аудит с помощью веток"
   ]
  },
  {
   "cell_type": "code",
   "execution_count": 1,
   "id": "13a78b59-d8f5-4cd6-8d81-5c8d084edbc2",
   "metadata": {},
   "outputs": [],
   "source": [
    "from pyspark.sql import SparkSession\n",
    "from pyspark.sql.functions import date_format, col\n",
    "\n",
    "from pathlib import Path"
   ]
  },
  {
   "cell_type": "markdown",
   "id": "048cef42-e17b-4416-81d1-f58addf0e285",
   "metadata": {},
   "source": [
    "Создадим сессию"
   ]
  },
  {
   "cell_type": "code",
   "execution_count": 2,
   "id": "79e8296d-a33c-4b0f-91e4-08cca78b8127",
   "metadata": {},
   "outputs": [
    {
     "name": "stderr",
     "output_type": "stream",
     "text": [
      "24/11/19 12:59:46 WARN SparkSession: Using an existing Spark session; only runtime SQL configurations will take effect.\n"
     ]
    },
    {
     "data": {
      "text/html": [
       "\n",
       "            <div>\n",
       "                <p><b>SparkSession - in-memory</b></p>\n",
       "                \n",
       "        <div>\n",
       "            <p><b>SparkContext</b></p>\n",
       "\n",
       "            <p><a href=\"http://0b43386a7d16:4041\">Spark UI</a></p>\n",
       "\n",
       "            <dl>\n",
       "              <dt>Version</dt>\n",
       "                <dd><code>v3.5.1</code></dd>\n",
       "              <dt>Master</dt>\n",
       "                <dd><code>local[*]</code></dd>\n",
       "              <dt>AppName</dt>\n",
       "                <dd><code>PySparkShell</code></dd>\n",
       "            </dl>\n",
       "        </div>\n",
       "        \n",
       "            </div>\n",
       "        "
      ],
      "text/plain": [
       "<pyspark.sql.session.SparkSession at 0x7f0f7eab3940>"
      ]
     },
     "execution_count": 2,
     "metadata": {},
     "output_type": "execute_result"
    }
   ],
   "source": [
    "spark = SparkSession.builder.appName(\"Jupyter\") \\\n",
    "    .config(\"spark.driver.memory\", \"4g\") \\\n",
    "    .config(\"spark.executor.memory\", \"4g\") \\\n",
    "    .config(\"spark.executor.cores\", \"2\") \\\n",
    "    .config(\"spark.memory.fraction\", \"0.8\") \\\n",
    "    .getOrCreate()\n",
    "\n",
    "spark"
   ]
  },
  {
   "cell_type": "markdown",
   "id": "646e6dee-8e56-4efc-8dec-7ccb473444b8",
   "metadata": {},
   "source": [
    "Создадим базу данных"
   ]
  },
  {
   "cell_type": "code",
   "execution_count": 3,
   "id": "4c52a133-4a40-4650-801b-2eb4470598ec",
   "metadata": {},
   "outputs": [
    {
     "data": {
      "text/html": [
       "<table>\n",
       "    <thead>\n",
       "        <tr>\n",
       "        </tr>\n",
       "    </thead>\n",
       "    <tbody>\n",
       "    </tbody>\n",
       "</table>"
      ],
      "text/plain": [
       "++\n",
       "||\n",
       "++\n",
       "++"
      ]
     },
     "execution_count": 3,
     "metadata": {},
     "output_type": "execute_result"
    }
   ],
   "source": [
    "%%sql\n",
    "\n",
    "CREATE DATABASE IF NOT EXISTS nyc"
   ]
  },
  {
   "cell_type": "code",
   "execution_count": 4,
   "id": "0ae24f1f-c072-429a-9e36-cba349431f41",
   "metadata": {},
   "outputs": [
    {
     "data": {
      "text/html": [
       "<table>\n",
       "    <thead>\n",
       "        <tr>\n",
       "        </tr>\n",
       "    </thead>\n",
       "    <tbody>\n",
       "    </tbody>\n",
       "</table>"
      ],
      "text/plain": [
       "++\n",
       "||\n",
       "++\n",
       "++"
      ]
     },
     "execution_count": 4,
     "metadata": {},
     "output_type": "execute_result"
    }
   ],
   "source": [
    "%%sql\n",
    "\n",
    "DROP TABLE IF EXISTS nyc.taxis"
   ]
  },
  {
   "cell_type": "markdown",
   "id": "9216f937-6129-445f-abbd-1cf3b29e1cfa",
   "metadata": {},
   "source": [
    "Выгрузим все данные по желтым такси"
   ]
  },
  {
   "cell_type": "code",
   "execution_count": 5,
   "id": "a91522e1-4279-49e8-8e6d-64f131a930f8",
   "metadata": {},
   "outputs": [
    {
     "name": "stderr",
     "output_type": "stream",
     "text": [
      "                                                                                \r"
     ]
    },
    {
     "data": {
      "text/plain": [
       "StructType([StructField('VendorID', LongType(), True), StructField('tpep_pickup_datetime', TimestampNTZType(), True), StructField('tpep_dropoff_datetime', TimestampNTZType(), True), StructField('passenger_count', DoubleType(), True), StructField('trip_distance', DoubleType(), True), StructField('RatecodeID', DoubleType(), True), StructField('store_and_fwd_flag', StringType(), True), StructField('PULocationID', LongType(), True), StructField('DOLocationID', LongType(), True), StructField('payment_type', LongType(), True), StructField('fare_amount', DoubleType(), True), StructField('extra', DoubleType(), True), StructField('mta_tax', DoubleType(), True), StructField('tip_amount', DoubleType(), True), StructField('tolls_amount', DoubleType(), True), StructField('improvement_surcharge', DoubleType(), True), StructField('total_amount', DoubleType(), True), StructField('congestion_surcharge', DoubleType(), True), StructField('airport_fee', DoubleType(), True)])"
      ]
     },
     "execution_count": 5,
     "metadata": {},
     "output_type": "execute_result"
    }
   ],
   "source": [
    "schema = spark.read.parquet(\"/home/iceberg/data/yellow_tripdata_2021-04.parquet\").schema\n",
    "schema"
   ]
  },
  {
   "cell_type": "code",
   "execution_count": 6,
   "id": "9cc15d17-aca7-4391-9020-390ddf729550",
   "metadata": {},
   "outputs": [
    {
     "name": "stderr",
     "output_type": "stream",
     "text": [
      "                                                                                \r"
     ]
    }
   ],
   "source": [
    "df = spark.createDataFrame([], schema)\n",
    "df.writeTo(\"nyc.taxis\").create()"
   ]
  },
  {
   "cell_type": "code",
   "execution_count": 7,
   "id": "63f405f5-d867-44ea-810f-296067338674",
   "metadata": {},
   "outputs": [
    {
     "name": "stderr",
     "output_type": "stream",
     "text": [
      "                                                                                \r"
     ]
    }
   ],
   "source": [
    "path = Path('/home/iceberg/data')\n",
    "\n",
    "for file in path.iterdir():\n",
    "    if file.is_file():\n",
    "        name = str(file).rsplit('/', 1)[-1]\n",
    "        if 'yellow' in name:\n",
    "            df = spark.read.parquet(str(file))\n",
    "            df.writeTo(\"nyc.taxis\").append()"
   ]
  },
  {
   "cell_type": "markdown",
   "id": "bdba098a-8894-4327-82c9-03822d2f730a",
   "metadata": {},
   "source": [
    "Проверим, что данные выгрузились за все нужные месяца и года"
   ]
  },
  {
   "cell_type": "code",
   "execution_count": 8,
   "id": "fe9f8fc8-3978-429e-bea5-9713e3a4871b",
   "metadata": {},
   "outputs": [
    {
     "data": {
      "text/plain": [
       "[(2022, 3),\n",
       " (2021, 7),\n",
       " (2021, 12),\n",
       " (2021, 5),\n",
       " (2021, 8),\n",
       " (2021, 4),\n",
       " (2022, 2),\n",
       " (2021, 9),\n",
       " (2021, 6),\n",
       " (2021, 11),\n",
       " (2021, 10),\n",
       " (2022, 4),\n",
       " (2022, 1)]"
      ]
     },
     "execution_count": 8,
     "metadata": {},
     "output_type": "execute_result"
    }
   ],
   "source": [
    "year_month_fact = []\n",
    "\n",
    "for file in path.iterdir():\n",
    "    if file.is_file():\n",
    "        name = str(file).rsplit('/', 1)[-1]\n",
    "        if 'yellow' in name:\n",
    "            year_month_cur = (\n",
    "                int(name.rsplit('_', 1)[-1].rsplit('.')[0].split('-')[0]), \n",
    "                int(name.rsplit('_', 1)[-1].rsplit('.')[0].split('-')[1])\n",
    "            )\n",
    "            year_month_fact.append(year_month_cur)\n",
    "\n",
    "year_month_fact"
   ]
  },
  {
   "cell_type": "code",
   "execution_count": 9,
   "id": "020ae28e-f1bf-4df3-b8b6-969bb24b9d2c",
   "metadata": {},
   "outputs": [],
   "source": [
    "df_year_month = spark.sql(\"\"\"\n",
    "select year(tpep_pickup_datetime) as year, month(tpep_pickup_datetime) as month\n",
    "from nyc.taxis\n",
    "group by year(tpep_pickup_datetime), month(tpep_pickup_datetime)\n",
    "order by year, month\n",
    "\"\"\")"
   ]
  },
  {
   "cell_type": "code",
   "execution_count": 10,
   "id": "1b830280-f72b-4b1c-953e-dddf111c0ff4",
   "metadata": {},
   "outputs": [
    {
     "name": "stderr",
     "output_type": "stream",
     "text": [
      "                                                                                \r"
     ]
    }
   ],
   "source": [
    "rows_year_month = df_year_month.select(df_year_month.year, df_year_month.month).collect()"
   ]
  },
  {
   "cell_type": "code",
   "execution_count": 11,
   "id": "def7997c-047c-4c95-bdb6-0cde15e2cb9f",
   "metadata": {
    "scrolled": true
   },
   "outputs": [
    {
     "data": {
      "text/plain": [
       "[Row(year=2002, month=12),\n",
       " Row(year=2003, month=1),\n",
       " Row(year=2004, month=4),\n",
       " Row(year=2008, month=12),\n",
       " Row(year=2009, month=1),\n",
       " Row(year=2011, month=1),\n",
       " Row(year=2011, month=2),\n",
       " Row(year=2012, month=2),\n",
       " Row(year=2021, month=3),\n",
       " Row(year=2021, month=4),\n",
       " Row(year=2021, month=5),\n",
       " Row(year=2021, month=6),\n",
       " Row(year=2021, month=7),\n",
       " Row(year=2021, month=8),\n",
       " Row(year=2021, month=9),\n",
       " Row(year=2021, month=10),\n",
       " Row(year=2021, month=11),\n",
       " Row(year=2021, month=12),\n",
       " Row(year=2022, month=1),\n",
       " Row(year=2022, month=2),\n",
       " Row(year=2022, month=3),\n",
       " Row(year=2022, month=4),\n",
       " Row(year=2022, month=5),\n",
       " Row(year=2028, month=12),\n",
       " Row(year=2029, month=5),\n",
       " Row(year=2070, month=8),\n",
       " Row(year=2098, month=9)]"
      ]
     },
     "execution_count": 11,
     "metadata": {},
     "output_type": "execute_result"
    }
   ],
   "source": [
    "rows_year_month"
   ]
  },
  {
   "cell_type": "code",
   "execution_count": 12,
   "id": "bae1062c-94a7-44b8-b901-71721a44015f",
   "metadata": {
    "scrolled": true
   },
   "outputs": [
    {
     "data": {
      "text/plain": [
       "[(2002, 12),\n",
       " (2003, 1),\n",
       " (2004, 4),\n",
       " (2008, 12),\n",
       " (2009, 1),\n",
       " (2011, 1),\n",
       " (2011, 2),\n",
       " (2012, 2),\n",
       " (2021, 3),\n",
       " (2021, 4),\n",
       " (2021, 5),\n",
       " (2021, 6),\n",
       " (2021, 7),\n",
       " (2021, 8),\n",
       " (2021, 9),\n",
       " (2021, 10),\n",
       " (2021, 11),\n",
       " (2021, 12),\n",
       " (2022, 1),\n",
       " (2022, 2),\n",
       " (2022, 3),\n",
       " (2022, 4),\n",
       " (2022, 5),\n",
       " (2028, 12),\n",
       " (2029, 5),\n",
       " (2070, 8),\n",
       " (2098, 9)]"
      ]
     },
     "execution_count": 12,
     "metadata": {},
     "output_type": "execute_result"
    }
   ],
   "source": [
    "year_month_table = [(row.year, row.month) for row in rows_year_month]\n",
    "year_month_table"
   ]
  },
  {
   "cell_type": "code",
   "execution_count": 13,
   "id": "d90dc5d7-37c3-4a28-abdd-1bb14ebcad46",
   "metadata": {},
   "outputs": [],
   "source": [
    "assert set(year_month_fact).issubset(set(year_month_table))"
   ]
  },
  {
   "cell_type": "markdown",
   "id": "760262b7-6644-4a1c-a7d8-194e5c51338a",
   "metadata": {},
   "source": [
    "Значит мы верно прочитали все года и месяца"
   ]
  },
  {
   "cell_type": "markdown",
   "id": "86042432-57d8-462e-afd7-47d213bf4012",
   "metadata": {},
   "source": [
    "Заметим, что некоторые года и месяца выбиваются из рамок. Удалим эти выбросы"
   ]
  },
  {
   "cell_type": "code",
   "execution_count": 14,
   "id": "02e5cc21-bf3b-4d5d-8595-207b9ea7f3b5",
   "metadata": {},
   "outputs": [],
   "source": [
    "df = spark.sql(\"\"\"\n",
    "    select *\n",
    "    from nyc.taxis\n",
    "\"\"\")"
   ]
  },
  {
   "cell_type": "code",
   "execution_count": 15,
   "id": "5c32af28-fa4a-4b4d-8219-a70fb0280f01",
   "metadata": {},
   "outputs": [],
   "source": [
    "filter_condition = col(\"year_month\").isin([f\"{year}-{month:02d}\" for year, month in year_month_fact])\n",
    "\n",
    "tmp_df = df \\\n",
    "    .withColumn(\"year_month\", date_format(col(\"tpep_pickup_datetime\"), \"yyyy-MM\")) \\\n",
    "    .filter(filter_condition)"
   ]
  },
  {
   "cell_type": "code",
   "execution_count": 16,
   "id": "3b86ca10-d6ee-4fb6-b885-8993d97be928",
   "metadata": {},
   "outputs": [
    {
     "name": "stderr",
     "output_type": "stream",
     "text": [
      "/opt/spark/python/pyspark/sql/dataframe.py:329: FutureWarning: Deprecated in 2.0, use createOrReplaceTempView instead.\n",
      "  warnings.warn(\"Deprecated in 2.0, use createOrReplaceTempView instead.\", FutureWarning)\n",
      "                                                                                \r"
     ]
    },
    {
     "name": "stdout",
     "output_type": "stream",
     "text": [
      "+--------+--------------------+---------------------+---------------+-------------+----------+------------------+------------+------------+------------+-----------+-----+-------+----------+------------+---------------------+------------+--------------------+-----------+----------+\n",
      "|VendorID|tpep_pickup_datetime|tpep_dropoff_datetime|passenger_count|trip_distance|RatecodeID|store_and_fwd_flag|PULocationID|DOLocationID|payment_type|fare_amount|extra|mta_tax|tip_amount|tolls_amount|improvement_surcharge|total_amount|congestion_surcharge|airport_fee|year_month|\n",
      "+--------+--------------------+---------------------+---------------+-------------+----------+------------------+------------+------------+------------+-----------+-----+-------+----------+------------+---------------------+------------+--------------------+-----------+----------+\n",
      "|       1| 2022-03-01 00:13:08|  2022-03-01 00:24:35|            1.0|          2.4|       1.0|                 N|          90|         209|           2|       10.0|  3.0|    0.5|       0.0|         0.0|                  0.3|        13.8|                 2.5|        0.0|   2022-03|\n",
      "|       1| 2022-03-01 00:47:52|  2022-03-01 01:00:08|            1.0|          2.2|       1.0|                 N|         148|         234|           2|       10.5|  3.0|    0.5|       0.0|         0.0|                  0.3|        14.3|                 2.5|        0.0|   2022-03|\n",
      "|       2| 2022-03-01 00:02:46|  2022-03-01 00:46:43|            1.0|        19.78|       2.0|                 N|         132|         249|           1|       52.0|  0.0|    0.5|     11.06|         0.0|                  0.3|       67.61|                 2.5|       1.25|   2022-03|\n",
      "|       2| 2022-03-01 00:52:43|  2022-03-01 01:03:40|            2.0|         2.94|       1.0|                 N|         211|          66|           1|       11.0|  0.5|    0.5|      4.44|         0.0|                  0.3|       19.24|                 2.5|        0.0|   2022-03|\n",
      "|       2| 2022-03-01 00:15:35|  2022-03-01 00:34:13|            1.0|         8.57|       1.0|                 N|         138|         197|           1|       25.0|  0.5|    0.5|      5.51|         0.0|                  0.3|       33.06|                 0.0|       1.25|   2022-03|\n",
      "+--------+--------------------+---------------------+---------------+-------------+----------+------------------+------------+------------+------------+-----------+-----+-------+----------+------------+---------------------+------------+--------------------+-----------+----------+\n",
      "only showing top 5 rows\n",
      "\n"
     ]
    }
   ],
   "source": [
    "tmp_df.registerTempTable('tmp')\n",
    "\n",
    "spark.sql(\"\"\"\n",
    "   select *\n",
    "   from tmp\n",
    "\"\"\").show(5)"
   ]
  },
  {
   "cell_type": "code",
   "execution_count": 17,
   "id": "70ee8182-8497-40bc-ac7b-30f86ce878af",
   "metadata": {},
   "outputs": [],
   "source": [
    "tmp_df = tmp_df.drop(\"year_month\")"
   ]
  },
  {
   "cell_type": "code",
   "execution_count": 18,
   "id": "8e5e8248-b44a-4464-a8d3-e230cb018131",
   "metadata": {},
   "outputs": [],
   "source": [
    "tmp_df.registerTempTable('tmp')"
   ]
  },
  {
   "cell_type": "code",
   "execution_count": 19,
   "id": "915862fa-ba15-46bd-9b23-bf9b437235ed",
   "metadata": {},
   "outputs": [
    {
     "name": "stderr",
     "output_type": "stream",
     "text": [
      "                                                                                \r"
     ]
    },
    {
     "data": {
      "text/html": [
       "<table>\n",
       "    <thead>\n",
       "        <tr>\n",
       "            <th>count(1)</th>\n",
       "        </tr>\n",
       "    </thead>\n",
       "    <tbody>\n",
       "        <tr>\n",
       "            <td>38908423</td>\n",
       "        </tr>\n",
       "    </tbody>\n",
       "</table>"
      ],
      "text/plain": [
       "+----------+\n",
       "| count(1) |\n",
       "+----------+\n",
       "| 38908423 |\n",
       "+----------+"
      ]
     },
     "execution_count": 19,
     "metadata": {},
     "output_type": "execute_result"
    }
   ],
   "source": [
    "%%sql \n",
    "\n",
    "select count(*)\n",
    "from tmp"
   ]
  },
  {
   "cell_type": "markdown",
   "id": "312d834f-fc50-4062-a77d-3a607ed4c0c7",
   "metadata": {},
   "source": [
    "Возьму только миллион записей, чтобы ноутбук осилил"
   ]
  },
  {
   "cell_type": "code",
   "execution_count": 20,
   "id": "25c61010-5296-49fc-9853-729ab35484f4",
   "metadata": {},
   "outputs": [
    {
     "name": "stdout",
     "output_type": "stream",
     "text": [
      "+--------+--------------------+---------------------+---------------+-------------+----------+------------------+------------+------------+------------+-----------+-----+-------+----------+------------+---------------------+------------+--------------------+-----------+\n",
      "|VendorID|tpep_pickup_datetime|tpep_dropoff_datetime|passenger_count|trip_distance|RatecodeID|store_and_fwd_flag|PULocationID|DOLocationID|payment_type|fare_amount|extra|mta_tax|tip_amount|tolls_amount|improvement_surcharge|total_amount|congestion_surcharge|airport_fee|\n",
      "+--------+--------------------+---------------------+---------------+-------------+----------+------------------+------------+------------+------------+-----------+-----+-------+----------+------------+---------------------+------------+--------------------+-----------+\n",
      "|       1| 2022-03-01 00:13:08|  2022-03-01 00:24:35|            1.0|          2.4|       1.0|                 N|          90|         209|           2|       10.0|  3.0|    0.5|       0.0|         0.0|                  0.3|        13.8|                 2.5|        0.0|\n",
      "|       1| 2022-03-01 00:47:52|  2022-03-01 01:00:08|            1.0|          2.2|       1.0|                 N|         148|         234|           2|       10.5|  3.0|    0.5|       0.0|         0.0|                  0.3|        14.3|                 2.5|        0.0|\n",
      "|       2| 2022-03-01 00:02:46|  2022-03-01 00:46:43|            1.0|        19.78|       2.0|                 N|         132|         249|           1|       52.0|  0.0|    0.5|     11.06|         0.0|                  0.3|       67.61|                 2.5|       1.25|\n",
      "|       2| 2022-03-01 00:52:43|  2022-03-01 01:03:40|            2.0|         2.94|       1.0|                 N|         211|          66|           1|       11.0|  0.5|    0.5|      4.44|         0.0|                  0.3|       19.24|                 2.5|        0.0|\n",
      "|       2| 2022-03-01 00:15:35|  2022-03-01 00:34:13|            1.0|         8.57|       1.0|                 N|         138|         197|           1|       25.0|  0.5|    0.5|      5.51|         0.0|                  0.3|       33.06|                 0.0|       1.25|\n",
      "+--------+--------------------+---------------------+---------------+-------------+----------+------------------+------------+------------+------------+-----------+-----+-------+----------+------------+---------------------+------------+--------------------+-----------+\n",
      "only showing top 5 rows\n",
      "\n"
     ]
    }
   ],
   "source": [
    "tmp_df_limit = tmp_df.limit(1_000_000_000)\n",
    "\n",
    "tmp_df_limit.show(5)"
   ]
  },
  {
   "cell_type": "markdown",
   "id": "4f3ad5a8-d331-4c1b-b76b-7d730d858a0d",
   "metadata": {},
   "source": [
    "При попытке перезаписать таблицу используя sql replace, repartitioning ноутбук падает с ошибкой памяти. Поэтому удаляю старую таблицу и записываю новую. К сожалению, так теряются снэпшоты исходной таблицы"
   ]
  },
  {
   "cell_type": "code",
   "execution_count": 21,
   "id": "e73270a8-8903-4856-bc5d-ee5aa9467d65",
   "metadata": {},
   "outputs": [
    {
     "data": {
      "text/html": [
       "<table>\n",
       "    <thead>\n",
       "        <tr>\n",
       "        </tr>\n",
       "    </thead>\n",
       "    <tbody>\n",
       "    </tbody>\n",
       "</table>"
      ],
      "text/plain": [
       "++\n",
       "||\n",
       "++\n",
       "++"
      ]
     },
     "execution_count": 21,
     "metadata": {},
     "output_type": "execute_result"
    }
   ],
   "source": [
    "%%sql\n",
    "\n",
    "DROP TABLE IF EXISTS nyc.taxis"
   ]
  },
  {
   "cell_type": "code",
   "execution_count": 22,
   "id": "dffbe19d-f087-449c-9c37-b360a94c7238",
   "metadata": {},
   "outputs": [
    {
     "name": "stderr",
     "output_type": "stream",
     "text": [
      "                                                                                \r"
     ]
    }
   ],
   "source": [
    "tmp_df_limit.writeTo(\"nyc.taxis\").create()"
   ]
  },
  {
   "cell_type": "markdown",
   "id": "8f132340-cf69-4d71-a922-e01e1524b6bc",
   "metadata": {},
   "source": [
    "Проверка, что данные записались корректно"
   ]
  },
  {
   "cell_type": "code",
   "execution_count": 23,
   "id": "2b3c347b-7ccd-4b76-b58c-b60f37b77858",
   "metadata": {},
   "outputs": [
    {
     "name": "stderr",
     "output_type": "stream",
     "text": [
      "                                                                                \r"
     ]
    },
    {
     "data": {
      "text/html": [
       "<table>\n",
       "    <thead>\n",
       "        <tr>\n",
       "            <th>year</th>\n",
       "            <th>month</th>\n",
       "        </tr>\n",
       "    </thead>\n",
       "    <tbody>\n",
       "        <tr>\n",
       "            <td>2021</td>\n",
       "            <td>4</td>\n",
       "        </tr>\n",
       "        <tr>\n",
       "            <td>2021</td>\n",
       "            <td>5</td>\n",
       "        </tr>\n",
       "        <tr>\n",
       "            <td>2021</td>\n",
       "            <td>6</td>\n",
       "        </tr>\n",
       "        <tr>\n",
       "            <td>2021</td>\n",
       "            <td>7</td>\n",
       "        </tr>\n",
       "        <tr>\n",
       "            <td>2021</td>\n",
       "            <td>8</td>\n",
       "        </tr>\n",
       "        <tr>\n",
       "            <td>2021</td>\n",
       "            <td>9</td>\n",
       "        </tr>\n",
       "        <tr>\n",
       "            <td>2021</td>\n",
       "            <td>10</td>\n",
       "        </tr>\n",
       "        <tr>\n",
       "            <td>2021</td>\n",
       "            <td>11</td>\n",
       "        </tr>\n",
       "        <tr>\n",
       "            <td>2021</td>\n",
       "            <td>12</td>\n",
       "        </tr>\n",
       "        <tr>\n",
       "            <td>2022</td>\n",
       "            <td>1</td>\n",
       "        </tr>\n",
       "        <tr>\n",
       "            <td>2022</td>\n",
       "            <td>2</td>\n",
       "        </tr>\n",
       "        <tr>\n",
       "            <td>2022</td>\n",
       "            <td>3</td>\n",
       "        </tr>\n",
       "        <tr>\n",
       "            <td>2022</td>\n",
       "            <td>4</td>\n",
       "        </tr>\n",
       "    </tbody>\n",
       "</table>"
      ],
      "text/plain": [
       "+------+-------+\n",
       "| year | month |\n",
       "+------+-------+\n",
       "| 2021 |     4 |\n",
       "| 2021 |     5 |\n",
       "| 2021 |     6 |\n",
       "| 2021 |     7 |\n",
       "| 2021 |     8 |\n",
       "| 2021 |     9 |\n",
       "| 2021 |    10 |\n",
       "| 2021 |    11 |\n",
       "| 2021 |    12 |\n",
       "| 2022 |     1 |\n",
       "| 2022 |     2 |\n",
       "| 2022 |     3 |\n",
       "| 2022 |     4 |\n",
       "+------+-------+"
      ]
     },
     "execution_count": 23,
     "metadata": {},
     "output_type": "execute_result"
    }
   ],
   "source": [
    "%%sql\n",
    "\n",
    "select year(tpep_pickup_datetime) as year, month(tpep_pickup_datetime) as month\n",
    "from nyc.taxis\n",
    "group by year(tpep_pickup_datetime), month(tpep_pickup_datetime)\n",
    "order by year, month"
   ]
  },
  {
   "cell_type": "markdown",
   "id": "0302d677-0871-49fc-b3c0-fa6e632bb42c",
   "metadata": {},
   "source": [
    "Данные перезаписались корректно"
   ]
  },
  {
   "cell_type": "markdown",
   "id": "1dc4abef-ad65-4c29-8c09-87d4609f6708",
   "metadata": {},
   "source": [
    "### Посмотрим таблицу снэпшотов"
   ]
  },
  {
   "cell_type": "code",
   "execution_count": 25,
   "id": "edf19557-5f73-40fb-b3dc-e73b6b42686b",
   "metadata": {},
   "outputs": [
    {
     "data": {
      "text/html": [
       "<table>\n",
       "    <thead>\n",
       "        <tr>\n",
       "            <th>snapshot_id</th>\n",
       "            <th>manifest_list</th>\n",
       "        </tr>\n",
       "    </thead>\n",
       "    <tbody>\n",
       "        <tr>\n",
       "            <td>8867405477361775537</td>\n",
       "            <td>s3://warehouse/nyc/taxis/metadata/snap-8867405477361775537-1-efe121d5-6281-4a5f-8ed0-08a716d1dade.avro</td>\n",
       "        </tr>\n",
       "    </tbody>\n",
       "</table>"
      ],
      "text/plain": [
       "+---------------------+--------------------------------------------------------------------------------------------------------+\n",
       "|         snapshot_id |                                                                                          manifest_list |\n",
       "+---------------------+--------------------------------------------------------------------------------------------------------+\n",
       "| 8867405477361775537 | s3://warehouse/nyc/taxis/metadata/snap-8867405477361775537-1-efe121d5-6281-4a5f-8ed0-08a716d1dade.avro |\n",
       "+---------------------+--------------------------------------------------------------------------------------------------------+"
      ]
     },
     "execution_count": 25,
     "metadata": {},
     "output_type": "execute_result"
    }
   ],
   "source": [
    "%%sql\n",
    "    \n",
    "SELECT snapshot_id, manifest_list\n",
    "FROM nyc.taxis.snapshots"
   ]
  },
  {
   "cell_type": "markdown",
   "id": "c3cb6950-d1ff-48a8-8d31-c8646ff17221",
   "metadata": {},
   "source": [
    "Как и ожидалось, в таблице только один снэпшот, так как она была перезаписана"
   ]
  },
  {
   "cell_type": "markdown",
   "id": "e81726c6-209b-44a0-925b-1e5f316f67e3",
   "metadata": {},
   "source": [
    "### Переименуем столбцы таблицы"
   ]
  },
  {
   "cell_type": "code",
   "execution_count": 26,
   "id": "38d44ba3-ee15-4165-a22c-e6fd066cf644",
   "metadata": {},
   "outputs": [
    {
     "data": {
      "text/html": [
       "<table>\n",
       "    <thead>\n",
       "        <tr>\n",
       "            <th>col_name</th>\n",
       "            <th>data_type</th>\n",
       "            <th>comment</th>\n",
       "        </tr>\n",
       "    </thead>\n",
       "    <tbody>\n",
       "        <tr>\n",
       "            <td>VendorID</td>\n",
       "            <td>bigint</td>\n",
       "            <td>None</td>\n",
       "        </tr>\n",
       "        <tr>\n",
       "            <td>tpep_pickup_datetime</td>\n",
       "            <td>timestamp_ntz</td>\n",
       "            <td>None</td>\n",
       "        </tr>\n",
       "        <tr>\n",
       "            <td>tpep_dropoff_datetime</td>\n",
       "            <td>timestamp_ntz</td>\n",
       "            <td>None</td>\n",
       "        </tr>\n",
       "        <tr>\n",
       "            <td>passenger_count</td>\n",
       "            <td>double</td>\n",
       "            <td>None</td>\n",
       "        </tr>\n",
       "        <tr>\n",
       "            <td>trip_distance</td>\n",
       "            <td>double</td>\n",
       "            <td>None</td>\n",
       "        </tr>\n",
       "        <tr>\n",
       "            <td>RatecodeID</td>\n",
       "            <td>double</td>\n",
       "            <td>None</td>\n",
       "        </tr>\n",
       "        <tr>\n",
       "            <td>store_and_fwd_flag</td>\n",
       "            <td>string</td>\n",
       "            <td>None</td>\n",
       "        </tr>\n",
       "        <tr>\n",
       "            <td>PULocationID</td>\n",
       "            <td>bigint</td>\n",
       "            <td>None</td>\n",
       "        </tr>\n",
       "        <tr>\n",
       "            <td>DOLocationID</td>\n",
       "            <td>bigint</td>\n",
       "            <td>None</td>\n",
       "        </tr>\n",
       "        <tr>\n",
       "            <td>payment_type</td>\n",
       "            <td>bigint</td>\n",
       "            <td>None</td>\n",
       "        </tr>\n",
       "        <tr>\n",
       "            <td>fare_amount</td>\n",
       "            <td>double</td>\n",
       "            <td>None</td>\n",
       "        </tr>\n",
       "        <tr>\n",
       "            <td>extra</td>\n",
       "            <td>double</td>\n",
       "            <td>None</td>\n",
       "        </tr>\n",
       "        <tr>\n",
       "            <td>mta_tax</td>\n",
       "            <td>double</td>\n",
       "            <td>None</td>\n",
       "        </tr>\n",
       "        <tr>\n",
       "            <td>tip_amount</td>\n",
       "            <td>double</td>\n",
       "            <td>None</td>\n",
       "        </tr>\n",
       "        <tr>\n",
       "            <td>tolls_amount</td>\n",
       "            <td>double</td>\n",
       "            <td>None</td>\n",
       "        </tr>\n",
       "        <tr>\n",
       "            <td>improvement_surcharge</td>\n",
       "            <td>double</td>\n",
       "            <td>None</td>\n",
       "        </tr>\n",
       "        <tr>\n",
       "            <td>total_amount</td>\n",
       "            <td>double</td>\n",
       "            <td>None</td>\n",
       "        </tr>\n",
       "        <tr>\n",
       "            <td>congestion_surcharge</td>\n",
       "            <td>double</td>\n",
       "            <td>None</td>\n",
       "        </tr>\n",
       "        <tr>\n",
       "            <td>airport_fee</td>\n",
       "            <td>double</td>\n",
       "            <td>None</td>\n",
       "        </tr>\n",
       "    </tbody>\n",
       "</table>"
      ],
      "text/plain": [
       "+-----------------------+---------------+---------+\n",
       "|              col_name |     data_type | comment |\n",
       "+-----------------------+---------------+---------+\n",
       "|              VendorID |        bigint |    None |\n",
       "|  tpep_pickup_datetime | timestamp_ntz |    None |\n",
       "| tpep_dropoff_datetime | timestamp_ntz |    None |\n",
       "|       passenger_count |        double |    None |\n",
       "|         trip_distance |        double |    None |\n",
       "|            RatecodeID |        double |    None |\n",
       "|    store_and_fwd_flag |        string |    None |\n",
       "|          PULocationID |        bigint |    None |\n",
       "|          DOLocationID |        bigint |    None |\n",
       "|          payment_type |        bigint |    None |\n",
       "|           fare_amount |        double |    None |\n",
       "|                 extra |        double |    None |\n",
       "|               mta_tax |        double |    None |\n",
       "|            tip_amount |        double |    None |\n",
       "|          tolls_amount |        double |    None |\n",
       "| improvement_surcharge |        double |    None |\n",
       "|          total_amount |        double |    None |\n",
       "|  congestion_surcharge |        double |    None |\n",
       "|           airport_fee |        double |    None |\n",
       "+-----------------------+---------------+---------+"
      ]
     },
     "execution_count": 26,
     "metadata": {},
     "output_type": "execute_result"
    }
   ],
   "source": [
    "%%sql\n",
    "\n",
    "DESCRIBE nyc.taxis"
   ]
  },
  {
   "cell_type": "code",
   "execution_count": 29,
   "id": "3b151631-8b56-408e-b7cd-ed0e20c0b5bc",
   "metadata": {},
   "outputs": [
    {
     "data": {
      "text/html": [
       "<table>\n",
       "    <thead>\n",
       "        <tr>\n",
       "        </tr>\n",
       "    </thead>\n",
       "    <tbody>\n",
       "    </tbody>\n",
       "</table>"
      ],
      "text/plain": [
       "++\n",
       "||\n",
       "++\n",
       "++"
      ]
     },
     "execution_count": 29,
     "metadata": {},
     "output_type": "execute_result"
    }
   ],
   "source": [
    "%%sql\n",
    "\n",
    "ALTER TABLE nyc.taxis RENAME COLUMN tpep_pickup_datetime TO pickup_datetime"
   ]
  },
  {
   "cell_type": "code",
   "execution_count": 30,
   "id": "8a7fb45d-cfdc-46d5-9b77-57611306a5f6",
   "metadata": {},
   "outputs": [
    {
     "data": {
      "text/html": [
       "<table>\n",
       "    <thead>\n",
       "        <tr>\n",
       "        </tr>\n",
       "    </thead>\n",
       "    <tbody>\n",
       "    </tbody>\n",
       "</table>"
      ],
      "text/plain": [
       "++\n",
       "||\n",
       "++\n",
       "++"
      ]
     },
     "execution_count": 30,
     "metadata": {},
     "output_type": "execute_result"
    }
   ],
   "source": [
    "%%sql\n",
    "\n",
    "ALTER TABLE nyc.taxis RENAME COLUMN tpep_dropoff_datetime TO dropoff_datetime"
   ]
  },
  {
   "cell_type": "code",
   "execution_count": 31,
   "id": "f335830a-c38b-4afe-a270-c47df9d8532b",
   "metadata": {
    "scrolled": true
   },
   "outputs": [
    {
     "data": {
      "text/html": [
       "<table>\n",
       "    <thead>\n",
       "        <tr>\n",
       "            <th>col_name</th>\n",
       "            <th>data_type</th>\n",
       "            <th>comment</th>\n",
       "        </tr>\n",
       "    </thead>\n",
       "    <tbody>\n",
       "        <tr>\n",
       "            <td>VendorID</td>\n",
       "            <td>bigint</td>\n",
       "            <td>None</td>\n",
       "        </tr>\n",
       "        <tr>\n",
       "            <td>pickup_datetime</td>\n",
       "            <td>timestamp_ntz</td>\n",
       "            <td>None</td>\n",
       "        </tr>\n",
       "        <tr>\n",
       "            <td>dropoff_datetime</td>\n",
       "            <td>timestamp_ntz</td>\n",
       "            <td>None</td>\n",
       "        </tr>\n",
       "        <tr>\n",
       "            <td>passenger_count</td>\n",
       "            <td>double</td>\n",
       "            <td>None</td>\n",
       "        </tr>\n",
       "        <tr>\n",
       "            <td>trip_distance</td>\n",
       "            <td>double</td>\n",
       "            <td>None</td>\n",
       "        </tr>\n",
       "        <tr>\n",
       "            <td>RatecodeID</td>\n",
       "            <td>double</td>\n",
       "            <td>None</td>\n",
       "        </tr>\n",
       "        <tr>\n",
       "            <td>store_and_fwd_flag</td>\n",
       "            <td>string</td>\n",
       "            <td>None</td>\n",
       "        </tr>\n",
       "        <tr>\n",
       "            <td>PULocationID</td>\n",
       "            <td>bigint</td>\n",
       "            <td>None</td>\n",
       "        </tr>\n",
       "        <tr>\n",
       "            <td>DOLocationID</td>\n",
       "            <td>bigint</td>\n",
       "            <td>None</td>\n",
       "        </tr>\n",
       "        <tr>\n",
       "            <td>payment_type</td>\n",
       "            <td>bigint</td>\n",
       "            <td>None</td>\n",
       "        </tr>\n",
       "        <tr>\n",
       "            <td>fare_amount</td>\n",
       "            <td>double</td>\n",
       "            <td>None</td>\n",
       "        </tr>\n",
       "        <tr>\n",
       "            <td>extra</td>\n",
       "            <td>double</td>\n",
       "            <td>None</td>\n",
       "        </tr>\n",
       "        <tr>\n",
       "            <td>mta_tax</td>\n",
       "            <td>double</td>\n",
       "            <td>None</td>\n",
       "        </tr>\n",
       "        <tr>\n",
       "            <td>tip_amount</td>\n",
       "            <td>double</td>\n",
       "            <td>None</td>\n",
       "        </tr>\n",
       "        <tr>\n",
       "            <td>tolls_amount</td>\n",
       "            <td>double</td>\n",
       "            <td>None</td>\n",
       "        </tr>\n",
       "        <tr>\n",
       "            <td>improvement_surcharge</td>\n",
       "            <td>double</td>\n",
       "            <td>None</td>\n",
       "        </tr>\n",
       "        <tr>\n",
       "            <td>total_amount</td>\n",
       "            <td>double</td>\n",
       "            <td>None</td>\n",
       "        </tr>\n",
       "        <tr>\n",
       "            <td>congestion_surcharge</td>\n",
       "            <td>double</td>\n",
       "            <td>None</td>\n",
       "        </tr>\n",
       "        <tr>\n",
       "            <td>airport_fee</td>\n",
       "            <td>double</td>\n",
       "            <td>None</td>\n",
       "        </tr>\n",
       "    </tbody>\n",
       "</table>"
      ],
      "text/plain": [
       "+-----------------------+---------------+---------+\n",
       "|              col_name |     data_type | comment |\n",
       "+-----------------------+---------------+---------+\n",
       "|              VendorID |        bigint |    None |\n",
       "|       pickup_datetime | timestamp_ntz |    None |\n",
       "|      dropoff_datetime | timestamp_ntz |    None |\n",
       "|       passenger_count |        double |    None |\n",
       "|         trip_distance |        double |    None |\n",
       "|            RatecodeID |        double |    None |\n",
       "|    store_and_fwd_flag |        string |    None |\n",
       "|          PULocationID |        bigint |    None |\n",
       "|          DOLocationID |        bigint |    None |\n",
       "|          payment_type |        bigint |    None |\n",
       "|           fare_amount |        double |    None |\n",
       "|                 extra |        double |    None |\n",
       "|               mta_tax |        double |    None |\n",
       "|            tip_amount |        double |    None |\n",
       "|          tolls_amount |        double |    None |\n",
       "| improvement_surcharge |        double |    None |\n",
       "|          total_amount |        double |    None |\n",
       "|  congestion_surcharge |        double |    None |\n",
       "|           airport_fee |        double |    None |\n",
       "+-----------------------+---------------+---------+"
      ]
     },
     "execution_count": 31,
     "metadata": {},
     "output_type": "execute_result"
    }
   ],
   "source": [
    "%%sql\n",
    "\n",
    "DESCRIBE nyc.taxis"
   ]
  },
  {
   "cell_type": "markdown",
   "id": "9a574195-aea0-40b9-80ac-13017c2b65a1",
   "metadata": {},
   "source": [
    "### Удалим столбцы и вставим новые данные, затем откатим изменения"
   ]
  },
  {
   "cell_type": "code",
   "execution_count": 32,
   "id": "cc16f8ac-6455-4e4d-8eaa-75a68178bf85",
   "metadata": {},
   "outputs": [
    {
     "name": "stderr",
     "output_type": "stream",
     "text": [
      "                                                                                \r"
     ]
    },
    {
     "data": {
      "text/html": [
       "<table>\n",
       "    <thead>\n",
       "        <tr>\n",
       "            <th>snapshot_id</th>\n",
       "        </tr>\n",
       "    </thead>\n",
       "    <tbody>\n",
       "        <tr>\n",
       "            <td>8867405477361775537</td>\n",
       "        </tr>\n",
       "    </tbody>\n",
       "</table>"
      ],
      "text/plain": [
       "+---------------------+\n",
       "|         snapshot_id |\n",
       "+---------------------+\n",
       "| 8867405477361775537 |\n",
       "+---------------------+"
      ]
     },
     "execution_count": 32,
     "metadata": {},
     "output_type": "execute_result"
    }
   ],
   "source": [
    "%%sql\n",
    "\n",
    "SELECT snapshot_id\n",
    "FROM nyc.taxis.snapshots"
   ]
  },
  {
   "cell_type": "code",
   "execution_count": 33,
   "id": "e5281b54-495c-48c4-8d34-51f5bf1ea1ee",
   "metadata": {},
   "outputs": [],
   "source": [
    "current_snapshot = 8867405477361775537"
   ]
  },
  {
   "cell_type": "code",
   "execution_count": 34,
   "id": "9780423b-8658-4c32-b303-b7a9c0076bbf",
   "metadata": {},
   "outputs": [
    {
     "data": {
      "text/html": [
       "<table>\n",
       "    <thead>\n",
       "        <tr>\n",
       "        </tr>\n",
       "    </thead>\n",
       "    <tbody>\n",
       "    </tbody>\n",
       "</table>"
      ],
      "text/plain": [
       "++\n",
       "||\n",
       "++\n",
       "++"
      ]
     },
     "execution_count": 34,
     "metadata": {},
     "output_type": "execute_result"
    }
   ],
   "source": [
    "%%sql\n",
    "\n",
    "ALTER TABLE nyc.taxis\n",
    "DROP COLUMN airport_fee, congestion_surcharge, improvement_surcharge"
   ]
  },
  {
   "cell_type": "code",
   "execution_count": 35,
   "id": "a8b86895-86c6-48ef-a788-49357b0ad604",
   "metadata": {},
   "outputs": [
    {
     "data": {
      "text/html": [
       "<table>\n",
       "    <thead>\n",
       "        <tr>\n",
       "        </tr>\n",
       "    </thead>\n",
       "    <tbody>\n",
       "    </tbody>\n",
       "</table>"
      ],
      "text/plain": [
       "++\n",
       "||\n",
       "++\n",
       "++"
      ]
     },
     "execution_count": 35,
     "metadata": {},
     "output_type": "execute_result"
    }
   ],
   "source": [
    "%%sql\n",
    "\n",
    "ALTER TABLE nyc.taxis\n",
    "DROP COLUMN tolls_amount, mta_tax, extra, fare_amount, store_and_fwd_flag, RatecodeID"
   ]
  },
  {
   "cell_type": "code",
   "execution_count": 36,
   "id": "472f086e-c824-4d74-96d6-ce496c59eb5b",
   "metadata": {},
   "outputs": [
    {
     "data": {
      "text/html": [
       "<table>\n",
       "    <thead>\n",
       "        <tr>\n",
       "            <th>col_name</th>\n",
       "            <th>data_type</th>\n",
       "            <th>comment</th>\n",
       "        </tr>\n",
       "    </thead>\n",
       "    <tbody>\n",
       "        <tr>\n",
       "            <td>VendorID</td>\n",
       "            <td>bigint</td>\n",
       "            <td>None</td>\n",
       "        </tr>\n",
       "        <tr>\n",
       "            <td>pickup_datetime</td>\n",
       "            <td>timestamp_ntz</td>\n",
       "            <td>None</td>\n",
       "        </tr>\n",
       "        <tr>\n",
       "            <td>dropoff_datetime</td>\n",
       "            <td>timestamp_ntz</td>\n",
       "            <td>None</td>\n",
       "        </tr>\n",
       "        <tr>\n",
       "            <td>passenger_count</td>\n",
       "            <td>double</td>\n",
       "            <td>None</td>\n",
       "        </tr>\n",
       "        <tr>\n",
       "            <td>trip_distance</td>\n",
       "            <td>double</td>\n",
       "            <td>None</td>\n",
       "        </tr>\n",
       "        <tr>\n",
       "            <td>PULocationID</td>\n",
       "            <td>bigint</td>\n",
       "            <td>None</td>\n",
       "        </tr>\n",
       "        <tr>\n",
       "            <td>DOLocationID</td>\n",
       "            <td>bigint</td>\n",
       "            <td>None</td>\n",
       "        </tr>\n",
       "        <tr>\n",
       "            <td>payment_type</td>\n",
       "            <td>bigint</td>\n",
       "            <td>None</td>\n",
       "        </tr>\n",
       "        <tr>\n",
       "            <td>tip_amount</td>\n",
       "            <td>double</td>\n",
       "            <td>None</td>\n",
       "        </tr>\n",
       "        <tr>\n",
       "            <td>total_amount</td>\n",
       "            <td>double</td>\n",
       "            <td>None</td>\n",
       "        </tr>\n",
       "    </tbody>\n",
       "</table>"
      ],
      "text/plain": [
       "+------------------+---------------+---------+\n",
       "|         col_name |     data_type | comment |\n",
       "+------------------+---------------+---------+\n",
       "|         VendorID |        bigint |    None |\n",
       "|  pickup_datetime | timestamp_ntz |    None |\n",
       "| dropoff_datetime | timestamp_ntz |    None |\n",
       "|  passenger_count |        double |    None |\n",
       "|    trip_distance |        double |    None |\n",
       "|     PULocationID |        bigint |    None |\n",
       "|     DOLocationID |        bigint |    None |\n",
       "|     payment_type |        bigint |    None |\n",
       "|       tip_amount |        double |    None |\n",
       "|     total_amount |        double |    None |\n",
       "+------------------+---------------+---------+"
      ]
     },
     "execution_count": 36,
     "metadata": {},
     "output_type": "execute_result"
    }
   ],
   "source": [
    "%%sql \n",
    "\n",
    "DESCRIBE nyc.taxis"
   ]
  },
  {
   "cell_type": "code",
   "execution_count": 37,
   "id": "6537b6b0-cc6b-4057-87cc-c60228dd79d2",
   "metadata": {},
   "outputs": [
    {
     "name": "stderr",
     "output_type": "stream",
     "text": [
      "                                                                                \r"
     ]
    },
    {
     "data": {
      "text/html": [
       "<table>\n",
       "    <thead>\n",
       "        <tr>\n",
       "            <th>VendorID</th>\n",
       "            <th>pickup_datetime</th>\n",
       "            <th>dropoff_datetime</th>\n",
       "            <th>passenger_count</th>\n",
       "            <th>trip_distance</th>\n",
       "            <th>PULocationID</th>\n",
       "            <th>DOLocationID</th>\n",
       "            <th>payment_type</th>\n",
       "            <th>tip_amount</th>\n",
       "            <th>total_amount</th>\n",
       "        </tr>\n",
       "    </thead>\n",
       "    <tbody>\n",
       "        <tr>\n",
       "            <td>1</td>\n",
       "            <td>2022-03-01 00:13:08</td>\n",
       "            <td>2022-03-01 00:24:35</td>\n",
       "            <td>1.0</td>\n",
       "            <td>2.4</td>\n",
       "            <td>90</td>\n",
       "            <td>209</td>\n",
       "            <td>2</td>\n",
       "            <td>0.0</td>\n",
       "            <td>13.8</td>\n",
       "        </tr>\n",
       "        <tr>\n",
       "            <td>1</td>\n",
       "            <td>2022-03-01 00:47:52</td>\n",
       "            <td>2022-03-01 01:00:08</td>\n",
       "            <td>1.0</td>\n",
       "            <td>2.2</td>\n",
       "            <td>148</td>\n",
       "            <td>234</td>\n",
       "            <td>2</td>\n",
       "            <td>0.0</td>\n",
       "            <td>14.3</td>\n",
       "        </tr>\n",
       "        <tr>\n",
       "            <td>2</td>\n",
       "            <td>2022-03-01 00:02:46</td>\n",
       "            <td>2022-03-01 00:46:43</td>\n",
       "            <td>1.0</td>\n",
       "            <td>19.78</td>\n",
       "            <td>132</td>\n",
       "            <td>249</td>\n",
       "            <td>1</td>\n",
       "            <td>11.06</td>\n",
       "            <td>67.61</td>\n",
       "        </tr>\n",
       "        <tr>\n",
       "            <td>2</td>\n",
       "            <td>2022-03-01 00:52:43</td>\n",
       "            <td>2022-03-01 01:03:40</td>\n",
       "            <td>2.0</td>\n",
       "            <td>2.94</td>\n",
       "            <td>211</td>\n",
       "            <td>66</td>\n",
       "            <td>1</td>\n",
       "            <td>4.44</td>\n",
       "            <td>19.24</td>\n",
       "        </tr>\n",
       "        <tr>\n",
       "            <td>2</td>\n",
       "            <td>2022-03-01 00:15:35</td>\n",
       "            <td>2022-03-01 00:34:13</td>\n",
       "            <td>1.0</td>\n",
       "            <td>8.57</td>\n",
       "            <td>138</td>\n",
       "            <td>197</td>\n",
       "            <td>1</td>\n",
       "            <td>5.51</td>\n",
       "            <td>33.06</td>\n",
       "        </tr>\n",
       "        <tr>\n",
       "            <td>1</td>\n",
       "            <td>2022-03-01 00:11:57</td>\n",
       "            <td>2022-03-01 00:53:05</td>\n",
       "            <td>2.0</td>\n",
       "            <td>14.0</td>\n",
       "            <td>132</td>\n",
       "            <td>33</td>\n",
       "            <td>1</td>\n",
       "            <td>9.2</td>\n",
       "            <td>55.25</td>\n",
       "        </tr>\n",
       "        <tr>\n",
       "            <td>2</td>\n",
       "            <td>2022-03-01 00:05:11</td>\n",
       "            <td>2022-03-01 00:08:22</td>\n",
       "            <td>1.0</td>\n",
       "            <td>0.61</td>\n",
       "            <td>166</td>\n",
       "            <td>151</td>\n",
       "            <td>1</td>\n",
       "            <td>1.0</td>\n",
       "            <td>6.8</td>\n",
       "        </tr>\n",
       "        <tr>\n",
       "            <td>2</td>\n",
       "            <td>2022-03-01 00:30:56</td>\n",
       "            <td>2022-03-01 00:46:21</td>\n",
       "            <td>1.0</td>\n",
       "            <td>2.83</td>\n",
       "            <td>74</td>\n",
       "            <td>238</td>\n",
       "            <td>1</td>\n",
       "            <td>3.7</td>\n",
       "            <td>18.0</td>\n",
       "        </tr>\n",
       "        <tr>\n",
       "            <td>2</td>\n",
       "            <td>2022-03-01 00:30:28</td>\n",
       "            <td>2022-03-01 00:30:36</td>\n",
       "            <td>1.0</td>\n",
       "            <td>0.1</td>\n",
       "            <td>145</td>\n",
       "            <td>145</td>\n",
       "            <td>3</td>\n",
       "            <td>0.0</td>\n",
       "            <td>-3.8</td>\n",
       "        </tr>\n",
       "        <tr>\n",
       "            <td>2</td>\n",
       "            <td>2022-03-01 00:30:28</td>\n",
       "            <td>2022-03-01 00:30:36</td>\n",
       "            <td>1.0</td>\n",
       "            <td>0.1</td>\n",
       "            <td>145</td>\n",
       "            <td>145</td>\n",
       "            <td>2</td>\n",
       "            <td>0.0</td>\n",
       "            <td>3.8</td>\n",
       "        </tr>\n",
       "        <tr>\n",
       "            <td>2</td>\n",
       "            <td>2022-03-01 00:34:25</td>\n",
       "            <td>2022-03-01 00:39:43</td>\n",
       "            <td>1.0</td>\n",
       "            <td>1.4</td>\n",
       "            <td>170</td>\n",
       "            <td>90</td>\n",
       "            <td>1</td>\n",
       "            <td>8.0</td>\n",
       "            <td>69.85</td>\n",
       "        </tr>\n",
       "        <tr>\n",
       "            <td>2</td>\n",
       "            <td>2022-03-01 00:35:11</td>\n",
       "            <td>2022-03-01 01:20:33</td>\n",
       "            <td>1.0</td>\n",
       "            <td>14.48</td>\n",
       "            <td>132</td>\n",
       "            <td>97</td>\n",
       "            <td>1</td>\n",
       "            <td>9.36</td>\n",
       "            <td>57.41</td>\n",
       "        </tr>\n",
       "        <tr>\n",
       "            <td>2</td>\n",
       "            <td>2022-03-01 00:59:02</td>\n",
       "            <td>2022-03-01 01:13:38</td>\n",
       "            <td>1.0</td>\n",
       "            <td>7.98</td>\n",
       "            <td>138</td>\n",
       "            <td>255</td>\n",
       "            <td>1</td>\n",
       "            <td>4.0</td>\n",
       "            <td>30.05</td>\n",
       "        </tr>\n",
       "        <tr>\n",
       "            <td>2</td>\n",
       "            <td>2022-03-01 00:16:00</td>\n",
       "            <td>2022-03-01 00:36:46</td>\n",
       "            <td>1.0</td>\n",
       "            <td>3.48</td>\n",
       "            <td>179</td>\n",
       "            <td>226</td>\n",
       "            <td>2</td>\n",
       "            <td>0.0</td>\n",
       "            <td>17.3</td>\n",
       "        </tr>\n",
       "        <tr>\n",
       "            <td>2</td>\n",
       "            <td>2022-03-01 00:57:18</td>\n",
       "            <td>2022-03-01 01:38:31</td>\n",
       "            <td>1.0</td>\n",
       "            <td>8.57</td>\n",
       "            <td>226</td>\n",
       "            <td>70</td>\n",
       "            <td>2</td>\n",
       "            <td>0.0</td>\n",
       "            <td>35.3</td>\n",
       "        </tr>\n",
       "        <tr>\n",
       "            <td>2</td>\n",
       "            <td>2022-03-01 00:01:50</td>\n",
       "            <td>2022-03-01 00:17:53</td>\n",
       "            <td>1.0</td>\n",
       "            <td>7.56</td>\n",
       "            <td>138</td>\n",
       "            <td>256</td>\n",
       "            <td>1</td>\n",
       "            <td>6.2</td>\n",
       "            <td>32.25</td>\n",
       "        </tr>\n",
       "        <tr>\n",
       "            <td>2</td>\n",
       "            <td>2022-03-01 01:03:05</td>\n",
       "            <td>2022-03-01 01:06:05</td>\n",
       "            <td>5.0</td>\n",
       "            <td>0.62</td>\n",
       "            <td>80</td>\n",
       "            <td>255</td>\n",
       "            <td>2</td>\n",
       "            <td>0.0</td>\n",
       "            <td>5.8</td>\n",
       "        </tr>\n",
       "        <tr>\n",
       "            <td>2</td>\n",
       "            <td>2022-03-01 00:28:14</td>\n",
       "            <td>2022-03-01 00:43:11</td>\n",
       "            <td>2.0</td>\n",
       "            <td>4.33</td>\n",
       "            <td>211</td>\n",
       "            <td>142</td>\n",
       "            <td>1</td>\n",
       "            <td>3.76</td>\n",
       "            <td>22.56</td>\n",
       "        </tr>\n",
       "        <tr>\n",
       "            <td>2</td>\n",
       "            <td>2022-03-01 00:35:49</td>\n",
       "            <td>2022-03-01 01:14:54</td>\n",
       "            <td>1.0</td>\n",
       "            <td>20.76</td>\n",
       "            <td>132</td>\n",
       "            <td>238</td>\n",
       "            <td>1</td>\n",
       "            <td>12.12</td>\n",
       "            <td>72.72</td>\n",
       "        </tr>\n",
       "        <tr>\n",
       "            <td>2</td>\n",
       "            <td>2022-03-01 00:22:31</td>\n",
       "            <td>2022-03-01 00:30:49</td>\n",
       "            <td>2.0</td>\n",
       "            <td>1.45</td>\n",
       "            <td>148</td>\n",
       "            <td>231</td>\n",
       "            <td>1</td>\n",
       "            <td>2.26</td>\n",
       "            <td>13.56</td>\n",
       "        </tr>\n",
       "        <tr>\n",
       "            <td>1</td>\n",
       "            <td>2022-03-01 00:01:51</td>\n",
       "            <td>2022-03-01 00:17:24</td>\n",
       "            <td>1.0</td>\n",
       "            <td>5.5</td>\n",
       "            <td>162</td>\n",
       "            <td>255</td>\n",
       "            <td>1</td>\n",
       "            <td>2.0</td>\n",
       "            <td>23.3</td>\n",
       "        </tr>\n",
       "        <tr>\n",
       "            <td>1</td>\n",
       "            <td>2022-03-01 00:32:22</td>\n",
       "            <td>2022-03-01 00:35:11</td>\n",
       "            <td>3.0</td>\n",
       "            <td>1.3</td>\n",
       "            <td>137</td>\n",
       "            <td>141</td>\n",
       "            <td>1</td>\n",
       "            <td>2.5</td>\n",
       "            <td>11.8</td>\n",
       "        </tr>\n",
       "        <tr>\n",
       "            <td>1</td>\n",
       "            <td>2022-03-01 00:13:10</td>\n",
       "            <td>2022-03-01 00:35:56</td>\n",
       "            <td>0.0</td>\n",
       "            <td>12.8</td>\n",
       "            <td>132</td>\n",
       "            <td>70</td>\n",
       "            <td>1</td>\n",
       "            <td>9.5</td>\n",
       "            <td>47.55</td>\n",
       "        </tr>\n",
       "        <tr>\n",
       "            <td>2</td>\n",
       "            <td>2022-03-01 00:10:51</td>\n",
       "            <td>2022-03-01 00:22:02</td>\n",
       "            <td>2.0</td>\n",
       "            <td>2.57</td>\n",
       "            <td>68</td>\n",
       "            <td>170</td>\n",
       "            <td>1</td>\n",
       "            <td>2.0</td>\n",
       "            <td>16.3</td>\n",
       "        </tr>\n",
       "        <tr>\n",
       "            <td>2</td>\n",
       "            <td>2022-03-01 00:41:52</td>\n",
       "            <td>2022-03-01 00:54:38</td>\n",
       "            <td>2.0</td>\n",
       "            <td>3.23</td>\n",
       "            <td>211</td>\n",
       "            <td>48</td>\n",
       "            <td>1</td>\n",
       "            <td>3.16</td>\n",
       "            <td>18.96</td>\n",
       "        </tr>\n",
       "        <tr>\n",
       "            <td>1</td>\n",
       "            <td>2022-03-01 00:12:27</td>\n",
       "            <td>2022-03-01 00:28:31</td>\n",
       "            <td>1.0</td>\n",
       "            <td>4.1</td>\n",
       "            <td>239</td>\n",
       "            <td>137</td>\n",
       "            <td>2</td>\n",
       "            <td>0.0</td>\n",
       "            <td>17.3</td>\n",
       "        </tr>\n",
       "        <tr>\n",
       "            <td>1</td>\n",
       "            <td>2022-03-01 00:54:32</td>\n",
       "            <td>2022-03-01 01:33:39</td>\n",
       "            <td>1.0</td>\n",
       "            <td>8.3</td>\n",
       "            <td>141</td>\n",
       "            <td>146</td>\n",
       "            <td>2</td>\n",
       "            <td>0.0</td>\n",
       "            <td>32.8</td>\n",
       "        </tr>\n",
       "        <tr>\n",
       "            <td>1</td>\n",
       "            <td>2022-03-01 00:15:10</td>\n",
       "            <td>2022-03-01 00:23:56</td>\n",
       "            <td>1.0</td>\n",
       "            <td>1.8</td>\n",
       "            <td>25</td>\n",
       "            <td>17</td>\n",
       "            <td>1</td>\n",
       "            <td>1.85</td>\n",
       "            <td>11.15</td>\n",
       "        </tr>\n",
       "        <tr>\n",
       "            <td>2</td>\n",
       "            <td>2022-03-01 00:35:59</td>\n",
       "            <td>2022-03-01 00:46:02</td>\n",
       "            <td>1.0</td>\n",
       "            <td>2.82</td>\n",
       "            <td>114</td>\n",
       "            <td>161</td>\n",
       "            <td>1</td>\n",
       "            <td>2.86</td>\n",
       "            <td>17.16</td>\n",
       "        </tr>\n",
       "        <tr>\n",
       "            <td>2</td>\n",
       "            <td>2022-03-01 00:52:58</td>\n",
       "            <td>2022-03-01 01:08:04</td>\n",
       "            <td>1.0</td>\n",
       "            <td>2.06</td>\n",
       "            <td>164</td>\n",
       "            <td>114</td>\n",
       "            <td>1</td>\n",
       "            <td>2.96</td>\n",
       "            <td>17.76</td>\n",
       "        </tr>\n",
       "        <tr>\n",
       "            <td>2</td>\n",
       "            <td>2022-03-01 00:26:14</td>\n",
       "            <td>2022-03-01 00:43:20</td>\n",
       "            <td>1.0</td>\n",
       "            <td>3.24</td>\n",
       "            <td>230</td>\n",
       "            <td>24</td>\n",
       "            <td>2</td>\n",
       "            <td>0.0</td>\n",
       "            <td>18.3</td>\n",
       "        </tr>\n",
       "        <tr>\n",
       "            <td>2</td>\n",
       "            <td>2022-03-01 00:45:59</td>\n",
       "            <td>2022-03-01 00:55:47</td>\n",
       "            <td>1.0</td>\n",
       "            <td>2.79</td>\n",
       "            <td>114</td>\n",
       "            <td>163</td>\n",
       "            <td>4</td>\n",
       "            <td>0.0</td>\n",
       "            <td>-14.3</td>\n",
       "        </tr>\n",
       "        <tr>\n",
       "            <td>2</td>\n",
       "            <td>2022-03-01 00:45:59</td>\n",
       "            <td>2022-03-01 00:55:47</td>\n",
       "            <td>1.0</td>\n",
       "            <td>2.79</td>\n",
       "            <td>114</td>\n",
       "            <td>230</td>\n",
       "            <td>2</td>\n",
       "            <td>0.0</td>\n",
       "            <td>14.3</td>\n",
       "        </tr>\n",
       "        <tr>\n",
       "            <td>2</td>\n",
       "            <td>2022-03-01 00:15:55</td>\n",
       "            <td>2022-03-01 00:27:49</td>\n",
       "            <td>1.0</td>\n",
       "            <td>2.26</td>\n",
       "            <td>107</td>\n",
       "            <td>229</td>\n",
       "            <td>1</td>\n",
       "            <td>2.14</td>\n",
       "            <td>16.44</td>\n",
       "        </tr>\n",
       "        <tr>\n",
       "            <td>2</td>\n",
       "            <td>2022-03-01 00:30:43</td>\n",
       "            <td>2022-03-01 00:52:34</td>\n",
       "            <td>4.0</td>\n",
       "            <td>4.35</td>\n",
       "            <td>229</td>\n",
       "            <td>209</td>\n",
       "            <td>2</td>\n",
       "            <td>0.0</td>\n",
       "            <td>20.8</td>\n",
       "        </tr>\n",
       "        <tr>\n",
       "            <td>2</td>\n",
       "            <td>2022-03-01 00:14:51</td>\n",
       "            <td>2022-03-01 00:21:58</td>\n",
       "            <td>1.0</td>\n",
       "            <td>1.34</td>\n",
       "            <td>113</td>\n",
       "            <td>45</td>\n",
       "            <td>1</td>\n",
       "            <td>3.0</td>\n",
       "            <td>13.8</td>\n",
       "        </tr>\n",
       "        <tr>\n",
       "            <td>2</td>\n",
       "            <td>2022-03-01 00:28:17</td>\n",
       "            <td>2022-03-01 00:45:50</td>\n",
       "            <td>1.0</td>\n",
       "            <td>5.88</td>\n",
       "            <td>79</td>\n",
       "            <td>112</td>\n",
       "            <td>1</td>\n",
       "            <td>2.0</td>\n",
       "            <td>24.3</td>\n",
       "        </tr>\n",
       "        <tr>\n",
       "            <td>1</td>\n",
       "            <td>2022-03-01 00:23:51</td>\n",
       "            <td>2022-03-01 00:38:51</td>\n",
       "            <td>2.0</td>\n",
       "            <td>12.2</td>\n",
       "            <td>138</td>\n",
       "            <td>40</td>\n",
       "            <td>1</td>\n",
       "            <td>5.0</td>\n",
       "            <td>41.05</td>\n",
       "        </tr>\n",
       "        <tr>\n",
       "            <td>2</td>\n",
       "            <td>2022-03-01 00:20:27</td>\n",
       "            <td>2022-03-01 00:24:13</td>\n",
       "            <td>1.0</td>\n",
       "            <td>1.08</td>\n",
       "            <td>140</td>\n",
       "            <td>236</td>\n",
       "            <td>1</td>\n",
       "            <td>1.86</td>\n",
       "            <td>11.16</td>\n",
       "        </tr>\n",
       "        <tr>\n",
       "            <td>2</td>\n",
       "            <td>2022-03-01 00:50:09</td>\n",
       "            <td>2022-03-01 00:58:48</td>\n",
       "            <td>1.0</td>\n",
       "            <td>1.93</td>\n",
       "            <td>237</td>\n",
       "            <td>143</td>\n",
       "            <td>2</td>\n",
       "            <td>0.0</td>\n",
       "            <td>12.3</td>\n",
       "        </tr>\n",
       "        <tr>\n",
       "            <td>1</td>\n",
       "            <td>2022-03-01 00:37:51</td>\n",
       "            <td>2022-03-01 01:11:38</td>\n",
       "            <td>1.0</td>\n",
       "            <td>18.8</td>\n",
       "            <td>132</td>\n",
       "            <td>234</td>\n",
       "            <td>1</td>\n",
       "            <td>8.0</td>\n",
       "            <td>71.1</td>\n",
       "        </tr>\n",
       "        <tr>\n",
       "            <td>1</td>\n",
       "            <td>2022-03-01 00:05:28</td>\n",
       "            <td>2022-03-01 00:30:30</td>\n",
       "            <td>1.0</td>\n",
       "            <td>17.3</td>\n",
       "            <td>132</td>\n",
       "            <td>162</td>\n",
       "            <td>1</td>\n",
       "            <td>12.6</td>\n",
       "            <td>75.7</td>\n",
       "        </tr>\n",
       "        <tr>\n",
       "            <td>1</td>\n",
       "            <td>2022-03-01 00:26:24</td>\n",
       "            <td>2022-03-01 00:39:52</td>\n",
       "            <td>1.0</td>\n",
       "            <td>3.9</td>\n",
       "            <td>142</td>\n",
       "            <td>152</td>\n",
       "            <td>2</td>\n",
       "            <td>0.0</td>\n",
       "            <td>17.3</td>\n",
       "        </tr>\n",
       "        <tr>\n",
       "            <td>1</td>\n",
       "            <td>2022-03-01 00:11:56</td>\n",
       "            <td>2022-03-01 00:17:46</td>\n",
       "            <td>0.0</td>\n",
       "            <td>1.2</td>\n",
       "            <td>138</td>\n",
       "            <td>129</td>\n",
       "            <td>2</td>\n",
       "            <td>0.0</td>\n",
       "            <td>8.05</td>\n",
       "        </tr>\n",
       "        <tr>\n",
       "            <td>2</td>\n",
       "            <td>2022-03-01 00:08:12</td>\n",
       "            <td>2022-03-01 00:37:54</td>\n",
       "            <td>2.0</td>\n",
       "            <td>12.64</td>\n",
       "            <td>132</td>\n",
       "            <td>49</td>\n",
       "            <td>1</td>\n",
       "            <td>9.89</td>\n",
       "            <td>49.44</td>\n",
       "        </tr>\n",
       "        <tr>\n",
       "            <td>2</td>\n",
       "            <td>2022-03-01 00:17:49</td>\n",
       "            <td>2022-03-01 00:21:19</td>\n",
       "            <td>1.0</td>\n",
       "            <td>1.39</td>\n",
       "            <td>233</td>\n",
       "            <td>224</td>\n",
       "            <td>1</td>\n",
       "            <td>1.96</td>\n",
       "            <td>11.76</td>\n",
       "        </tr>\n",
       "        <tr>\n",
       "            <td>2</td>\n",
       "            <td>2022-03-01 00:28:56</td>\n",
       "            <td>2022-03-01 00:36:06</td>\n",
       "            <td>1.0</td>\n",
       "            <td>2.69</td>\n",
       "            <td>233</td>\n",
       "            <td>262</td>\n",
       "            <td>1</td>\n",
       "            <td>3.33</td>\n",
       "            <td>16.63</td>\n",
       "        </tr>\n",
       "        <tr>\n",
       "            <td>2</td>\n",
       "            <td>2022-03-01 00:47:36</td>\n",
       "            <td>2022-03-01 01:04:55</td>\n",
       "            <td>1.0</td>\n",
       "            <td>5.09</td>\n",
       "            <td>141</td>\n",
       "            <td>223</td>\n",
       "            <td>4</td>\n",
       "            <td>0.0</td>\n",
       "            <td>-21.3</td>\n",
       "        </tr>\n",
       "        <tr>\n",
       "            <td>2</td>\n",
       "            <td>2022-03-01 00:47:36</td>\n",
       "            <td>2022-03-01 01:04:55</td>\n",
       "            <td>1.0</td>\n",
       "            <td>5.09</td>\n",
       "            <td>141</td>\n",
       "            <td>223</td>\n",
       "            <td>2</td>\n",
       "            <td>0.0</td>\n",
       "            <td>21.3</td>\n",
       "        </tr>\n",
       "        <tr>\n",
       "            <td>2</td>\n",
       "            <td>2022-03-01 00:43:01</td>\n",
       "            <td>2022-03-01 01:09:40</td>\n",
       "            <td>2.0</td>\n",
       "            <td>18.68</td>\n",
       "            <td>132</td>\n",
       "            <td>148</td>\n",
       "            <td>1</td>\n",
       "            <td>11.06</td>\n",
       "            <td>67.61</td>\n",
       "        </tr>\n",
       "        <tr>\n",
       "            <td>2</td>\n",
       "            <td>2022-03-01 00:13:05</td>\n",
       "            <td>2022-03-01 00:31:14</td>\n",
       "            <td>6.0</td>\n",
       "            <td>5.93</td>\n",
       "            <td>239</td>\n",
       "            <td>147</td>\n",
       "            <td>2</td>\n",
       "            <td>0.0</td>\n",
       "            <td>22.8</td>\n",
       "        </tr>\n",
       "        <tr>\n",
       "            <td>2</td>\n",
       "            <td>2022-03-01 00:46:56</td>\n",
       "            <td>2022-03-01 01:08:13</td>\n",
       "            <td>1.0</td>\n",
       "            <td>6.03</td>\n",
       "            <td>148</td>\n",
       "            <td>181</td>\n",
       "            <td>1</td>\n",
       "            <td>5.06</td>\n",
       "            <td>30.36</td>\n",
       "        </tr>\n",
       "        <tr>\n",
       "            <td>2</td>\n",
       "            <td>2022-03-01 00:16:07</td>\n",
       "            <td>2022-03-01 00:24:54</td>\n",
       "            <td>1.0</td>\n",
       "            <td>0.85</td>\n",
       "            <td>186</td>\n",
       "            <td>170</td>\n",
       "            <td>2</td>\n",
       "            <td>0.0</td>\n",
       "            <td>10.3</td>\n",
       "        </tr>\n",
       "        <tr>\n",
       "            <td>2</td>\n",
       "            <td>2022-03-01 00:12:40</td>\n",
       "            <td>2022-03-01 00:22:13</td>\n",
       "            <td>1.0</td>\n",
       "            <td>1.78</td>\n",
       "            <td>239</td>\n",
       "            <td>263</td>\n",
       "            <td>1</td>\n",
       "            <td>2.56</td>\n",
       "            <td>15.36</td>\n",
       "        </tr>\n",
       "        <tr>\n",
       "            <td>2</td>\n",
       "            <td>2022-03-01 00:17:39</td>\n",
       "            <td>2022-03-01 00:30:44</td>\n",
       "            <td>1.0</td>\n",
       "            <td>3.61</td>\n",
       "            <td>148</td>\n",
       "            <td>181</td>\n",
       "            <td>1</td>\n",
       "            <td>2.0</td>\n",
       "            <td>18.8</td>\n",
       "        </tr>\n",
       "        <tr>\n",
       "            <td>2</td>\n",
       "            <td>2022-03-01 00:19:28</td>\n",
       "            <td>2022-03-01 01:03:48</td>\n",
       "            <td>1.0</td>\n",
       "            <td>13.61</td>\n",
       "            <td>132</td>\n",
       "            <td>17</td>\n",
       "            <td>1</td>\n",
       "            <td>11.64</td>\n",
       "            <td>58.19</td>\n",
       "        </tr>\n",
       "        <tr>\n",
       "            <td>1</td>\n",
       "            <td>2022-03-01 00:01:39</td>\n",
       "            <td>2022-03-01 00:20:26</td>\n",
       "            <td>0.0</td>\n",
       "            <td>11.0</td>\n",
       "            <td>138</td>\n",
       "            <td>25</td>\n",
       "            <td>1</td>\n",
       "            <td>2.0</td>\n",
       "            <td>36.05</td>\n",
       "        </tr>\n",
       "        <tr>\n",
       "            <td>2</td>\n",
       "            <td>2022-03-01 00:49:20</td>\n",
       "            <td>2022-03-01 01:22:31</td>\n",
       "            <td>1.0</td>\n",
       "            <td>17.51</td>\n",
       "            <td>132</td>\n",
       "            <td>43</td>\n",
       "            <td>2</td>\n",
       "            <td>0.0</td>\n",
       "            <td>56.55</td>\n",
       "        </tr>\n",
       "        <tr>\n",
       "            <td>1</td>\n",
       "            <td>2022-03-01 00:10:15</td>\n",
       "            <td>2022-03-01 00:26:56</td>\n",
       "            <td>1.0</td>\n",
       "            <td>4.9</td>\n",
       "            <td>237</td>\n",
       "            <td>13</td>\n",
       "            <td>1</td>\n",
       "            <td>6.05</td>\n",
       "            <td>26.35</td>\n",
       "        </tr>\n",
       "        <tr>\n",
       "            <td>1</td>\n",
       "            <td>2022-03-01 00:51:16</td>\n",
       "            <td>2022-03-01 00:57:05</td>\n",
       "            <td>1.0</td>\n",
       "            <td>1.9</td>\n",
       "            <td>161</td>\n",
       "            <td>141</td>\n",
       "            <td>1</td>\n",
       "            <td>1.7</td>\n",
       "            <td>13.0</td>\n",
       "        </tr>\n",
       "        <tr>\n",
       "            <td>2</td>\n",
       "            <td>2022-03-01 00:19:07</td>\n",
       "            <td>2022-03-01 00:25:41</td>\n",
       "            <td>1.0</td>\n",
       "            <td>1.82</td>\n",
       "            <td>142</td>\n",
       "            <td>238</td>\n",
       "            <td>1</td>\n",
       "            <td>2.26</td>\n",
       "            <td>13.56</td>\n",
       "        </tr>\n",
       "        <tr>\n",
       "            <td>2</td>\n",
       "            <td>2022-03-01 00:40:55</td>\n",
       "            <td>2022-03-01 01:00:17</td>\n",
       "            <td>1.0</td>\n",
       "            <td>12.24</td>\n",
       "            <td>132</td>\n",
       "            <td>160</td>\n",
       "            <td>1</td>\n",
       "            <td>6.96</td>\n",
       "            <td>43.01</td>\n",
       "        </tr>\n",
       "        <tr>\n",
       "            <td>1</td>\n",
       "            <td>2022-03-01 00:31:19</td>\n",
       "            <td>2022-03-01 00:51:00</td>\n",
       "            <td>1.0</td>\n",
       "            <td>9.3</td>\n",
       "            <td>132</td>\n",
       "            <td>86</td>\n",
       "            <td>2</td>\n",
       "            <td>0.0</td>\n",
       "            <td>35.05</td>\n",
       "        </tr>\n",
       "        <tr>\n",
       "            <td>2</td>\n",
       "            <td>2022-03-01 00:18:47</td>\n",
       "            <td>2022-03-01 00:25:31</td>\n",
       "            <td>1.0</td>\n",
       "            <td>1.15</td>\n",
       "            <td>231</td>\n",
       "            <td>13</td>\n",
       "            <td>1</td>\n",
       "            <td>11.06</td>\n",
       "            <td>66.36</td>\n",
       "        </tr>\n",
       "        <tr>\n",
       "            <td>2</td>\n",
       "            <td>2022-03-01 00:18:40</td>\n",
       "            <td>2022-03-01 00:28:34</td>\n",
       "            <td>1.0</td>\n",
       "            <td>2.73</td>\n",
       "            <td>238</td>\n",
       "            <td>74</td>\n",
       "            <td>1</td>\n",
       "            <td>2.86</td>\n",
       "            <td>17.16</td>\n",
       "        </tr>\n",
       "        <tr>\n",
       "            <td>2</td>\n",
       "            <td>2022-03-01 00:05:51</td>\n",
       "            <td>2022-03-01 00:10:18</td>\n",
       "            <td>1.0</td>\n",
       "            <td>0.71</td>\n",
       "            <td>229</td>\n",
       "            <td>163</td>\n",
       "            <td>2</td>\n",
       "            <td>0.0</td>\n",
       "            <td>8.8</td>\n",
       "        </tr>\n",
       "        <tr>\n",
       "            <td>1</td>\n",
       "            <td>2022-03-01 00:26:42</td>\n",
       "            <td>2022-03-01 00:38:41</td>\n",
       "            <td>1.0</td>\n",
       "            <td>1.6</td>\n",
       "            <td>230</td>\n",
       "            <td>143</td>\n",
       "            <td>1</td>\n",
       "            <td>2.45</td>\n",
       "            <td>14.75</td>\n",
       "        </tr>\n",
       "        <tr>\n",
       "            <td>1</td>\n",
       "            <td>2022-03-01 00:53:25</td>\n",
       "            <td>2022-03-01 00:59:09</td>\n",
       "            <td>1.0</td>\n",
       "            <td>1.3</td>\n",
       "            <td>238</td>\n",
       "            <td>142</td>\n",
       "            <td>1</td>\n",
       "            <td>1.0</td>\n",
       "            <td>10.8</td>\n",
       "        </tr>\n",
       "        <tr>\n",
       "            <td>2</td>\n",
       "            <td>2022-03-01 00:58:54</td>\n",
       "            <td>2022-03-01 01:20:10</td>\n",
       "            <td>1.0</td>\n",
       "            <td>7.61</td>\n",
       "            <td>234</td>\n",
       "            <td>116</td>\n",
       "            <td>1</td>\n",
       "            <td>5.0</td>\n",
       "            <td>31.3</td>\n",
       "        </tr>\n",
       "        <tr>\n",
       "            <td>2</td>\n",
       "            <td>2022-03-01 00:06:25</td>\n",
       "            <td>2022-03-01 00:13:30</td>\n",
       "            <td>1.0</td>\n",
       "            <td>1.04</td>\n",
       "            <td>100</td>\n",
       "            <td>107</td>\n",
       "            <td>2</td>\n",
       "            <td>0.0</td>\n",
       "            <td>10.3</td>\n",
       "        </tr>\n",
       "        <tr>\n",
       "            <td>2</td>\n",
       "            <td>2022-03-01 00:02:40</td>\n",
       "            <td>2022-03-01 00:26:56</td>\n",
       "            <td>1.0</td>\n",
       "            <td>6.51</td>\n",
       "            <td>166</td>\n",
       "            <td>7</td>\n",
       "            <td>2</td>\n",
       "            <td>0.0</td>\n",
       "            <td>30.35</td>\n",
       "        </tr>\n",
       "        <tr>\n",
       "            <td>2</td>\n",
       "            <td>2022-02-28 23:32:40</td>\n",
       "            <td>2022-02-28 23:40:00</td>\n",
       "            <td>1.0</td>\n",
       "            <td>1.27</td>\n",
       "            <td>68</td>\n",
       "            <td>113</td>\n",
       "            <td>1</td>\n",
       "            <td>2.16</td>\n",
       "            <td>12.96</td>\n",
       "        </tr>\n",
       "        <tr>\n",
       "            <td>2</td>\n",
       "            <td>2022-02-28 23:42:19</td>\n",
       "            <td>2022-02-28 23:48:01</td>\n",
       "            <td>1.0</td>\n",
       "            <td>1.64</td>\n",
       "            <td>249</td>\n",
       "            <td>231</td>\n",
       "            <td>2</td>\n",
       "            <td>0.0</td>\n",
       "            <td>10.3</td>\n",
       "        </tr>\n",
       "        <tr>\n",
       "            <td>2</td>\n",
       "            <td>2022-02-28 23:57:05</td>\n",
       "            <td>2022-03-01 00:08:01</td>\n",
       "            <td>1.0</td>\n",
       "            <td>1.9</td>\n",
       "            <td>249</td>\n",
       "            <td>232</td>\n",
       "            <td>1</td>\n",
       "            <td>2.66</td>\n",
       "            <td>15.96</td>\n",
       "        </tr>\n",
       "        <tr>\n",
       "            <td>2</td>\n",
       "            <td>2022-03-01 00:12:46</td>\n",
       "            <td>2022-03-01 00:17:00</td>\n",
       "            <td>1.0</td>\n",
       "            <td>0.89</td>\n",
       "            <td>140</td>\n",
       "            <td>263</td>\n",
       "            <td>1</td>\n",
       "            <td>1.0</td>\n",
       "            <td>9.8</td>\n",
       "        </tr>\n",
       "        <tr>\n",
       "            <td>2</td>\n",
       "            <td>2022-03-01 00:57:25</td>\n",
       "            <td>2022-03-01 01:01:38</td>\n",
       "            <td>2.0</td>\n",
       "            <td>0.7</td>\n",
       "            <td>137</td>\n",
       "            <td>170</td>\n",
       "            <td>2</td>\n",
       "            <td>0.0</td>\n",
       "            <td>-8.8</td>\n",
       "        </tr>\n",
       "        <tr>\n",
       "            <td>2</td>\n",
       "            <td>2022-03-01 00:57:25</td>\n",
       "            <td>2022-03-01 01:01:38</td>\n",
       "            <td>2.0</td>\n",
       "            <td>0.7</td>\n",
       "            <td>137</td>\n",
       "            <td>170</td>\n",
       "            <td>2</td>\n",
       "            <td>0.0</td>\n",
       "            <td>8.8</td>\n",
       "        </tr>\n",
       "        <tr>\n",
       "            <td>2</td>\n",
       "            <td>2022-03-01 00:02:29</td>\n",
       "            <td>2022-03-01 00:18:06</td>\n",
       "            <td>1.0</td>\n",
       "            <td>4.69</td>\n",
       "            <td>114</td>\n",
       "            <td>238</td>\n",
       "            <td>1</td>\n",
       "            <td>3.96</td>\n",
       "            <td>23.76</td>\n",
       "        </tr>\n",
       "        <tr>\n",
       "            <td>2</td>\n",
       "            <td>2022-03-01 00:43:59</td>\n",
       "            <td>2022-03-01 00:57:29</td>\n",
       "            <td>1.0</td>\n",
       "            <td>3.68</td>\n",
       "            <td>170</td>\n",
       "            <td>226</td>\n",
       "            <td>2</td>\n",
       "            <td>0.0</td>\n",
       "            <td>23.35</td>\n",
       "        </tr>\n",
       "        <tr>\n",
       "            <td>1</td>\n",
       "            <td>2022-03-01 00:17:50</td>\n",
       "            <td>2022-03-01 00:30:57</td>\n",
       "            <td>1.0</td>\n",
       "            <td>2.2</td>\n",
       "            <td>230</td>\n",
       "            <td>249</td>\n",
       "            <td>1</td>\n",
       "            <td>3.05</td>\n",
       "            <td>18.35</td>\n",
       "        </tr>\n",
       "        <tr>\n",
       "            <td>1</td>\n",
       "            <td>2022-03-01 00:33:43</td>\n",
       "            <td>2022-03-01 00:43:27</td>\n",
       "            <td>2.0</td>\n",
       "            <td>2.1</td>\n",
       "            <td>249</td>\n",
       "            <td>232</td>\n",
       "            <td>2</td>\n",
       "            <td>0.0</td>\n",
       "            <td>12.8</td>\n",
       "        </tr>\n",
       "        <tr>\n",
       "            <td>2</td>\n",
       "            <td>2022-03-01 00:03:08</td>\n",
       "            <td>2022-03-01 00:08:17</td>\n",
       "            <td>1.0</td>\n",
       "            <td>2.04</td>\n",
       "            <td>237</td>\n",
       "            <td>170</td>\n",
       "            <td>1</td>\n",
       "            <td>2.0</td>\n",
       "            <td>13.3</td>\n",
       "        </tr>\n",
       "        <tr>\n",
       "            <td>2</td>\n",
       "            <td>2022-03-01 00:14:24</td>\n",
       "            <td>2022-03-01 00:24:36</td>\n",
       "            <td>2.0</td>\n",
       "            <td>1.74</td>\n",
       "            <td>230</td>\n",
       "            <td>107</td>\n",
       "            <td>1</td>\n",
       "            <td>2.56</td>\n",
       "            <td>15.36</td>\n",
       "        </tr>\n",
       "        <tr>\n",
       "            <td>2</td>\n",
       "            <td>2022-03-01 00:55:40</td>\n",
       "            <td>2022-03-01 01:16:54</td>\n",
       "            <td>3.0</td>\n",
       "            <td>10.54</td>\n",
       "            <td>132</td>\n",
       "            <td>196</td>\n",
       "            <td>1</td>\n",
       "            <td>6.46</td>\n",
       "            <td>40.01</td>\n",
       "        </tr>\n",
       "        <tr>\n",
       "            <td>1</td>\n",
       "            <td>2022-03-01 00:05:15</td>\n",
       "            <td>2022-03-01 00:19:22</td>\n",
       "            <td>1.0</td>\n",
       "            <td>3.6</td>\n",
       "            <td>233</td>\n",
       "            <td>239</td>\n",
       "            <td>2</td>\n",
       "            <td>0.0</td>\n",
       "            <td>17.3</td>\n",
       "        </tr>\n",
       "        <tr>\n",
       "            <td>1</td>\n",
       "            <td>2022-03-01 00:48:56</td>\n",
       "            <td>2022-03-01 01:04:42</td>\n",
       "            <td>3.0</td>\n",
       "            <td>4.1</td>\n",
       "            <td>148</td>\n",
       "            <td>229</td>\n",
       "            <td>1</td>\n",
       "            <td>1.0</td>\n",
       "            <td>19.3</td>\n",
       "        </tr>\n",
       "        <tr>\n",
       "            <td>1</td>\n",
       "            <td>2022-03-01 00:14:48</td>\n",
       "            <td>2022-03-01 00:30:23</td>\n",
       "            <td>2.0</td>\n",
       "            <td>7.8</td>\n",
       "            <td>138</td>\n",
       "            <td>256</td>\n",
       "            <td>1</td>\n",
       "            <td>5.2</td>\n",
       "            <td>31.25</td>\n",
       "        </tr>\n",
       "        <tr>\n",
       "            <td>1</td>\n",
       "            <td>2022-03-01 00:07:49</td>\n",
       "            <td>2022-03-01 00:30:48</td>\n",
       "            <td>1.0</td>\n",
       "            <td>16.6</td>\n",
       "            <td>132</td>\n",
       "            <td>233</td>\n",
       "            <td>1</td>\n",
       "            <td>12.6</td>\n",
       "            <td>75.7</td>\n",
       "        </tr>\n",
       "        <tr>\n",
       "            <td>2</td>\n",
       "            <td>2022-03-01 00:10:03</td>\n",
       "            <td>2022-03-01 00:15:13</td>\n",
       "            <td>1.0</td>\n",
       "            <td>1.5</td>\n",
       "            <td>141</td>\n",
       "            <td>75</td>\n",
       "            <td>1</td>\n",
       "            <td>2.06</td>\n",
       "            <td>12.36</td>\n",
       "        </tr>\n",
       "        <tr>\n",
       "            <td>2</td>\n",
       "            <td>2022-03-01 00:00:49</td>\n",
       "            <td>2022-03-01 00:05:46</td>\n",
       "            <td>2.0</td>\n",
       "            <td>1.51</td>\n",
       "            <td>141</td>\n",
       "            <td>162</td>\n",
       "            <td>2</td>\n",
       "            <td>0.0</td>\n",
       "            <td>10.3</td>\n",
       "        </tr>\n",
       "        <tr>\n",
       "            <td>2</td>\n",
       "            <td>2022-03-01 00:07:16</td>\n",
       "            <td>2022-03-01 00:17:59</td>\n",
       "            <td>2.0</td>\n",
       "            <td>3.13</td>\n",
       "            <td>162</td>\n",
       "            <td>231</td>\n",
       "            <td>1</td>\n",
       "            <td>4.44</td>\n",
       "            <td>19.24</td>\n",
       "        </tr>\n",
       "        <tr>\n",
       "            <td>2</td>\n",
       "            <td>2022-03-01 00:56:25</td>\n",
       "            <td>2022-03-01 01:20:33</td>\n",
       "            <td>2.0</td>\n",
       "            <td>7.24</td>\n",
       "            <td>79</td>\n",
       "            <td>152</td>\n",
       "            <td>1</td>\n",
       "            <td>5.36</td>\n",
       "            <td>32.16</td>\n",
       "        </tr>\n",
       "        <tr>\n",
       "            <td>2</td>\n",
       "            <td>2022-03-01 00:02:00</td>\n",
       "            <td>2022-03-01 00:18:26</td>\n",
       "            <td>2.0</td>\n",
       "            <td>4.07</td>\n",
       "            <td>114</td>\n",
       "            <td>239</td>\n",
       "            <td>2</td>\n",
       "            <td>0.0</td>\n",
       "            <td>18.8</td>\n",
       "        </tr>\n",
       "        <tr>\n",
       "            <td>2</td>\n",
       "            <td>2022-03-01 00:47:18</td>\n",
       "            <td>2022-03-01 01:05:13</td>\n",
       "            <td>1.0</td>\n",
       "            <td>4.61</td>\n",
       "            <td>48</td>\n",
       "            <td>7</td>\n",
       "            <td>1</td>\n",
       "            <td>2.0</td>\n",
       "            <td>23.3</td>\n",
       "        </tr>\n",
       "        <tr>\n",
       "            <td>2</td>\n",
       "            <td>2022-03-01 00:18:57</td>\n",
       "            <td>2022-03-01 00:50:15</td>\n",
       "            <td>1.0</td>\n",
       "            <td>18.57</td>\n",
       "            <td>132</td>\n",
       "            <td>75</td>\n",
       "            <td>1</td>\n",
       "            <td>12.5</td>\n",
       "            <td>73.1</td>\n",
       "        </tr>\n",
       "        <tr>\n",
       "            <td>2</td>\n",
       "            <td>2022-03-01 00:41:08</td>\n",
       "            <td>2022-03-01 00:55:10</td>\n",
       "            <td>1.0</td>\n",
       "            <td>2.42</td>\n",
       "            <td>107</td>\n",
       "            <td>50</td>\n",
       "            <td>1</td>\n",
       "            <td>3.06</td>\n",
       "            <td>18.36</td>\n",
       "        </tr>\n",
       "        <tr>\n",
       "            <td>2</td>\n",
       "            <td>2022-03-01 00:16:38</td>\n",
       "            <td>2022-03-01 00:42:42</td>\n",
       "            <td>1.0</td>\n",
       "            <td>8.94</td>\n",
       "            <td>138</td>\n",
       "            <td>238</td>\n",
       "            <td>4</td>\n",
       "            <td>0.0</td>\n",
       "            <td>-40.6</td>\n",
       "        </tr>\n",
       "        <tr>\n",
       "            <td>2</td>\n",
       "            <td>2022-03-01 00:16:38</td>\n",
       "            <td>2022-03-01 00:42:42</td>\n",
       "            <td>1.0</td>\n",
       "            <td>8.94</td>\n",
       "            <td>138</td>\n",
       "            <td>238</td>\n",
       "            <td>2</td>\n",
       "            <td>0.0</td>\n",
       "            <td>40.6</td>\n",
       "        </tr>\n",
       "        <tr>\n",
       "            <td>2</td>\n",
       "            <td>2022-03-01 00:15:16</td>\n",
       "            <td>2022-03-01 00:31:38</td>\n",
       "            <td>1.0</td>\n",
       "            <td>3.97</td>\n",
       "            <td>239</td>\n",
       "            <td>42</td>\n",
       "            <td>2</td>\n",
       "            <td>0.0</td>\n",
       "            <td>17.8</td>\n",
       "        </tr>\n",
       "        <tr>\n",
       "            <td>2</td>\n",
       "            <td>2022-03-01 00:52:50</td>\n",
       "            <td>2022-03-01 01:04:03</td>\n",
       "            <td>1.0</td>\n",
       "            <td>5.64</td>\n",
       "            <td>48</td>\n",
       "            <td>116</td>\n",
       "            <td>1</td>\n",
       "            <td>3.74</td>\n",
       "            <td>24.54</td>\n",
       "        </tr>\n",
       "    </tbody>\n",
       "</table>"
      ],
      "text/plain": [
       "+----------+---------------------+---------------------+-----------------+---------------+--------------+--------------+--------------+------------+--------------+\n",
       "| VendorID |     pickup_datetime |    dropoff_datetime | passenger_count | trip_distance | PULocationID | DOLocationID | payment_type | tip_amount | total_amount |\n",
       "+----------+---------------------+---------------------+-----------------+---------------+--------------+--------------+--------------+------------+--------------+\n",
       "|        1 | 2022-03-01 00:13:08 | 2022-03-01 00:24:35 |             1.0 |           2.4 |           90 |          209 |            2 |        0.0 |         13.8 |\n",
       "|        1 | 2022-03-01 00:47:52 | 2022-03-01 01:00:08 |             1.0 |           2.2 |          148 |          234 |            2 |        0.0 |         14.3 |\n",
       "|        2 | 2022-03-01 00:02:46 | 2022-03-01 00:46:43 |             1.0 |         19.78 |          132 |          249 |            1 |      11.06 |        67.61 |\n",
       "|        2 | 2022-03-01 00:52:43 | 2022-03-01 01:03:40 |             2.0 |          2.94 |          211 |           66 |            1 |       4.44 |        19.24 |\n",
       "|        2 | 2022-03-01 00:15:35 | 2022-03-01 00:34:13 |             1.0 |          8.57 |          138 |          197 |            1 |       5.51 |        33.06 |\n",
       "|        1 | 2022-03-01 00:11:57 | 2022-03-01 00:53:05 |             2.0 |          14.0 |          132 |           33 |            1 |        9.2 |        55.25 |\n",
       "|        2 | 2022-03-01 00:05:11 | 2022-03-01 00:08:22 |             1.0 |          0.61 |          166 |          151 |            1 |        1.0 |          6.8 |\n",
       "|        2 | 2022-03-01 00:30:56 | 2022-03-01 00:46:21 |             1.0 |          2.83 |           74 |          238 |            1 |        3.7 |         18.0 |\n",
       "|        2 | 2022-03-01 00:30:28 | 2022-03-01 00:30:36 |             1.0 |           0.1 |          145 |          145 |            3 |        0.0 |         -3.8 |\n",
       "|        2 | 2022-03-01 00:30:28 | 2022-03-01 00:30:36 |             1.0 |           0.1 |          145 |          145 |            2 |        0.0 |          3.8 |\n",
       "|        2 | 2022-03-01 00:34:25 | 2022-03-01 00:39:43 |             1.0 |           1.4 |          170 |           90 |            1 |        8.0 |        69.85 |\n",
       "|        2 | 2022-03-01 00:35:11 | 2022-03-01 01:20:33 |             1.0 |         14.48 |          132 |           97 |            1 |       9.36 |        57.41 |\n",
       "|        2 | 2022-03-01 00:59:02 | 2022-03-01 01:13:38 |             1.0 |          7.98 |          138 |          255 |            1 |        4.0 |        30.05 |\n",
       "|        2 | 2022-03-01 00:16:00 | 2022-03-01 00:36:46 |             1.0 |          3.48 |          179 |          226 |            2 |        0.0 |         17.3 |\n",
       "|        2 | 2022-03-01 00:57:18 | 2022-03-01 01:38:31 |             1.0 |          8.57 |          226 |           70 |            2 |        0.0 |         35.3 |\n",
       "|        2 | 2022-03-01 00:01:50 | 2022-03-01 00:17:53 |             1.0 |          7.56 |          138 |          256 |            1 |        6.2 |        32.25 |\n",
       "|        2 | 2022-03-01 01:03:05 | 2022-03-01 01:06:05 |             5.0 |          0.62 |           80 |          255 |            2 |        0.0 |          5.8 |\n",
       "|        2 | 2022-03-01 00:28:14 | 2022-03-01 00:43:11 |             2.0 |          4.33 |          211 |          142 |            1 |       3.76 |        22.56 |\n",
       "|        2 | 2022-03-01 00:35:49 | 2022-03-01 01:14:54 |             1.0 |         20.76 |          132 |          238 |            1 |      12.12 |        72.72 |\n",
       "|        2 | 2022-03-01 00:22:31 | 2022-03-01 00:30:49 |             2.0 |          1.45 |          148 |          231 |            1 |       2.26 |        13.56 |\n",
       "|        1 | 2022-03-01 00:01:51 | 2022-03-01 00:17:24 |             1.0 |           5.5 |          162 |          255 |            1 |        2.0 |         23.3 |\n",
       "|        1 | 2022-03-01 00:32:22 | 2022-03-01 00:35:11 |             3.0 |           1.3 |          137 |          141 |            1 |        2.5 |         11.8 |\n",
       "|        1 | 2022-03-01 00:13:10 | 2022-03-01 00:35:56 |             0.0 |          12.8 |          132 |           70 |            1 |        9.5 |        47.55 |\n",
       "|        2 | 2022-03-01 00:10:51 | 2022-03-01 00:22:02 |             2.0 |          2.57 |           68 |          170 |            1 |        2.0 |         16.3 |\n",
       "|        2 | 2022-03-01 00:41:52 | 2022-03-01 00:54:38 |             2.0 |          3.23 |          211 |           48 |            1 |       3.16 |        18.96 |\n",
       "|        1 | 2022-03-01 00:12:27 | 2022-03-01 00:28:31 |             1.0 |           4.1 |          239 |          137 |            2 |        0.0 |         17.3 |\n",
       "|        1 | 2022-03-01 00:54:32 | 2022-03-01 01:33:39 |             1.0 |           8.3 |          141 |          146 |            2 |        0.0 |         32.8 |\n",
       "|        1 | 2022-03-01 00:15:10 | 2022-03-01 00:23:56 |             1.0 |           1.8 |           25 |           17 |            1 |       1.85 |        11.15 |\n",
       "|        2 | 2022-03-01 00:35:59 | 2022-03-01 00:46:02 |             1.0 |          2.82 |          114 |          161 |            1 |       2.86 |        17.16 |\n",
       "|        2 | 2022-03-01 00:52:58 | 2022-03-01 01:08:04 |             1.0 |          2.06 |          164 |          114 |            1 |       2.96 |        17.76 |\n",
       "|        2 | 2022-03-01 00:26:14 | 2022-03-01 00:43:20 |             1.0 |          3.24 |          230 |           24 |            2 |        0.0 |         18.3 |\n",
       "|        2 | 2022-03-01 00:45:59 | 2022-03-01 00:55:47 |             1.0 |          2.79 |          114 |          163 |            4 |        0.0 |        -14.3 |\n",
       "|        2 | 2022-03-01 00:45:59 | 2022-03-01 00:55:47 |             1.0 |          2.79 |          114 |          230 |            2 |        0.0 |         14.3 |\n",
       "|        2 | 2022-03-01 00:15:55 | 2022-03-01 00:27:49 |             1.0 |          2.26 |          107 |          229 |            1 |       2.14 |        16.44 |\n",
       "|        2 | 2022-03-01 00:30:43 | 2022-03-01 00:52:34 |             4.0 |          4.35 |          229 |          209 |            2 |        0.0 |         20.8 |\n",
       "|        2 | 2022-03-01 00:14:51 | 2022-03-01 00:21:58 |             1.0 |          1.34 |          113 |           45 |            1 |        3.0 |         13.8 |\n",
       "|        2 | 2022-03-01 00:28:17 | 2022-03-01 00:45:50 |             1.0 |          5.88 |           79 |          112 |            1 |        2.0 |         24.3 |\n",
       "|        1 | 2022-03-01 00:23:51 | 2022-03-01 00:38:51 |             2.0 |          12.2 |          138 |           40 |            1 |        5.0 |        41.05 |\n",
       "|        2 | 2022-03-01 00:20:27 | 2022-03-01 00:24:13 |             1.0 |          1.08 |          140 |          236 |            1 |       1.86 |        11.16 |\n",
       "|        2 | 2022-03-01 00:50:09 | 2022-03-01 00:58:48 |             1.0 |          1.93 |          237 |          143 |            2 |        0.0 |         12.3 |\n",
       "|        1 | 2022-03-01 00:37:51 | 2022-03-01 01:11:38 |             1.0 |          18.8 |          132 |          234 |            1 |        8.0 |         71.1 |\n",
       "|        1 | 2022-03-01 00:05:28 | 2022-03-01 00:30:30 |             1.0 |          17.3 |          132 |          162 |            1 |       12.6 |         75.7 |\n",
       "|        1 | 2022-03-01 00:26:24 | 2022-03-01 00:39:52 |             1.0 |           3.9 |          142 |          152 |            2 |        0.0 |         17.3 |\n",
       "|        1 | 2022-03-01 00:11:56 | 2022-03-01 00:17:46 |             0.0 |           1.2 |          138 |          129 |            2 |        0.0 |         8.05 |\n",
       "|        2 | 2022-03-01 00:08:12 | 2022-03-01 00:37:54 |             2.0 |         12.64 |          132 |           49 |            1 |       9.89 |        49.44 |\n",
       "|        2 | 2022-03-01 00:17:49 | 2022-03-01 00:21:19 |             1.0 |          1.39 |          233 |          224 |            1 |       1.96 |        11.76 |\n",
       "|        2 | 2022-03-01 00:28:56 | 2022-03-01 00:36:06 |             1.0 |          2.69 |          233 |          262 |            1 |       3.33 |        16.63 |\n",
       "|        2 | 2022-03-01 00:47:36 | 2022-03-01 01:04:55 |             1.0 |          5.09 |          141 |          223 |            4 |        0.0 |        -21.3 |\n",
       "|        2 | 2022-03-01 00:47:36 | 2022-03-01 01:04:55 |             1.0 |          5.09 |          141 |          223 |            2 |        0.0 |         21.3 |\n",
       "|        2 | 2022-03-01 00:43:01 | 2022-03-01 01:09:40 |             2.0 |         18.68 |          132 |          148 |            1 |      11.06 |        67.61 |\n",
       "|        2 | 2022-03-01 00:13:05 | 2022-03-01 00:31:14 |             6.0 |          5.93 |          239 |          147 |            2 |        0.0 |         22.8 |\n",
       "|        2 | 2022-03-01 00:46:56 | 2022-03-01 01:08:13 |             1.0 |          6.03 |          148 |          181 |            1 |       5.06 |        30.36 |\n",
       "|        2 | 2022-03-01 00:16:07 | 2022-03-01 00:24:54 |             1.0 |          0.85 |          186 |          170 |            2 |        0.0 |         10.3 |\n",
       "|        2 | 2022-03-01 00:12:40 | 2022-03-01 00:22:13 |             1.0 |          1.78 |          239 |          263 |            1 |       2.56 |        15.36 |\n",
       "|        2 | 2022-03-01 00:17:39 | 2022-03-01 00:30:44 |             1.0 |          3.61 |          148 |          181 |            1 |        2.0 |         18.8 |\n",
       "|        2 | 2022-03-01 00:19:28 | 2022-03-01 01:03:48 |             1.0 |         13.61 |          132 |           17 |            1 |      11.64 |        58.19 |\n",
       "|        1 | 2022-03-01 00:01:39 | 2022-03-01 00:20:26 |             0.0 |          11.0 |          138 |           25 |            1 |        2.0 |        36.05 |\n",
       "|        2 | 2022-03-01 00:49:20 | 2022-03-01 01:22:31 |             1.0 |         17.51 |          132 |           43 |            2 |        0.0 |        56.55 |\n",
       "|        1 | 2022-03-01 00:10:15 | 2022-03-01 00:26:56 |             1.0 |           4.9 |          237 |           13 |            1 |       6.05 |        26.35 |\n",
       "|        1 | 2022-03-01 00:51:16 | 2022-03-01 00:57:05 |             1.0 |           1.9 |          161 |          141 |            1 |        1.7 |         13.0 |\n",
       "|        2 | 2022-03-01 00:19:07 | 2022-03-01 00:25:41 |             1.0 |          1.82 |          142 |          238 |            1 |       2.26 |        13.56 |\n",
       "|        2 | 2022-03-01 00:40:55 | 2022-03-01 01:00:17 |             1.0 |         12.24 |          132 |          160 |            1 |       6.96 |        43.01 |\n",
       "|        1 | 2022-03-01 00:31:19 | 2022-03-01 00:51:00 |             1.0 |           9.3 |          132 |           86 |            2 |        0.0 |        35.05 |\n",
       "|        2 | 2022-03-01 00:18:47 | 2022-03-01 00:25:31 |             1.0 |          1.15 |          231 |           13 |            1 |      11.06 |        66.36 |\n",
       "|        2 | 2022-03-01 00:18:40 | 2022-03-01 00:28:34 |             1.0 |          2.73 |          238 |           74 |            1 |       2.86 |        17.16 |\n",
       "|        2 | 2022-03-01 00:05:51 | 2022-03-01 00:10:18 |             1.0 |          0.71 |          229 |          163 |            2 |        0.0 |          8.8 |\n",
       "|        1 | 2022-03-01 00:26:42 | 2022-03-01 00:38:41 |             1.0 |           1.6 |          230 |          143 |            1 |       2.45 |        14.75 |\n",
       "|        1 | 2022-03-01 00:53:25 | 2022-03-01 00:59:09 |             1.0 |           1.3 |          238 |          142 |            1 |        1.0 |         10.8 |\n",
       "|        2 | 2022-03-01 00:58:54 | 2022-03-01 01:20:10 |             1.0 |          7.61 |          234 |          116 |            1 |        5.0 |         31.3 |\n",
       "|        2 | 2022-03-01 00:06:25 | 2022-03-01 00:13:30 |             1.0 |          1.04 |          100 |          107 |            2 |        0.0 |         10.3 |\n",
       "|        2 | 2022-03-01 00:02:40 | 2022-03-01 00:26:56 |             1.0 |          6.51 |          166 |            7 |            2 |        0.0 |        30.35 |\n",
       "|        2 | 2022-02-28 23:32:40 | 2022-02-28 23:40:00 |             1.0 |          1.27 |           68 |          113 |            1 |       2.16 |        12.96 |\n",
       "|        2 | 2022-02-28 23:42:19 | 2022-02-28 23:48:01 |             1.0 |          1.64 |          249 |          231 |            2 |        0.0 |         10.3 |\n",
       "|        2 | 2022-02-28 23:57:05 | 2022-03-01 00:08:01 |             1.0 |           1.9 |          249 |          232 |            1 |       2.66 |        15.96 |\n",
       "|        2 | 2022-03-01 00:12:46 | 2022-03-01 00:17:00 |             1.0 |          0.89 |          140 |          263 |            1 |        1.0 |          9.8 |\n",
       "|        2 | 2022-03-01 00:57:25 | 2022-03-01 01:01:38 |             2.0 |           0.7 |          137 |          170 |            2 |        0.0 |         -8.8 |\n",
       "|        2 | 2022-03-01 00:57:25 | 2022-03-01 01:01:38 |             2.0 |           0.7 |          137 |          170 |            2 |        0.0 |          8.8 |\n",
       "|        2 | 2022-03-01 00:02:29 | 2022-03-01 00:18:06 |             1.0 |          4.69 |          114 |          238 |            1 |       3.96 |        23.76 |\n",
       "|        2 | 2022-03-01 00:43:59 | 2022-03-01 00:57:29 |             1.0 |          3.68 |          170 |          226 |            2 |        0.0 |        23.35 |\n",
       "|        1 | 2022-03-01 00:17:50 | 2022-03-01 00:30:57 |             1.0 |           2.2 |          230 |          249 |            1 |       3.05 |        18.35 |\n",
       "|        1 | 2022-03-01 00:33:43 | 2022-03-01 00:43:27 |             2.0 |           2.1 |          249 |          232 |            2 |        0.0 |         12.8 |\n",
       "|        2 | 2022-03-01 00:03:08 | 2022-03-01 00:08:17 |             1.0 |          2.04 |          237 |          170 |            1 |        2.0 |         13.3 |\n",
       "|        2 | 2022-03-01 00:14:24 | 2022-03-01 00:24:36 |             2.0 |          1.74 |          230 |          107 |            1 |       2.56 |        15.36 |\n",
       "|        2 | 2022-03-01 00:55:40 | 2022-03-01 01:16:54 |             3.0 |         10.54 |          132 |          196 |            1 |       6.46 |        40.01 |\n",
       "|        1 | 2022-03-01 00:05:15 | 2022-03-01 00:19:22 |             1.0 |           3.6 |          233 |          239 |            2 |        0.0 |         17.3 |\n",
       "|        1 | 2022-03-01 00:48:56 | 2022-03-01 01:04:42 |             3.0 |           4.1 |          148 |          229 |            1 |        1.0 |         19.3 |\n",
       "|        1 | 2022-03-01 00:14:48 | 2022-03-01 00:30:23 |             2.0 |           7.8 |          138 |          256 |            1 |        5.2 |        31.25 |\n",
       "|        1 | 2022-03-01 00:07:49 | 2022-03-01 00:30:48 |             1.0 |          16.6 |          132 |          233 |            1 |       12.6 |         75.7 |\n",
       "|        2 | 2022-03-01 00:10:03 | 2022-03-01 00:15:13 |             1.0 |           1.5 |          141 |           75 |            1 |       2.06 |        12.36 |\n",
       "|        2 | 2022-03-01 00:00:49 | 2022-03-01 00:05:46 |             2.0 |          1.51 |          141 |          162 |            2 |        0.0 |         10.3 |\n",
       "|        2 | 2022-03-01 00:07:16 | 2022-03-01 00:17:59 |             2.0 |          3.13 |          162 |          231 |            1 |       4.44 |        19.24 |\n",
       "|        2 | 2022-03-01 00:56:25 | 2022-03-01 01:20:33 |             2.0 |          7.24 |           79 |          152 |            1 |       5.36 |        32.16 |\n",
       "|        2 | 2022-03-01 00:02:00 | 2022-03-01 00:18:26 |             2.0 |          4.07 |          114 |          239 |            2 |        0.0 |         18.8 |\n",
       "|        2 | 2022-03-01 00:47:18 | 2022-03-01 01:05:13 |             1.0 |          4.61 |           48 |            7 |            1 |        2.0 |         23.3 |\n",
       "|        2 | 2022-03-01 00:18:57 | 2022-03-01 00:50:15 |             1.0 |         18.57 |          132 |           75 |            1 |       12.5 |         73.1 |\n",
       "|        2 | 2022-03-01 00:41:08 | 2022-03-01 00:55:10 |             1.0 |          2.42 |          107 |           50 |            1 |       3.06 |        18.36 |\n",
       "|        2 | 2022-03-01 00:16:38 | 2022-03-01 00:42:42 |             1.0 |          8.94 |          138 |          238 |            4 |        0.0 |        -40.6 |\n",
       "|        2 | 2022-03-01 00:16:38 | 2022-03-01 00:42:42 |             1.0 |          8.94 |          138 |          238 |            2 |        0.0 |         40.6 |\n",
       "|        2 | 2022-03-01 00:15:16 | 2022-03-01 00:31:38 |             1.0 |          3.97 |          239 |           42 |            2 |        0.0 |         17.8 |\n",
       "|        2 | 2022-03-01 00:52:50 | 2022-03-01 01:04:03 |             1.0 |          5.64 |           48 |          116 |            1 |       3.74 |        24.54 |\n",
       "+----------+---------------------+---------------------+-----------------+---------------+--------------+--------------+--------------+------------+--------------+"
      ]
     },
     "execution_count": 37,
     "metadata": {},
     "output_type": "execute_result"
    }
   ],
   "source": [
    "%%sql \n",
    "\n",
    "SELECT *\n",
    "FROM nyc.taxis"
   ]
  },
  {
   "cell_type": "code",
   "execution_count": 43,
   "id": "5d143977-1cb3-48fc-85b9-6bcf477d5606",
   "metadata": {},
   "outputs": [
    {
     "data": {
      "text/html": [
       "<table>\n",
       "    <thead>\n",
       "        <tr>\n",
       "        </tr>\n",
       "    </thead>\n",
       "    <tbody>\n",
       "    </tbody>\n",
       "</table>"
      ],
      "text/plain": [
       "++\n",
       "||\n",
       "++\n",
       "++"
      ]
     },
     "execution_count": 43,
     "metadata": {},
     "output_type": "execute_result"
    }
   ],
   "source": [
    "%%sql\n",
    "\n",
    "INSERT INTO nyc.taxis\n",
    "VALUES (1, timestamp('2999-01-01 00:00:00'), timestamp('3000-01-01 00:00:00'), 1, 1, 1, 1, 1, 0, 0);"
   ]
  },
  {
   "cell_type": "markdown",
   "id": "1df51864-6f01-45d6-ab67-2b95f876f6c1",
   "metadata": {},
   "source": [
    "Проверим, что данные вставились"
   ]
  },
  {
   "cell_type": "code",
   "execution_count": 44,
   "id": "433a9600-0357-4df2-9a7a-4fa0863fbe74",
   "metadata": {},
   "outputs": [
    {
     "name": "stderr",
     "output_type": "stream",
     "text": [
      "                                                                                \r"
     ]
    },
    {
     "data": {
      "text/html": [
       "<table>\n",
       "    <thead>\n",
       "        <tr>\n",
       "            <th>VendorID</th>\n",
       "            <th>pickup_datetime</th>\n",
       "            <th>dropoff_datetime</th>\n",
       "            <th>passenger_count</th>\n",
       "            <th>trip_distance</th>\n",
       "            <th>PULocationID</th>\n",
       "            <th>DOLocationID</th>\n",
       "            <th>payment_type</th>\n",
       "            <th>tip_amount</th>\n",
       "            <th>total_amount</th>\n",
       "        </tr>\n",
       "    </thead>\n",
       "    <tbody>\n",
       "        <tr>\n",
       "            <td>1</td>\n",
       "            <td>2999-01-01 00:00:00</td>\n",
       "            <td>3000-01-01 00:00:00</td>\n",
       "            <td>1.0</td>\n",
       "            <td>1.0</td>\n",
       "            <td>1</td>\n",
       "            <td>1</td>\n",
       "            <td>1</td>\n",
       "            <td>0.0</td>\n",
       "            <td>0.0</td>\n",
       "        </tr>\n",
       "        <tr>\n",
       "            <td>1</td>\n",
       "            <td>2999-01-01 00:00:00</td>\n",
       "            <td>None</td>\n",
       "            <td>1.0</td>\n",
       "            <td>1.0</td>\n",
       "            <td>1</td>\n",
       "            <td>1</td>\n",
       "            <td>1</td>\n",
       "            <td>0.0</td>\n",
       "            <td>0.0</td>\n",
       "        </tr>\n",
       "        <tr>\n",
       "            <td>1</td>\n",
       "            <td>2999-01-01 00:00:00</td>\n",
       "            <td>None</td>\n",
       "            <td>1.0</td>\n",
       "            <td>1.0</td>\n",
       "            <td>1</td>\n",
       "            <td>1</td>\n",
       "            <td>1</td>\n",
       "            <td>0.0</td>\n",
       "            <td>0.0</td>\n",
       "        </tr>\n",
       "    </tbody>\n",
       "</table>"
      ],
      "text/plain": [
       "+----------+---------------------+---------------------+-----------------+---------------+--------------+--------------+--------------+------------+--------------+\n",
       "| VendorID |     pickup_datetime |    dropoff_datetime | passenger_count | trip_distance | PULocationID | DOLocationID | payment_type | tip_amount | total_amount |\n",
       "+----------+---------------------+---------------------+-----------------+---------------+--------------+--------------+--------------+------------+--------------+\n",
       "|        1 | 2999-01-01 00:00:00 | 3000-01-01 00:00:00 |             1.0 |           1.0 |            1 |            1 |            1 |        0.0 |          0.0 |\n",
       "|        1 | 2999-01-01 00:00:00 |                None |             1.0 |           1.0 |            1 |            1 |            1 |        0.0 |          0.0 |\n",
       "|        1 | 2999-01-01 00:00:00 |                None |             1.0 |           1.0 |            1 |            1 |            1 |        0.0 |          0.0 |\n",
       "+----------+---------------------+---------------------+-----------------+---------------+--------------+--------------+--------------+------------+--------------+"
      ]
     },
     "execution_count": 44,
     "metadata": {},
     "output_type": "execute_result"
    }
   ],
   "source": [
    "%%sql\n",
    "\n",
    "SELECT *\n",
    "FROM nyc.taxis\n",
    "WHERE year(pickup_datetime) == 2999"
   ]
  },
  {
   "cell_type": "markdown",
   "id": "022db6a5-fb28-482a-9b44-25fb88d373b4",
   "metadata": {},
   "source": [
    "Данные вставились корректно"
   ]
  },
  {
   "cell_type": "code",
   "execution_count": 47,
   "id": "0d4aa36a-1432-47ca-b5aa-a152deb94bbf",
   "metadata": {},
   "outputs": [
    {
     "data": {
      "text/html": [
       "<table>\n",
       "    <thead>\n",
       "        <tr>\n",
       "            <th>committed_at</th>\n",
       "            <th>snapshot_id</th>\n",
       "            <th>parent_id</th>\n",
       "            <th>operation</th>\n",
       "            <th>manifest_list</th>\n",
       "            <th>summary</th>\n",
       "        </tr>\n",
       "    </thead>\n",
       "    <tbody>\n",
       "        <tr>\n",
       "            <td>2024-11-19 13:07:51.509000</td>\n",
       "            <td>8867405477361775537</td>\n",
       "            <td>None</td>\n",
       "            <td>append</td>\n",
       "            <td>s3://warehouse/nyc/taxis/metadata/snap-8867405477361775537-1-efe121d5-6281-4a5f-8ed0-08a716d1dade.avro</td>\n",
       "            <td>{&#x27;spark.app.id&#x27;: &#x27;local-1732021182220&#x27;, &#x27;changed-partition-count&#x27;: &#x27;1&#x27;, &#x27;added-data-files&#x27;: &#x27;2&#x27;, &#x27;total-equality-deletes&#x27;: &#x27;0&#x27;, &#x27;added-records&#x27;: &#x27;38908423&#x27;, &#x27;total-position-deletes&#x27;: &#x27;0&#x27;, &#x27;added-files-size&#x27;: &#x27;600144900&#x27;, &#x27;total-delete-files&#x27;: &#x27;0&#x27;, &#x27;total-files-size&#x27;: &#x27;600144900&#x27;, &#x27;total-records&#x27;: &#x27;38908423&#x27;, &#x27;total-data-files&#x27;: &#x27;2&#x27;}</td>\n",
       "        </tr>\n",
       "        <tr>\n",
       "            <td>2024-11-19 13:26:48.341000</td>\n",
       "            <td>6185280295707655119</td>\n",
       "            <td>8867405477361775537</td>\n",
       "            <td>append</td>\n",
       "            <td>s3://warehouse/nyc/taxis/metadata/snap-6185280295707655119-1-3fd1d21b-c4c0-4a0b-8bc3-73832a5bd280.avro</td>\n",
       "            <td>{&#x27;spark.app.id&#x27;: &#x27;local-1732021182220&#x27;, &#x27;changed-partition-count&#x27;: &#x27;1&#x27;, &#x27;added-data-files&#x27;: &#x27;1&#x27;, &#x27;total-equality-deletes&#x27;: &#x27;0&#x27;, &#x27;added-records&#x27;: &#x27;1&#x27;, &#x27;total-position-deletes&#x27;: &#x27;0&#x27;, &#x27;added-files-size&#x27;: &#x27;2870&#x27;, &#x27;total-delete-files&#x27;: &#x27;0&#x27;, &#x27;total-files-size&#x27;: &#x27;600147770&#x27;, &#x27;total-records&#x27;: &#x27;38908424&#x27;, &#x27;total-data-files&#x27;: &#x27;3&#x27;}</td>\n",
       "        </tr>\n",
       "        <tr>\n",
       "            <td>2024-11-19 13:28:22.704000</td>\n",
       "            <td>56325367639566605</td>\n",
       "            <td>6185280295707655119</td>\n",
       "            <td>append</td>\n",
       "            <td>s3://warehouse/nyc/taxis/metadata/snap-56325367639566605-1-d1640faa-5d2a-43f9-b43e-1959c090a27c.avro</td>\n",
       "            <td>{&#x27;spark.app.id&#x27;: &#x27;local-1732021182220&#x27;, &#x27;changed-partition-count&#x27;: &#x27;1&#x27;, &#x27;added-data-files&#x27;: &#x27;1&#x27;, &#x27;total-equality-deletes&#x27;: &#x27;0&#x27;, &#x27;added-records&#x27;: &#x27;1&#x27;, &#x27;total-position-deletes&#x27;: &#x27;0&#x27;, &#x27;added-files-size&#x27;: &#x27;2870&#x27;, &#x27;total-delete-files&#x27;: &#x27;0&#x27;, &#x27;total-files-size&#x27;: &#x27;600150640&#x27;, &#x27;total-records&#x27;: &#x27;38908425&#x27;, &#x27;total-data-files&#x27;: &#x27;4&#x27;}</td>\n",
       "        </tr>\n",
       "        <tr>\n",
       "            <td>2024-11-19 13:28:51.894000</td>\n",
       "            <td>1638052002034642056</td>\n",
       "            <td>56325367639566605</td>\n",
       "            <td>append</td>\n",
       "            <td>s3://warehouse/nyc/taxis/metadata/snap-1638052002034642056-1-1d622acb-665a-4209-b1f9-c7320138b0a3.avro</td>\n",
       "            <td>{&#x27;spark.app.id&#x27;: &#x27;local-1732021182220&#x27;, &#x27;changed-partition-count&#x27;: &#x27;1&#x27;, &#x27;added-data-files&#x27;: &#x27;1&#x27;, &#x27;total-equality-deletes&#x27;: &#x27;0&#x27;, &#x27;added-records&#x27;: &#x27;1&#x27;, &#x27;total-position-deletes&#x27;: &#x27;0&#x27;, &#x27;added-files-size&#x27;: &#x27;2934&#x27;, &#x27;total-delete-files&#x27;: &#x27;0&#x27;, &#x27;total-files-size&#x27;: &#x27;600153574&#x27;, &#x27;total-records&#x27;: &#x27;38908426&#x27;, &#x27;total-data-files&#x27;: &#x27;5&#x27;}</td>\n",
       "        </tr>\n",
       "    </tbody>\n",
       "</table>"
      ],
      "text/plain": [
       "+----------------------------+---------------------+---------------------+-----------+--------------------------------------------------------------------------------------------------------+------------------------------------------------------------------------------------------------------------------------------------------------------------------------------------------------------------------------------------------------------------------------------------------------------------------------------------------------+\n",
       "|               committed_at |         snapshot_id |           parent_id | operation |                                                                                          manifest_list |                                                                                                                                                                                                                                                                                                                                        summary |\n",
       "+----------------------------+---------------------+---------------------+-----------+--------------------------------------------------------------------------------------------------------+------------------------------------------------------------------------------------------------------------------------------------------------------------------------------------------------------------------------------------------------------------------------------------------------------------------------------------------------+\n",
       "| 2024-11-19 13:07:51.509000 | 8867405477361775537 |                None |    append | s3://warehouse/nyc/taxis/metadata/snap-8867405477361775537-1-efe121d5-6281-4a5f-8ed0-08a716d1dade.avro | {'spark.app.id': 'local-1732021182220', 'changed-partition-count': '1', 'added-data-files': '2', 'total-equality-deletes': '0', 'added-records': '38908423', 'total-position-deletes': '0', 'added-files-size': '600144900', 'total-delete-files': '0', 'total-files-size': '600144900', 'total-records': '38908423', 'total-data-files': '2'} |\n",
       "| 2024-11-19 13:26:48.341000 | 6185280295707655119 | 8867405477361775537 |    append | s3://warehouse/nyc/taxis/metadata/snap-6185280295707655119-1-3fd1d21b-c4c0-4a0b-8bc3-73832a5bd280.avro |             {'spark.app.id': 'local-1732021182220', 'changed-partition-count': '1', 'added-data-files': '1', 'total-equality-deletes': '0', 'added-records': '1', 'total-position-deletes': '0', 'added-files-size': '2870', 'total-delete-files': '0', 'total-files-size': '600147770', 'total-records': '38908424', 'total-data-files': '3'} |\n",
       "| 2024-11-19 13:28:22.704000 |   56325367639566605 | 6185280295707655119 |    append |   s3://warehouse/nyc/taxis/metadata/snap-56325367639566605-1-d1640faa-5d2a-43f9-b43e-1959c090a27c.avro |             {'spark.app.id': 'local-1732021182220', 'changed-partition-count': '1', 'added-data-files': '1', 'total-equality-deletes': '0', 'added-records': '1', 'total-position-deletes': '0', 'added-files-size': '2870', 'total-delete-files': '0', 'total-files-size': '600150640', 'total-records': '38908425', 'total-data-files': '4'} |\n",
       "| 2024-11-19 13:28:51.894000 | 1638052002034642056 |   56325367639566605 |    append | s3://warehouse/nyc/taxis/metadata/snap-1638052002034642056-1-1d622acb-665a-4209-b1f9-c7320138b0a3.avro |             {'spark.app.id': 'local-1732021182220', 'changed-partition-count': '1', 'added-data-files': '1', 'total-equality-deletes': '0', 'added-records': '1', 'total-position-deletes': '0', 'added-files-size': '2934', 'total-delete-files': '0', 'total-files-size': '600153574', 'total-records': '38908426', 'total-data-files': '5'} |\n",
       "+----------------------------+---------------------+---------------------+-----------+--------------------------------------------------------------------------------------------------------+------------------------------------------------------------------------------------------------------------------------------------------------------------------------------------------------------------------------------------------------------------------------------------------------------------------------------------------------+"
      ]
     },
     "execution_count": 47,
     "metadata": {},
     "output_type": "execute_result"
    }
   ],
   "source": [
    "%%sql\n",
    "\n",
    "SELECT *\n",
    "FROM nyc.taxis.snapshots"
   ]
  },
  {
   "cell_type": "markdown",
   "id": "d0a09fd3-0f17-4186-9c10-f9d347351c81",
   "metadata": {},
   "source": [
    "Теперь у нас несколько снэпшотов"
   ]
  },
  {
   "cell_type": "markdown",
   "id": "de5074f7-f6e7-47bd-a6eb-a38fc73b23d5",
   "metadata": {},
   "source": [
    "Посмотрим на таблицу `history`"
   ]
  },
  {
   "cell_type": "code",
   "execution_count": 48,
   "id": "ec3e7168-7125-4cf3-ab0d-1447c4bcd302",
   "metadata": {},
   "outputs": [
    {
     "data": {
      "text/html": [
       "<table>\n",
       "    <thead>\n",
       "        <tr>\n",
       "            <th>made_current_at</th>\n",
       "            <th>snapshot_id</th>\n",
       "            <th>parent_id</th>\n",
       "            <th>is_current_ancestor</th>\n",
       "        </tr>\n",
       "    </thead>\n",
       "    <tbody>\n",
       "        <tr>\n",
       "            <td>2024-11-19 13:07:51.509000</td>\n",
       "            <td>8867405477361775537</td>\n",
       "            <td>None</td>\n",
       "            <td>True</td>\n",
       "        </tr>\n",
       "        <tr>\n",
       "            <td>2024-11-19 13:26:48.341000</td>\n",
       "            <td>6185280295707655119</td>\n",
       "            <td>8867405477361775537</td>\n",
       "            <td>True</td>\n",
       "        </tr>\n",
       "        <tr>\n",
       "            <td>2024-11-19 13:28:22.704000</td>\n",
       "            <td>56325367639566605</td>\n",
       "            <td>6185280295707655119</td>\n",
       "            <td>True</td>\n",
       "        </tr>\n",
       "        <tr>\n",
       "            <td>2024-11-19 13:28:51.894000</td>\n",
       "            <td>1638052002034642056</td>\n",
       "            <td>56325367639566605</td>\n",
       "            <td>True</td>\n",
       "        </tr>\n",
       "    </tbody>\n",
       "</table>"
      ],
      "text/plain": [
       "+----------------------------+---------------------+---------------------+---------------------+\n",
       "|            made_current_at |         snapshot_id |           parent_id | is_current_ancestor |\n",
       "+----------------------------+---------------------+---------------------+---------------------+\n",
       "| 2024-11-19 13:07:51.509000 | 8867405477361775537 |                None |                True |\n",
       "| 2024-11-19 13:26:48.341000 | 6185280295707655119 | 8867405477361775537 |                True |\n",
       "| 2024-11-19 13:28:22.704000 |   56325367639566605 | 6185280295707655119 |                True |\n",
       "| 2024-11-19 13:28:51.894000 | 1638052002034642056 |   56325367639566605 |                True |\n",
       "+----------------------------+---------------------+---------------------+---------------------+"
      ]
     },
     "execution_count": 48,
     "metadata": {},
     "output_type": "execute_result"
    }
   ],
   "source": [
    "%%sql\n",
    "\n",
    "SELECT *\n",
    "FROM nyc.taxis.history"
   ]
  },
  {
   "cell_type": "markdown",
   "id": "139ea4b4-bceb-48b9-a167-2d06c93df848",
   "metadata": {},
   "source": [
    "Откатим изменения"
   ]
  },
  {
   "cell_type": "code",
   "execution_count": 49,
   "id": "e7dcbd73-fe13-40ba-94a1-f0ddb65ba7a9",
   "metadata": {},
   "outputs": [
    {
     "data": {
      "text/plain": [
       "DataFrame[previous_snapshot_id: bigint, current_snapshot_id: bigint]"
      ]
     },
     "execution_count": 49,
     "metadata": {},
     "output_type": "execute_result"
    }
   ],
   "source": [
    "spark.sql(f\"CALL system.rollback_to_snapshot('nyc.taxis', {current_snapshot})\")"
   ]
  },
  {
   "cell_type": "markdown",
   "id": "f5c936b9-f16c-4a0c-9e45-e1919e831bb2",
   "metadata": {},
   "source": [
    "Проверим"
   ]
  },
  {
   "cell_type": "code",
   "execution_count": 51,
   "id": "05a7dcbf-ceac-40d6-9f24-1fcd82ddf3de",
   "metadata": {},
   "outputs": [
    {
     "name": "stderr",
     "output_type": "stream",
     "text": [
      "                                                                                \r"
     ]
    },
    {
     "data": {
      "text/html": [
       "<table>\n",
       "    <thead>\n",
       "        <tr>\n",
       "            <th>VendorID</th>\n",
       "            <th>pickup_datetime</th>\n",
       "            <th>dropoff_datetime</th>\n",
       "            <th>passenger_count</th>\n",
       "            <th>trip_distance</th>\n",
       "            <th>PULocationID</th>\n",
       "            <th>DOLocationID</th>\n",
       "            <th>payment_type</th>\n",
       "            <th>tip_amount</th>\n",
       "            <th>total_amount</th>\n",
       "        </tr>\n",
       "    </thead>\n",
       "    <tbody>\n",
       "    </tbody>\n",
       "</table>"
      ],
      "text/plain": [
       "+----------+-----------------+------------------+-----------------+---------------+--------------+--------------+--------------+------------+--------------+\n",
       "| VendorID | pickup_datetime | dropoff_datetime | passenger_count | trip_distance | PULocationID | DOLocationID | payment_type | tip_amount | total_amount |\n",
       "+----------+-----------------+------------------+-----------------+---------------+--------------+--------------+--------------+------------+--------------+\n",
       "+----------+-----------------+------------------+-----------------+---------------+--------------+--------------+--------------+------------+--------------+"
      ]
     },
     "execution_count": 51,
     "metadata": {},
     "output_type": "execute_result"
    }
   ],
   "source": [
    "%%sql\n",
    "\n",
    "SELECT *\n",
    "FROM nyc.taxis\n",
    "WHERE year(pickup_datetime) == 2999"
   ]
  },
  {
   "cell_type": "markdown",
   "id": "0f0cfef7-1aa7-4241-b6ba-5417450205c1",
   "metadata": {},
   "source": [
    "### Таблицы `files`, `partitions`, `history`"
   ]
  },
  {
   "cell_type": "code",
   "execution_count": 52,
   "id": "ba118956-bd32-490e-8755-51bbe6c1d8c9",
   "metadata": {
    "scrolled": true
   },
   "outputs": [
    {
     "data": {
      "text/html": [
       "<table>\n",
       "    <thead>\n",
       "        <tr>\n",
       "            <th>content</th>\n",
       "            <th>file_path</th>\n",
       "            <th>file_format</th>\n",
       "            <th>spec_id</th>\n",
       "            <th>record_count</th>\n",
       "            <th>file_size_in_bytes</th>\n",
       "            <th>column_sizes</th>\n",
       "            <th>value_counts</th>\n",
       "            <th>null_value_counts</th>\n",
       "            <th>nan_value_counts</th>\n",
       "            <th>lower_bounds</th>\n",
       "            <th>upper_bounds</th>\n",
       "            <th>key_metadata</th>\n",
       "            <th>split_offsets</th>\n",
       "            <th>equality_ids</th>\n",
       "            <th>sort_order_id</th>\n",
       "            <th>readable_metrics</th>\n",
       "        </tr>\n",
       "    </thead>\n",
       "    <tbody>\n",
       "        <tr>\n",
       "            <td>0</td>\n",
       "            <td>s3://warehouse/nyc/taxis/data/00000-171-24e86526-5b86-4e6e-94a5-568aebe6463d-0-00001.parquet</td>\n",
       "            <td>PARQUET</td>\n",
       "            <td>0</td>\n",
       "            <td>34839000</td>\n",
       "            <td>537836059</td>\n",
       "            <td>{1: 4477105, 2: 124921006, 3: 128238855, 4: 7142554, 5: 50313194, 6: 2346836, 7: 1072171, 8: 30900499, 9: 34818710, 10: 5835024, 11: 38041573, 12: 8621736, 13: 1106014, 14: 37553838, 15: 4321021, 16: 609971, 17: 50377877, 18: 3336738, 19: 2653707}</td>\n",
       "            <td>{1: 34839000, 2: 34839000, 3: 34839000, 4: 34839000, 5: 34839000, 6: 34839000, 7: 34839000, 8: 34839000, 9: 34839000, 10: 34839000, 11: 34839000, 12: 34839000, 13: 34839000, 14: 34839000, 15: 34839000, 16: 34839000, 17: 34839000, 18: 34839000, 19: 34839000}</td>\n",
       "            <td>{1: 0, 2: 0, 3: 0, 4: 1293232, 5: 0, 6: 1293232, 7: 1293232, 8: 0, 9: 0, 10: 0, 11: 0, 12: 0, 13: 0, 14: 0, 15: 0, 16: 0, 17: 0, 18: 1293232, 19: 1293280}</td>\n",
       "            <td>{16: 0, 17: 0, 18: 0, 19: 0, 4: 0, 5: 0, 6: 0, 11: 0, 12: 0, 13: 0, 14: 0, 15: 0}</td>\n",
       "            <td>{1: bytearray(b&#x27;\\x01\\x00\\x00\\x00\\x00\\x00\\x00\\x00&#x27;), 2: bytearray(b&#x27;@\\x03\\x06\\x844\\xc1\\x05\\x00&#x27;), 3: bytearray(b&#x27;@U\\xc2\\x934\\xc1\\x05\\x00&#x27;), 4: bytearray(b&#x27;\\x00\\x00\\x00\\x00\\x00\\x00\\x00\\x00&#x27;), 5: bytearray(b&#x27;\\x00\\x00\\x00\\x00\\x00\\x00\\x00\\x00&#x27;), 6: bytearray(b&#x27;\\x00\\x00\\x00\\x00\\x00\\x00\\xf0?&#x27;), 7: bytearray(b&#x27;N&#x27;), 8: bytearray(b&#x27;\\x01\\x00\\x00\\x00\\x00\\x00\\x00\\x00&#x27;), 9: bytearray(b&#x27;\\x01\\x00\\x00\\x00\\x00\\x00\\x00\\x00&#x27;), 10: bytearray(b&#x27;\\x00\\x00\\x00\\x00\\x00\\x00\\x00\\x00&#x27;), 11: bytearray(b&#x27;\\x00\\x00\\x00\\x00\\x00\\x08\\xa4\\xc0&#x27;), 12: bytearray(b&#x27;\\x00\\x00\\x00\\x00\\x00\\x00\\x16\\xc0&#x27;), 13: bytearray(b&#x27;\\x9a\\x99\\x99\\x99\\x99\\x99\\xe1\\xbf&#x27;), 14: bytearray(b&#x27;\\x00\\x00\\x00\\x00\\x00\\xa0y\\xc0&#x27;), 15: bytearray(b&#x27;\\x00\\x00\\x00\\x00\\x000V\\xc0&#x27;), 16: bytearray(b&#x27;333333\\xd3\\xbf&#x27;), 17: bytearray(b&#x27;\\x9a\\x99\\x99\\x99\\x99\\x0f\\xa4\\xc0&#x27;), 18: bytearray(b&#x27;\\x00\\x00\\x00\\x00\\x00\\x00\\x04\\xc0&#x27;), 19: bytearray(b&#x27;\\x00\\x00\\x00\\x00\\x00\\x00\\xf4\\xbf&#x27;)}</td>\n",
       "            <td>{1: bytearray(b&#x27;\\x06\\x00\\x00\\x00\\x00\\x00\\x00\\x00&#x27;), 2: bytearray(b&#x27;\\xc0\\x1d\\xdf\\xf4\\xe7\\xdd\\x05\\x00&#x27;), 3: bytearray(b&#x27;\\x00\\xa6\\x9c\\xe2\\xfb\\xdd\\x05\\x00&#x27;), 4: bytearray(b&#x27;\\x00\\x00\\x00\\x00\\x00\\x00\\\\@&#x27;), 5: bytearray(b&#x27;\\n\\xd7\\xa3p\\xf5u\\x15A&#x27;), 6: bytearray(b&#x27;\\x00\\x00\\x00\\x00\\x00\\xc0X@&#x27;), 7: bytearray(b&#x27;Y&#x27;), 8: bytearray(b&#x27;\\t\\x01\\x00\\x00\\x00\\x00\\x00\\x00&#x27;), 9: bytearray(b&#x27;\\t\\x01\\x00\\x00\\x00\\x00\\x00\\x00&#x27;), 10: bytearray(b&#x27;\\x05\\x00\\x00\\x00\\x00\\x00\\x00\\x00&#x27;), 11: bytearray(b&#x27;\\x14\\xaeG\\xe1\\xd6\\xf8(A&#x27;), 12: bytearray(b&#x27;\\xa4p=\\n\\xd7\\x83V@&#x27;), 13: bytearray(b&#x27;ffffffC@&#x27;), 14: bytearray(b&#x27;R\\xb8\\x1e\\x85\\xeb?\\x8f@&#x27;), 15: bytearray(b&#x27;fffff\\xe4\\x8d@&#x27;), 16: bytearray(b&#x27;333333\\xd3?&#x27;), 17: bytearray(b&#x27;\\xaeG\\xe1z\\xdd\\xf8(A&#x27;), 18: bytearray(b&#x27;\\x00\\x00\\x00\\x00\\x00\\x00\\x06@&#x27;), 19: bytearray(b&#x27;\\x00\\x00\\x00\\x00\\x00\\x00\\xf4?&#x27;)}</td>\n",
       "            <td>None</td>\n",
       "            <td>[4, 135022197, 270113232, 405249937]</td>\n",
       "            <td>None</td>\n",
       "            <td>0</td>\n",
       "            <td>Row(DOLocationID=Row(column_size=34818710, value_count=34839000, null_value_count=0, nan_value_count=None, lower_bound=1, upper_bound=265), PULocationID=Row(column_size=30900499, value_count=34839000, null_value_count=0, nan_value_count=None, lower_bound=1, upper_bound=265), VendorID=Row(column_size=4477105, value_count=34839000, null_value_count=0, nan_value_count=None, lower_bound=1, upper_bound=6), dropoff_datetime=Row(column_size=128238855, value_count=34839000, null_value_count=0, nan_value_count=None, lower_bound=datetime.datetime(2021, 4, 30, 18, 14, 5), upper_bound=datetime.datetime(2022, 5, 1, 23, 46, 32)), passenger_count=Row(column_size=7142554, value_count=34839000, null_value_count=1293232, nan_value_count=0, lower_bound=0.0, upper_bound=112.0), payment_type=Row(column_size=5835024, value_count=34839000, null_value_count=0, nan_value_count=None, lower_bound=0, upper_bound=5), pickup_datetime=Row(column_size=124921006, value_count=34839000, null_value_count=0, nan_value_count=None, lower_bound=datetime.datetime(2021, 4, 30, 18, 9, 41), upper_bound=datetime.datetime(2022, 4, 30, 23, 59, 59)), tip_amount=Row(column_size=37553838, value_count=34839000, null_value_count=0, nan_value_count=0, lower_bound=-410.0, upper_bound=999.99), total_amount=Row(column_size=50377877, value_count=34839000, null_value_count=0, nan_value_count=0, lower_bound=-2567.8, upper_bound=818286.74), trip_distance=Row(column_size=50313194, value_count=34839000, null_value_count=0, nan_value_count=0, lower_bound=0.0, upper_bound=351613.36))</td>\n",
       "        </tr>\n",
       "        <tr>\n",
       "            <td>0</td>\n",
       "            <td>s3://warehouse/nyc/taxis/data/00000-171-24e86526-5b86-4e6e-94a5-568aebe6463d-0-00002.parquet</td>\n",
       "            <td>PARQUET</td>\n",
       "            <td>0</td>\n",
       "            <td>4069423</td>\n",
       "            <td>62308841</td>\n",
       "            <td>{1: 515952, 2: 14980649, 3: 15328049, 4: 819560, 5: 5746861, 6: 199845, 7: 108911, 8: 3447653, 9: 3818065, 10: 634132, 11: 4385101, 12: 974817, 13: 105600, 14: 4147042, 15: 431999, 16: 66383, 17: 5850063, 18: 388043, 19: 226608}</td>\n",
       "            <td>{1: 4069423, 2: 4069423, 3: 4069423, 4: 4069423, 5: 4069423, 6: 4069423, 7: 4069423, 8: 4069423, 9: 4069423, 10: 4069423, 11: 4069423, 12: 4069423, 13: 4069423, 14: 4069423, 15: 4069423, 16: 4069423, 17: 4069423, 18: 4069423, 19: 4069423}</td>\n",
       "            <td>{1: 0, 2: 0, 3: 0, 4: 270874, 5: 0, 6: 270874, 7: 270874, 8: 0, 9: 0, 10: 0, 11: 0, 12: 0, 13: 0, 14: 0, 15: 0, 16: 0, 17: 0, 18: 270874, 19: 270950}</td>\n",
       "            <td>{16: 0, 17: 0, 18: 0, 19: 0, 4: 0, 5: 0, 6: 0, 11: 0, 12: 0, 13: 0, 14: 0, 15: 0}</td>\n",
       "            <td>{1: bytearray(b&#x27;\\x01\\x00\\x00\\x00\\x00\\x00\\x00\\x00&#x27;), 2: bytearray(b&#x27;\\xc0\\x06\\xcb\\xe9\\xdd\\xbe\\x05\\x00&#x27;), 3: bytearray(b&#x27;\\x008\\xf7\\xf6\\xdd\\xbe\\x05\\x00&#x27;), 4: bytearray(b&#x27;\\x00\\x00\\x00\\x00\\x00\\x00\\x00\\x00&#x27;), 5: bytearray(b&#x27;\\x00\\x00\\x00\\x00\\x00\\x00\\x00\\x00&#x27;), 6: bytearray(b&#x27;\\x00\\x00\\x00\\x00\\x00\\x00\\xf0?&#x27;), 7: bytearray(b&#x27;N&#x27;), 8: bytearray(b&#x27;\\x01\\x00\\x00\\x00\\x00\\x00\\x00\\x00&#x27;), 9: bytearray(b&#x27;\\x01\\x00\\x00\\x00\\x00\\x00\\x00\\x00&#x27;), 10: bytearray(b&#x27;\\x00\\x00\\x00\\x00\\x00\\x00\\x00\\x00&#x27;), 11: bytearray(b&#x27;\\x00\\x00\\x00\\x00\\x00\\xf0y\\xc0&#x27;), 12: bytearray(b&#x27;\\x00\\x00\\x00\\x00\\x00\\x00\\x16\\xc0&#x27;), 13: bytearray(b&#x27;\\x00\\x00\\x00\\x00\\x00\\x00\\xe0\\xbf&#x27;), 14: bytearray(b&#x27;\\x85\\xebQ\\xb8\\x1e\\xd5t\\xc0&#x27;), 15: bytearray(b&#x27;\\x00\\x00\\x00\\x00\\x00\\xc0?\\xc0&#x27;), 16: bytearray(b&#x27;333333\\xd3\\xbf&#x27;), 17: bytearray(b&#x27;\\xcd\\xcc\\xcc\\xcc\\xcc\\xf4y\\xc0&#x27;), 18: bytearray(b&#x27;\\x00\\x00\\x00\\x00\\x00\\x00\\x04\\xc0&#x27;), 19: bytearray(b&#x27;\\x00\\x00\\x00\\x00\\x00\\x00\\xf4\\xbf&#x27;)}</td>\n",
       "            <td>{1: bytearray(b&#x27;\\x06\\x00\\x00\\x00\\x00\\x00\\x00\\x00&#x27;), 2: bytearray(b&#x27;\\x80\\xc6\\xccDM\\xcd\\x05\\x00&#x27;), 3: bytearray(b&#x27;\\xc0\\xfc\\xc3NS\\xcd\\x05\\x00&#x27;), 4: bytearray(b&#x27;\\x00\\x00\\x00\\x00\\x00\\x00&quot;@&#x27;), 5: bytearray(b&#x27;\\xcd\\xcc\\xcc\\xcc\\xf9[\\x13A&#x27;), 6: bytearray(b&#x27;\\x00\\x00\\x00\\x00\\x00\\xc0X@&#x27;), 7: bytearray(b&#x27;Y&#x27;), 8: bytearray(b&#x27;\\t\\x01\\x00\\x00\\x00\\x00\\x00\\x00&#x27;), 9: bytearray(b&#x27;\\t\\x01\\x00\\x00\\x00\\x00\\x00\\x00&#x27;), 10: bytearray(b&#x27;\\x04\\x00\\x00\\x00\\x00\\x00\\x00\\x00&#x27;), 11: bytearray(b&#x27;)\\\\\\x8f\\xc29)\\x18A&#x27;), 12: bytearray(b&#x27;\\x9a\\x99\\x99\\x99\\x99\\x19#@&#x27;), 13: bytearray(b&#x27;ffffff\\n@&#x27;), 14: bytearray(b&#x27;\\x00\\x00\\x00\\x00\\x00\\xc0w@&#x27;), 15: bytearray(b&#x27;fffffz\\x8c@&#x27;), 16: bytearray(b&#x27;333333\\xd3?&#x27;), 17: bytearray(b&#x27;\\\\\\x8f\\xc2\\xf5:)\\x18A&#x27;), 18: bytearray(b&#x27;\\x00\\x00\\x00\\x00\\x00\\x00\\x06@&#x27;), 19: bytearray(b&#x27;\\x00\\x00\\x00\\x00\\x00\\x00\\xf4?&#x27;)}</td>\n",
       "            <td>None</td>\n",
       "            <td>[4]</td>\n",
       "            <td>None</td>\n",
       "            <td>0</td>\n",
       "            <td>Row(DOLocationID=Row(column_size=3818065, value_count=4069423, null_value_count=0, nan_value_count=None, lower_bound=1, upper_bound=265), PULocationID=Row(column_size=3447653, value_count=4069423, null_value_count=0, nan_value_count=None, lower_bound=1, upper_bound=265), VendorID=Row(column_size=515952, value_count=4069423, null_value_count=0, nan_value_count=None, lower_bound=1, upper_bound=6), dropoff_datetime=Row(column_size=15328049, value_count=4069423, null_value_count=0, nan_value_count=None, lower_bound=datetime.datetime(2021, 4, 1, 0, 3, 44), upper_bound=datetime.datetime(2021, 10, 1, 23, 56, 11)), passenger_count=Row(column_size=819560, value_count=4069423, null_value_count=270874, nan_value_count=0, lower_bound=0.0, upper_bound=9.0), payment_type=Row(column_size=634132, value_count=4069423, null_value_count=0, nan_value_count=None, lower_bound=0, upper_bound=4), pickup_datetime=Row(column_size=14980649, value_count=4069423, null_value_count=0, nan_value_count=None, lower_bound=datetime.datetime(2021, 4, 1, 0, 0, 3), upper_bound=datetime.datetime(2021, 10, 1, 16, 43, 54)), tip_amount=Row(column_size=4147042, value_count=4069423, null_value_count=0, nan_value_count=0, lower_bound=-333.32, upper_bound=380.0), total_amount=Row(column_size=5850063, value_count=4069423, null_value_count=0, nan_value_count=0, lower_bound=-415.3, upper_bound=395854.74), trip_distance=Row(column_size=5746861, value_count=4069423, null_value_count=0, nan_value_count=0, lower_bound=0.0, upper_bound=317182.45))</td>\n",
       "        </tr>\n",
       "    </tbody>\n",
       "</table>"
      ],
      "text/plain": [
       "+---------+----------------------------------------------------------------------------------------------+-------------+---------+--------------+--------------------+---------------------------------------------------------------------------------------------------------------------------------------------------------------------------------------------------------------------------------------------------------+-------------------------------------------------------------------------------------------------------------------------------------------------------------------------------------------------------------------------------------------------------------------+------------------------------------------------------------------------------------------------------------------------------------------------------------+-----------------------------------------------------------------------------------+-----------------------------------------------------------------------------------------------------------------------------------------------------------------------------------------------------------------------------------------------------------------------------------------------------------------------------------------------------------------------------------------------------------------------------------------------------------------------------------------------------------------------------------------------------------------------------------------------------------------------------------------------------------------------------------------------------------------------------------------------------------------------------------------------------------------------------------------------------------------------------------------------------------------------------------------------+-------------------------------------------------------------------------------------------------------------------------------------------------------------------------------------------------------------------------------------------------------------------------------------------------------------------------------------------------------------------------------------------------------------------------------------------------------------------------------------------------------------------------------------------------------------------------------------------------------------------------------------------------------------------------------------------------------------------------------------------------------------------------------------------------------------------------------------------+--------------+--------------------------------------+--------------+---------------+------------------------------------------------------------------------------------------------------------------------------------------------------------------------------------------------------------------------------------------------------------------------------------------------------------------------------------------------------------------------------------------------------------------------------------------------------------------------------------------------------------------------------------------------------------------------------------------------------------------------------------------------------------------------------------------------------------------------------------------------------------------------------------------------------------------------------------------------------------------------------------------------------------------------------------------------------------------------------------------------------------------------------------------------------------------------------------------------------------------------------------------------------------------------------------------------------------------------------------------------------------------------------------------------------------------------------------------------------------------------------------------------------------------------------------------------------------------------------------------------------------------------------------------------------------------------------------------------------------+\n",
       "| content |                                                                                    file_path | file_format | spec_id | record_count | file_size_in_bytes |                                                                                                                                                                                                                                            column_sizes |                                                                                                                                                                                                                                                      value_counts |                                                                                                                                          null_value_counts |                                                                  nan_value_counts |                                                                                                                                                                                                                                                                                                                                                                                                                                                                                                                                                                                                                                                                                                                                                                                                                                                                                                                                  lower_bounds |                                                                                                                                                                                                                                                                                                                                                                                                                                                                                                                                                                                                                                                                                                                                                                                                                              upper_bounds | key_metadata |                        split_offsets | equality_ids | sort_order_id |                                                                                                                                                                                                                                                                                                                                                                                                                                                                                                                                                                                                                                                                                                                                                                                                                                                                                                                                                                                                                                                                                                                                                                                                                                                                                                                                                                                                                                                                                                                                                                                           readable_metrics |\n",
       "+---------+----------------------------------------------------------------------------------------------+-------------+---------+--------------+--------------------+---------------------------------------------------------------------------------------------------------------------------------------------------------------------------------------------------------------------------------------------------------+-------------------------------------------------------------------------------------------------------------------------------------------------------------------------------------------------------------------------------------------------------------------+------------------------------------------------------------------------------------------------------------------------------------------------------------+-----------------------------------------------------------------------------------+-----------------------------------------------------------------------------------------------------------------------------------------------------------------------------------------------------------------------------------------------------------------------------------------------------------------------------------------------------------------------------------------------------------------------------------------------------------------------------------------------------------------------------------------------------------------------------------------------------------------------------------------------------------------------------------------------------------------------------------------------------------------------------------------------------------------------------------------------------------------------------------------------------------------------------------------------+-------------------------------------------------------------------------------------------------------------------------------------------------------------------------------------------------------------------------------------------------------------------------------------------------------------------------------------------------------------------------------------------------------------------------------------------------------------------------------------------------------------------------------------------------------------------------------------------------------------------------------------------------------------------------------------------------------------------------------------------------------------------------------------------------------------------------------------------+--------------+--------------------------------------+--------------+---------------+------------------------------------------------------------------------------------------------------------------------------------------------------------------------------------------------------------------------------------------------------------------------------------------------------------------------------------------------------------------------------------------------------------------------------------------------------------------------------------------------------------------------------------------------------------------------------------------------------------------------------------------------------------------------------------------------------------------------------------------------------------------------------------------------------------------------------------------------------------------------------------------------------------------------------------------------------------------------------------------------------------------------------------------------------------------------------------------------------------------------------------------------------------------------------------------------------------------------------------------------------------------------------------------------------------------------------------------------------------------------------------------------------------------------------------------------------------------------------------------------------------------------------------------------------------------------------------------------------------+\n",
       "|       0 | s3://warehouse/nyc/taxis/data/00000-171-24e86526-5b86-4e6e-94a5-568aebe6463d-0-00001.parquet |     PARQUET |       0 |     34839000 |          537836059 | {1: 4477105, 2: 124921006, 3: 128238855, 4: 7142554, 5: 50313194, 6: 2346836, 7: 1072171, 8: 30900499, 9: 34818710, 10: 5835024, 11: 38041573, 12: 8621736, 13: 1106014, 14: 37553838, 15: 4321021, 16: 609971, 17: 50377877, 18: 3336738, 19: 2653707} | {1: 34839000, 2: 34839000, 3: 34839000, 4: 34839000, 5: 34839000, 6: 34839000, 7: 34839000, 8: 34839000, 9: 34839000, 10: 34839000, 11: 34839000, 12: 34839000, 13: 34839000, 14: 34839000, 15: 34839000, 16: 34839000, 17: 34839000, 18: 34839000, 19: 34839000} | {1: 0, 2: 0, 3: 0, 4: 1293232, 5: 0, 6: 1293232, 7: 1293232, 8: 0, 9: 0, 10: 0, 11: 0, 12: 0, 13: 0, 14: 0, 15: 0, 16: 0, 17: 0, 18: 1293232, 19: 1293280} | {16: 0, 17: 0, 18: 0, 19: 0, 4: 0, 5: 0, 6: 0, 11: 0, 12: 0, 13: 0, 14: 0, 15: 0} |       {1: bytearray(b'\\x01\\x00\\x00\\x00\\x00\\x00\\x00\\x00'), 2: bytearray(b'@\\x03\\x06\\x844\\xc1\\x05\\x00'), 3: bytearray(b'@U\\xc2\\x934\\xc1\\x05\\x00'), 4: bytearray(b'\\x00\\x00\\x00\\x00\\x00\\x00\\x00\\x00'), 5: bytearray(b'\\x00\\x00\\x00\\x00\\x00\\x00\\x00\\x00'), 6: bytearray(b'\\x00\\x00\\x00\\x00\\x00\\x00\\xf0?'), 7: bytearray(b'N'), 8: bytearray(b'\\x01\\x00\\x00\\x00\\x00\\x00\\x00\\x00'), 9: bytearray(b'\\x01\\x00\\x00\\x00\\x00\\x00\\x00\\x00'), 10: bytearray(b'\\x00\\x00\\x00\\x00\\x00\\x00\\x00\\x00'), 11: bytearray(b'\\x00\\x00\\x00\\x00\\x00\\x08\\xa4\\xc0'), 12: bytearray(b'\\x00\\x00\\x00\\x00\\x00\\x00\\x16\\xc0'), 13: bytearray(b'\\x9a\\x99\\x99\\x99\\x99\\x99\\xe1\\xbf'), 14: bytearray(b'\\x00\\x00\\x00\\x00\\x00\\xa0y\\xc0'), 15: bytearray(b'\\x00\\x00\\x00\\x00\\x000V\\xc0'), 16: bytearray(b'333333\\xd3\\xbf'), 17: bytearray(b'\\x9a\\x99\\x99\\x99\\x99\\x0f\\xa4\\xc0'), 18: bytearray(b'\\x00\\x00\\x00\\x00\\x00\\x00\\x04\\xc0'), 19: bytearray(b'\\x00\\x00\\x00\\x00\\x00\\x00\\xf4\\xbf')} | {1: bytearray(b'\\x06\\x00\\x00\\x00\\x00\\x00\\x00\\x00'), 2: bytearray(b'\\xc0\\x1d\\xdf\\xf4\\xe7\\xdd\\x05\\x00'), 3: bytearray(b'\\x00\\xa6\\x9c\\xe2\\xfb\\xdd\\x05\\x00'), 4: bytearray(b'\\x00\\x00\\x00\\x00\\x00\\x00\\\\@'), 5: bytearray(b'\\n\\xd7\\xa3p\\xf5u\\x15A'), 6: bytearray(b'\\x00\\x00\\x00\\x00\\x00\\xc0X@'), 7: bytearray(b'Y'), 8: bytearray(b'\\t\\x01\\x00\\x00\\x00\\x00\\x00\\x00'), 9: bytearray(b'\\t\\x01\\x00\\x00\\x00\\x00\\x00\\x00'), 10: bytearray(b'\\x05\\x00\\x00\\x00\\x00\\x00\\x00\\x00'), 11: bytearray(b'\\x14\\xaeG\\xe1\\xd6\\xf8(A'), 12: bytearray(b'\\xa4p=\\n\\xd7\\x83V@'), 13: bytearray(b'ffffffC@'), 14: bytearray(b'R\\xb8\\x1e\\x85\\xeb?\\x8f@'), 15: bytearray(b'fffff\\xe4\\x8d@'), 16: bytearray(b'333333\\xd3?'), 17: bytearray(b'\\xaeG\\xe1z\\xdd\\xf8(A'), 18: bytearray(b'\\x00\\x00\\x00\\x00\\x00\\x00\\x06@'), 19: bytearray(b'\\x00\\x00\\x00\\x00\\x00\\x00\\xf4?')} |         None | [4, 135022197, 270113232, 405249937] |         None |             0 | Row(DOLocationID=Row(column_size=34818710, value_count=34839000, null_value_count=0, nan_value_count=None, lower_bound=1, upper_bound=265), PULocationID=Row(column_size=30900499, value_count=34839000, null_value_count=0, nan_value_count=None, lower_bound=1, upper_bound=265), VendorID=Row(column_size=4477105, value_count=34839000, null_value_count=0, nan_value_count=None, lower_bound=1, upper_bound=6), dropoff_datetime=Row(column_size=128238855, value_count=34839000, null_value_count=0, nan_value_count=None, lower_bound=datetime.datetime(2021, 4, 30, 18, 14, 5), upper_bound=datetime.datetime(2022, 5, 1, 23, 46, 32)), passenger_count=Row(column_size=7142554, value_count=34839000, null_value_count=1293232, nan_value_count=0, lower_bound=0.0, upper_bound=112.0), payment_type=Row(column_size=5835024, value_count=34839000, null_value_count=0, nan_value_count=None, lower_bound=0, upper_bound=5), pickup_datetime=Row(column_size=124921006, value_count=34839000, null_value_count=0, nan_value_count=None, lower_bound=datetime.datetime(2021, 4, 30, 18, 9, 41), upper_bound=datetime.datetime(2022, 4, 30, 23, 59, 59)), tip_amount=Row(column_size=37553838, value_count=34839000, null_value_count=0, nan_value_count=0, lower_bound=-410.0, upper_bound=999.99), total_amount=Row(column_size=50377877, value_count=34839000, null_value_count=0, nan_value_count=0, lower_bound=-2567.8, upper_bound=818286.74), trip_distance=Row(column_size=50313194, value_count=34839000, null_value_count=0, nan_value_count=0, lower_bound=0.0, upper_bound=351613.36)) |\n",
       "|       0 | s3://warehouse/nyc/taxis/data/00000-171-24e86526-5b86-4e6e-94a5-568aebe6463d-0-00002.parquet |     PARQUET |       0 |      4069423 |           62308841 |                    {1: 515952, 2: 14980649, 3: 15328049, 4: 819560, 5: 5746861, 6: 199845, 7: 108911, 8: 3447653, 9: 3818065, 10: 634132, 11: 4385101, 12: 974817, 13: 105600, 14: 4147042, 15: 431999, 16: 66383, 17: 5850063, 18: 388043, 19: 226608} |                    {1: 4069423, 2: 4069423, 3: 4069423, 4: 4069423, 5: 4069423, 6: 4069423, 7: 4069423, 8: 4069423, 9: 4069423, 10: 4069423, 11: 4069423, 12: 4069423, 13: 4069423, 14: 4069423, 15: 4069423, 16: 4069423, 17: 4069423, 18: 4069423, 19: 4069423} |      {1: 0, 2: 0, 3: 0, 4: 270874, 5: 0, 6: 270874, 7: 270874, 8: 0, 9: 0, 10: 0, 11: 0, 12: 0, 13: 0, 14: 0, 15: 0, 16: 0, 17: 0, 18: 270874, 19: 270950} | {16: 0, 17: 0, 18: 0, 19: 0, 4: 0, 5: 0, 6: 0, 11: 0, 12: 0, 13: 0, 14: 0, 15: 0} | {1: bytearray(b'\\x01\\x00\\x00\\x00\\x00\\x00\\x00\\x00'), 2: bytearray(b'\\xc0\\x06\\xcb\\xe9\\xdd\\xbe\\x05\\x00'), 3: bytearray(b'\\x008\\xf7\\xf6\\xdd\\xbe\\x05\\x00'), 4: bytearray(b'\\x00\\x00\\x00\\x00\\x00\\x00\\x00\\x00'), 5: bytearray(b'\\x00\\x00\\x00\\x00\\x00\\x00\\x00\\x00'), 6: bytearray(b'\\x00\\x00\\x00\\x00\\x00\\x00\\xf0?'), 7: bytearray(b'N'), 8: bytearray(b'\\x01\\x00\\x00\\x00\\x00\\x00\\x00\\x00'), 9: bytearray(b'\\x01\\x00\\x00\\x00\\x00\\x00\\x00\\x00'), 10: bytearray(b'\\x00\\x00\\x00\\x00\\x00\\x00\\x00\\x00'), 11: bytearray(b'\\x00\\x00\\x00\\x00\\x00\\xf0y\\xc0'), 12: bytearray(b'\\x00\\x00\\x00\\x00\\x00\\x00\\x16\\xc0'), 13: bytearray(b'\\x00\\x00\\x00\\x00\\x00\\x00\\xe0\\xbf'), 14: bytearray(b'\\x85\\xebQ\\xb8\\x1e\\xd5t\\xc0'), 15: bytearray(b'\\x00\\x00\\x00\\x00\\x00\\xc0?\\xc0'), 16: bytearray(b'333333\\xd3\\xbf'), 17: bytearray(b'\\xcd\\xcc\\xcc\\xcc\\xcc\\xf4y\\xc0'), 18: bytearray(b'\\x00\\x00\\x00\\x00\\x00\\x00\\x04\\xc0'), 19: bytearray(b'\\x00\\x00\\x00\\x00\\x00\\x00\\xf4\\xbf')} |    {1: bytearray(b'\\x06\\x00\\x00\\x00\\x00\\x00\\x00\\x00'), 2: bytearray(b'\\x80\\xc6\\xccDM\\xcd\\x05\\x00'), 3: bytearray(b'\\xc0\\xfc\\xc3NS\\xcd\\x05\\x00'), 4: bytearray(b'\\x00\\x00\\x00\\x00\\x00\\x00\"@'), 5: bytearray(b'\\xcd\\xcc\\xcc\\xcc\\xf9[\\x13A'), 6: bytearray(b'\\x00\\x00\\x00\\x00\\x00\\xc0X@'), 7: bytearray(b'Y'), 8: bytearray(b'\\t\\x01\\x00\\x00\\x00\\x00\\x00\\x00'), 9: bytearray(b'\\t\\x01\\x00\\x00\\x00\\x00\\x00\\x00'), 10: bytearray(b'\\x04\\x00\\x00\\x00\\x00\\x00\\x00\\x00'), 11: bytearray(b')\\\\\\x8f\\xc29)\\x18A'), 12: bytearray(b'\\x9a\\x99\\x99\\x99\\x99\\x19#@'), 13: bytearray(b'ffffff\\n@'), 14: bytearray(b'\\x00\\x00\\x00\\x00\\x00\\xc0w@'), 15: bytearray(b'fffffz\\x8c@'), 16: bytearray(b'333333\\xd3?'), 17: bytearray(b'\\\\\\x8f\\xc2\\xf5:)\\x18A'), 18: bytearray(b'\\x00\\x00\\x00\\x00\\x00\\x00\\x06@'), 19: bytearray(b'\\x00\\x00\\x00\\x00\\x00\\x00\\xf4?')} |         None |                                  [4] |         None |             0 |                             Row(DOLocationID=Row(column_size=3818065, value_count=4069423, null_value_count=0, nan_value_count=None, lower_bound=1, upper_bound=265), PULocationID=Row(column_size=3447653, value_count=4069423, null_value_count=0, nan_value_count=None, lower_bound=1, upper_bound=265), VendorID=Row(column_size=515952, value_count=4069423, null_value_count=0, nan_value_count=None, lower_bound=1, upper_bound=6), dropoff_datetime=Row(column_size=15328049, value_count=4069423, null_value_count=0, nan_value_count=None, lower_bound=datetime.datetime(2021, 4, 1, 0, 3, 44), upper_bound=datetime.datetime(2021, 10, 1, 23, 56, 11)), passenger_count=Row(column_size=819560, value_count=4069423, null_value_count=270874, nan_value_count=0, lower_bound=0.0, upper_bound=9.0), payment_type=Row(column_size=634132, value_count=4069423, null_value_count=0, nan_value_count=None, lower_bound=0, upper_bound=4), pickup_datetime=Row(column_size=14980649, value_count=4069423, null_value_count=0, nan_value_count=None, lower_bound=datetime.datetime(2021, 4, 1, 0, 0, 3), upper_bound=datetime.datetime(2021, 10, 1, 16, 43, 54)), tip_amount=Row(column_size=4147042, value_count=4069423, null_value_count=0, nan_value_count=0, lower_bound=-333.32, upper_bound=380.0), total_amount=Row(column_size=5850063, value_count=4069423, null_value_count=0, nan_value_count=0, lower_bound=-415.3, upper_bound=395854.74), trip_distance=Row(column_size=5746861, value_count=4069423, null_value_count=0, nan_value_count=0, lower_bound=0.0, upper_bound=317182.45)) |\n",
       "+---------+----------------------------------------------------------------------------------------------+-------------+---------+--------------+--------------------+---------------------------------------------------------------------------------------------------------------------------------------------------------------------------------------------------------------------------------------------------------+-------------------------------------------------------------------------------------------------------------------------------------------------------------------------------------------------------------------------------------------------------------------+------------------------------------------------------------------------------------------------------------------------------------------------------------+-----------------------------------------------------------------------------------+-----------------------------------------------------------------------------------------------------------------------------------------------------------------------------------------------------------------------------------------------------------------------------------------------------------------------------------------------------------------------------------------------------------------------------------------------------------------------------------------------------------------------------------------------------------------------------------------------------------------------------------------------------------------------------------------------------------------------------------------------------------------------------------------------------------------------------------------------------------------------------------------------------------------------------------------------+-------------------------------------------------------------------------------------------------------------------------------------------------------------------------------------------------------------------------------------------------------------------------------------------------------------------------------------------------------------------------------------------------------------------------------------------------------------------------------------------------------------------------------------------------------------------------------------------------------------------------------------------------------------------------------------------------------------------------------------------------------------------------------------------------------------------------------------------+--------------+--------------------------------------+--------------+---------------+------------------------------------------------------------------------------------------------------------------------------------------------------------------------------------------------------------------------------------------------------------------------------------------------------------------------------------------------------------------------------------------------------------------------------------------------------------------------------------------------------------------------------------------------------------------------------------------------------------------------------------------------------------------------------------------------------------------------------------------------------------------------------------------------------------------------------------------------------------------------------------------------------------------------------------------------------------------------------------------------------------------------------------------------------------------------------------------------------------------------------------------------------------------------------------------------------------------------------------------------------------------------------------------------------------------------------------------------------------------------------------------------------------------------------------------------------------------------------------------------------------------------------------------------------------------------------------------------------------+"
      ]
     },
     "execution_count": 52,
     "metadata": {},
     "output_type": "execute_result"
    }
   ],
   "source": [
    "%%sql\n",
    "\n",
    "SELECT *\n",
    "FROM nyc.taxis.files"
   ]
  },
  {
   "cell_type": "code",
   "execution_count": 53,
   "id": "8a747a9b-e0cc-43d6-95e0-1e2a8ff11b3d",
   "metadata": {},
   "outputs": [
    {
     "data": {
      "text/html": [
       "<table>\n",
       "    <thead>\n",
       "        <tr>\n",
       "            <th>record_count</th>\n",
       "            <th>file_count</th>\n",
       "            <th>total_data_file_size_in_bytes</th>\n",
       "            <th>position_delete_record_count</th>\n",
       "            <th>position_delete_file_count</th>\n",
       "            <th>equality_delete_record_count</th>\n",
       "            <th>equality_delete_file_count</th>\n",
       "            <th>last_updated_at</th>\n",
       "            <th>last_updated_snapshot_id</th>\n",
       "        </tr>\n",
       "    </thead>\n",
       "    <tbody>\n",
       "        <tr>\n",
       "            <td>38908423</td>\n",
       "            <td>2</td>\n",
       "            <td>600144900</td>\n",
       "            <td>0</td>\n",
       "            <td>0</td>\n",
       "            <td>0</td>\n",
       "            <td>0</td>\n",
       "            <td>2024-11-19 13:07:51.509000</td>\n",
       "            <td>8867405477361775537</td>\n",
       "        </tr>\n",
       "    </tbody>\n",
       "</table>"
      ],
      "text/plain": [
       "+--------------+------------+-------------------------------+------------------------------+----------------------------+------------------------------+----------------------------+----------------------------+--------------------------+\n",
       "| record_count | file_count | total_data_file_size_in_bytes | position_delete_record_count | position_delete_file_count | equality_delete_record_count | equality_delete_file_count |            last_updated_at | last_updated_snapshot_id |\n",
       "+--------------+------------+-------------------------------+------------------------------+----------------------------+------------------------------+----------------------------+----------------------------+--------------------------+\n",
       "|     38908423 |          2 |                     600144900 |                            0 |                          0 |                            0 |                          0 | 2024-11-19 13:07:51.509000 |      8867405477361775537 |\n",
       "+--------------+------------+-------------------------------+------------------------------+----------------------------+------------------------------+----------------------------+----------------------------+--------------------------+"
      ]
     },
     "execution_count": 53,
     "metadata": {},
     "output_type": "execute_result"
    }
   ],
   "source": [
    "%%sql\n",
    "\n",
    "SELECT *\n",
    "FROM nyc.taxis.partitions"
   ]
  },
  {
   "cell_type": "code",
   "execution_count": 54,
   "id": "5c03cad6-b320-47de-9d07-d17a97f454f5",
   "metadata": {},
   "outputs": [
    {
     "data": {
      "text/html": [
       "<table>\n",
       "    <thead>\n",
       "        <tr>\n",
       "            <th>made_current_at</th>\n",
       "            <th>snapshot_id</th>\n",
       "            <th>parent_id</th>\n",
       "            <th>is_current_ancestor</th>\n",
       "        </tr>\n",
       "    </thead>\n",
       "    <tbody>\n",
       "        <tr>\n",
       "            <td>2024-11-19 13:07:51.509000</td>\n",
       "            <td>8867405477361775537</td>\n",
       "            <td>None</td>\n",
       "            <td>True</td>\n",
       "        </tr>\n",
       "        <tr>\n",
       "            <td>2024-11-19 13:26:48.341000</td>\n",
       "            <td>6185280295707655119</td>\n",
       "            <td>8867405477361775537</td>\n",
       "            <td>False</td>\n",
       "        </tr>\n",
       "        <tr>\n",
       "            <td>2024-11-19 13:28:22.704000</td>\n",
       "            <td>56325367639566605</td>\n",
       "            <td>6185280295707655119</td>\n",
       "            <td>False</td>\n",
       "        </tr>\n",
       "        <tr>\n",
       "            <td>2024-11-19 13:28:51.894000</td>\n",
       "            <td>1638052002034642056</td>\n",
       "            <td>56325367639566605</td>\n",
       "            <td>False</td>\n",
       "        </tr>\n",
       "        <tr>\n",
       "            <td>2024-11-19 13:38:45.911000</td>\n",
       "            <td>8867405477361775537</td>\n",
       "            <td>None</td>\n",
       "            <td>True</td>\n",
       "        </tr>\n",
       "    </tbody>\n",
       "</table>"
      ],
      "text/plain": [
       "+----------------------------+---------------------+---------------------+---------------------+\n",
       "|            made_current_at |         snapshot_id |           parent_id | is_current_ancestor |\n",
       "+----------------------------+---------------------+---------------------+---------------------+\n",
       "| 2024-11-19 13:07:51.509000 | 8867405477361775537 |                None |                True |\n",
       "| 2024-11-19 13:26:48.341000 | 6185280295707655119 | 8867405477361775537 |               False |\n",
       "| 2024-11-19 13:28:22.704000 |   56325367639566605 | 6185280295707655119 |               False |\n",
       "| 2024-11-19 13:28:51.894000 | 1638052002034642056 |   56325367639566605 |               False |\n",
       "| 2024-11-19 13:38:45.911000 | 8867405477361775537 |                None |                True |\n",
       "+----------------------------+---------------------+---------------------+---------------------+"
      ]
     },
     "execution_count": 54,
     "metadata": {},
     "output_type": "execute_result"
    }
   ],
   "source": [
    "%%sql\n",
    "\n",
    "SELECT *\n",
    "FROM nyc.taxis.history"
   ]
  },
  {
   "cell_type": "markdown",
   "id": "3a57deb7-22e7-4167-a790-0cc9e62fc773",
   "metadata": {},
   "source": [
    "В таблице `history` отразилось, что мы вернулись к предыдущему снэпшоту"
   ]
  },
  {
   "cell_type": "markdown",
   "id": "fb9828db-67c4-46f1-be3a-ba42d703c32c",
   "metadata": {},
   "source": [
    "### Изменим партицию"
   ]
  },
  {
   "cell_type": "code",
   "execution_count": 59,
   "id": "92384b1b-bc07-436b-a3f4-beb1a9af0edc",
   "metadata": {},
   "outputs": [
    {
     "data": {
      "text/html": [
       "<table>\n",
       "    <thead>\n",
       "        <tr>\n",
       "        </tr>\n",
       "    </thead>\n",
       "    <tbody>\n",
       "    </tbody>\n",
       "</table>"
      ],
      "text/plain": [
       "++\n",
       "||\n",
       "++\n",
       "++"
      ]
     },
     "execution_count": 59,
     "metadata": {},
     "output_type": "execute_result"
    }
   ],
   "source": [
    "%%sql\n",
    "\n",
    "ALTER TABLE nyc.taxis ADD PARTITION FIELD year(pickup_datetime)"
   ]
  },
  {
   "cell_type": "code",
   "execution_count": 61,
   "id": "6a72ff7d-025f-4ef0-8e1b-bd8f14dfe95e",
   "metadata": {},
   "outputs": [
    {
     "data": {
      "text/html": [
       "<table>\n",
       "    <thead>\n",
       "        <tr>\n",
       "        </tr>\n",
       "    </thead>\n",
       "    <tbody>\n",
       "    </tbody>\n",
       "</table>"
      ],
      "text/plain": [
       "++\n",
       "||\n",
       "++\n",
       "++"
      ]
     },
     "execution_count": 61,
     "metadata": {},
     "output_type": "execute_result"
    }
   ],
   "source": [
    "%%sql\n",
    "\n",
    "ALTER TABLE nyc.taxis ADD PARTITION FIELD month(pickup_datetime)"
   ]
  },
  {
   "cell_type": "code",
   "execution_count": 63,
   "id": "6fda6706-333c-4a01-9ada-e451cb67f0ed",
   "metadata": {},
   "outputs": [
    {
     "data": {
      "text/html": [
       "<table>\n",
       "    <thead>\n",
       "        <tr>\n",
       "            <th>rewritten_data_files_count</th>\n",
       "            <th>added_data_files_count</th>\n",
       "            <th>rewritten_bytes_count</th>\n",
       "            <th>failed_data_files_count</th>\n",
       "        </tr>\n",
       "    </thead>\n",
       "    <tbody>\n",
       "        <tr>\n",
       "            <td>0</td>\n",
       "            <td>0</td>\n",
       "            <td>0</td>\n",
       "            <td>0</td>\n",
       "        </tr>\n",
       "    </tbody>\n",
       "</table>"
      ],
      "text/plain": [
       "+----------------------------+------------------------+-----------------------+-------------------------+\n",
       "| rewritten_data_files_count | added_data_files_count | rewritten_bytes_count | failed_data_files_count |\n",
       "+----------------------------+------------------------+-----------------------+-------------------------+\n",
       "|                          0 |                      0 |                     0 |                       0 |\n",
       "+----------------------------+------------------------+-----------------------+-------------------------+"
      ]
     },
     "execution_count": 63,
     "metadata": {},
     "output_type": "execute_result"
    }
   ],
   "source": [
    "%%sql\n",
    "\n",
    "CALL system.rewrite_data_files('nyc.taxis')"
   ]
  },
  {
   "cell_type": "code",
   "execution_count": 66,
   "id": "5fc6257f-73b7-4130-a474-44851445ec8a",
   "metadata": {},
   "outputs": [
    {
     "data": {
      "text/html": [
       "<table>\n",
       "    <thead>\n",
       "        <tr>\n",
       "            <th>partition</th>\n",
       "            <th>spec_id</th>\n",
       "            <th>record_count</th>\n",
       "            <th>file_count</th>\n",
       "            <th>total_data_file_size_in_bytes</th>\n",
       "            <th>position_delete_record_count</th>\n",
       "            <th>position_delete_file_count</th>\n",
       "            <th>equality_delete_record_count</th>\n",
       "            <th>equality_delete_file_count</th>\n",
       "            <th>last_updated_at</th>\n",
       "            <th>last_updated_snapshot_id</th>\n",
       "        </tr>\n",
       "    </thead>\n",
       "    <tbody>\n",
       "        <tr>\n",
       "            <td>Row(pickup_datetime_year=None, pickup_datetime_month=None)</td>\n",
       "            <td>0</td>\n",
       "            <td>38908423</td>\n",
       "            <td>2</td>\n",
       "            <td>600144900</td>\n",
       "            <td>0</td>\n",
       "            <td>0</td>\n",
       "            <td>0</td>\n",
       "            <td>0</td>\n",
       "            <td>2024-11-19 13:07:51.509000</td>\n",
       "            <td>8867405477361775537</td>\n",
       "        </tr>\n",
       "    </tbody>\n",
       "</table>"
      ],
      "text/plain": [
       "+------------------------------------------------------------+---------+--------------+------------+-------------------------------+------------------------------+----------------------------+------------------------------+----------------------------+----------------------------+--------------------------+\n",
       "|                                                  partition | spec_id | record_count | file_count | total_data_file_size_in_bytes | position_delete_record_count | position_delete_file_count | equality_delete_record_count | equality_delete_file_count |            last_updated_at | last_updated_snapshot_id |\n",
       "+------------------------------------------------------------+---------+--------------+------------+-------------------------------+------------------------------+----------------------------+------------------------------+----------------------------+----------------------------+--------------------------+\n",
       "| Row(pickup_datetime_year=None, pickup_datetime_month=None) |       0 |     38908423 |          2 |                     600144900 |                            0 |                          0 |                            0 |                          0 | 2024-11-19 13:07:51.509000 |      8867405477361775537 |\n",
       "+------------------------------------------------------------+---------+--------------+------------+-------------------------------+------------------------------+----------------------------+------------------------------+----------------------------+----------------------------+--------------------------+"
      ]
     },
     "execution_count": 66,
     "metadata": {},
     "output_type": "execute_result"
    }
   ],
   "source": [
    "%%sql \n",
    "\n",
    "SELECT *\n",
    "FROM nyc.taxis.partitions"
   ]
  },
  {
   "cell_type": "markdown",
   "id": "e7d83229-4615-461a-9443-aa8d2d4c1f38",
   "metadata": {},
   "source": [
    "### Аудит прямым способом"
   ]
  },
  {
   "cell_type": "code",
   "execution_count": 67,
   "id": "d741a34c-5342-4d6f-b67c-ed4f4213e3cb",
   "metadata": {},
   "outputs": [],
   "source": [
    "import uuid\n",
    "ia_session_id = uuid.uuid4().hex"
   ]
  },
  {
   "cell_type": "code",
   "execution_count": 68,
   "id": "13b4007e-23cf-43a9-be26-f8d4967b6b4a",
   "metadata": {},
   "outputs": [
    {
     "data": {
      "text/html": [
       "<table>\n",
       "    <thead>\n",
       "        <tr>\n",
       "        </tr>\n",
       "    </thead>\n",
       "    <tbody>\n",
       "    </tbody>\n",
       "</table>"
      ],
      "text/plain": [
       "++\n",
       "||\n",
       "++\n",
       "++"
      ]
     },
     "execution_count": 68,
     "metadata": {},
     "output_type": "execute_result"
    }
   ],
   "source": [
    "%%sql\n",
    "\n",
    "ALTER TABLE nyc.taxis\n",
    "SET TBLPROPERTIES (\n",
    "    'write.wap.enabled'='true'\n",
    ")"
   ]
  },
  {
   "cell_type": "code",
   "execution_count": 69,
   "id": "cc4cd0b6-38dd-40bf-bf36-dd8590ffeec9",
   "metadata": {},
   "outputs": [],
   "source": [
    "spark.conf.set('spark.wap.id', ia_session_id)"
   ]
  },
  {
   "cell_type": "code",
   "execution_count": 71,
   "id": "0add70b5-4c33-4aab-b9b2-58bf4ebae327",
   "metadata": {},
   "outputs": [
    {
     "name": "stderr",
     "output_type": "stream",
     "text": [
      "                                                                                \r"
     ]
    },
    {
     "data": {
      "text/html": [
       "<table>\n",
       "    <thead>\n",
       "        <tr>\n",
       "        </tr>\n",
       "    </thead>\n",
       "    <tbody>\n",
       "    </tbody>\n",
       "</table>"
      ],
      "text/plain": [
       "++\n",
       "||\n",
       "++\n",
       "++"
      ]
     },
     "execution_count": 71,
     "metadata": {},
     "output_type": "execute_result"
    }
   ],
   "source": [
    "%%sql\n",
    "\n",
    "DELETE FROM nyc.taxis\n",
    "WHERE payment_type == 1"
   ]
  },
  {
   "cell_type": "code",
   "execution_count": 72,
   "id": "7eb5295d-2e51-417d-8402-6bc94d6d219c",
   "metadata": {},
   "outputs": [],
   "source": [
    "query = f\"\"\"\n",
    "SELECT snapshot_id\n",
    "FROM nyc.taxis.snapshots\n",
    "WHERE summary['wap.id'] = '{ia_session_id}'\n",
    "\"\"\"\n",
    "\n",
    "ia_session_snapshot = spark.sql(query).head().snapshot_id"
   ]
  },
  {
   "cell_type": "code",
   "execution_count": 73,
   "id": "c5ccb172-bea0-4a11-bd3e-70b42936d079",
   "metadata": {},
   "outputs": [
    {
     "name": "stderr",
     "output_type": "stream",
     "text": [
      "[Stage 82:=========================================>               (8 + 3) / 11]\r"
     ]
    },
    {
     "name": "stdout",
     "output_type": "stream",
     "text": [
      "+------------+-------+\n",
      "|payment_type|  count|\n",
      "+------------+-------+\n",
      "|           0|1564106|\n",
      "|           5|      7|\n",
      "|           3| 180916|\n",
      "|           2|8068370|\n",
      "|           4| 156542|\n",
      "+------------+-------+\n",
      "\n"
     ]
    },
    {
     "name": "stderr",
     "output_type": "stream",
     "text": [
      "                                                                                \r"
     ]
    }
   ],
   "source": [
    "spark.read \\\n",
    "    .option(\"snapshot-id\", ia_session_snapshot) \\\n",
    "    .format(\"iceberg\") \\\n",
    "    .load(\"nyc.taxis\") \\\n",
    "    .groupBy(\"payment_type\") \\\n",
    "    .count() \\\n",
    "    .show()"
   ]
  },
  {
   "cell_type": "code",
   "execution_count": 74,
   "id": "5b74039e-b3e6-491e-a3f3-8e0adb3dbb75",
   "metadata": {},
   "outputs": [
    {
     "data": {
      "text/html": [
       "<table>\n",
       "    <thead>\n",
       "        <tr>\n",
       "            <th>source_snapshot_id</th>\n",
       "            <th>current_snapshot_id</th>\n",
       "        </tr>\n",
       "    </thead>\n",
       "    <tbody>\n",
       "        <tr>\n",
       "            <td>7508518728360165294</td>\n",
       "            <td>7508518728360165294</td>\n",
       "        </tr>\n",
       "    </tbody>\n",
       "</table>"
      ],
      "text/plain": [
       "+---------------------+---------------------+\n",
       "|  source_snapshot_id | current_snapshot_id |\n",
       "+---------------------+---------------------+\n",
       "| 7508518728360165294 | 7508518728360165294 |\n",
       "+---------------------+---------------------+"
      ]
     },
     "execution_count": 74,
     "metadata": {},
     "output_type": "execute_result"
    }
   ],
   "source": [
    "publish_query = f\"CALL system.cherrypick_snapshot('nyc.taxis', {ia_session_snapshot})\"\n",
    "\n",
    "%sql $publish_query"
   ]
  },
  {
   "cell_type": "code",
   "execution_count": 75,
   "id": "ee0a5685-7aaf-4efe-ac82-81e2efe0ac14",
   "metadata": {},
   "outputs": [
    {
     "data": {
      "text/html": [
       "<table>\n",
       "    <thead>\n",
       "        <tr>\n",
       "            <th>payment_type</th>\n",
       "        </tr>\n",
       "    </thead>\n",
       "    <tbody>\n",
       "    </tbody>\n",
       "</table>"
      ],
      "text/plain": [
       "+--------------+\n",
       "| payment_type |\n",
       "+--------------+\n",
       "+--------------+"
      ]
     },
     "execution_count": 75,
     "metadata": {},
     "output_type": "execute_result"
    }
   ],
   "source": [
    "%%sql\n",
    "\n",
    "SELECT payment_type\n",
    "FROM nyc.taxis\n",
    "WHERE payment_type == 1"
   ]
  },
  {
   "cell_type": "markdown",
   "id": "f7ed3bc4-2ff8-44bb-82c7-0f0b043d81a3",
   "metadata": {},
   "source": [
    "### Аудит с использованием веток"
   ]
  },
  {
   "cell_type": "code",
   "execution_count": 77,
   "id": "a4cdaa45-1770-435e-aa6f-07bc9b781fe7",
   "metadata": {},
   "outputs": [
    {
     "data": {
      "text/html": [
       "<table>\n",
       "    <thead>\n",
       "        <tr>\n",
       "        </tr>\n",
       "    </thead>\n",
       "    <tbody>\n",
       "    </tbody>\n",
       "</table>"
      ],
      "text/plain": [
       "++\n",
       "||\n",
       "++\n",
       "++"
      ]
     },
     "execution_count": 77,
     "metadata": {},
     "output_type": "execute_result"
    }
   ],
   "source": [
    "%%sql\n",
    "\n",
    "ALTER TABLE nyc.taxis\n",
    "SET TBLPROPERTIES (\n",
    "    'write.wap.enabled'='true'\n",
    ")"
   ]
  },
  {
   "cell_type": "code",
   "execution_count": 83,
   "id": "4296b81b-9b30-42bc-9552-aeec355f0218",
   "metadata": {
    "scrolled": true
   },
   "outputs": [
    {
     "ename": "IllegalArgumentException",
     "evalue": "Ref new_branch already exists",
     "output_type": "error",
     "traceback": [
      "\u001b[0;31m---------------------------------------------------------------------------\u001b[0m",
      "\u001b[0;31mIllegalArgumentException\u001b[0m                  Traceback (most recent call last)",
      "Cell \u001b[0;32mIn[83], line 1\u001b[0m\n\u001b[0;32m----> 1\u001b[0m \u001b[43mget_ipython\u001b[49m\u001b[43m(\u001b[49m\u001b[43m)\u001b[49m\u001b[38;5;241;43m.\u001b[39;49m\u001b[43mrun_cell_magic\u001b[49m\u001b[43m(\u001b[49m\u001b[38;5;124;43m'\u001b[39;49m\u001b[38;5;124;43msql\u001b[39;49m\u001b[38;5;124;43m'\u001b[39;49m\u001b[43m,\u001b[49m\u001b[43m \u001b[49m\u001b[38;5;124;43m'\u001b[39;49m\u001b[38;5;124;43m'\u001b[39;49m\u001b[43m,\u001b[49m\u001b[43m \u001b[49m\u001b[38;5;124;43m'\u001b[39;49m\u001b[38;5;130;43;01m\\n\u001b[39;49;00m\u001b[38;5;124;43mALTER TABLE nyc.taxis\u001b[39;49m\u001b[38;5;130;43;01m\\n\u001b[39;49;00m\u001b[38;5;124;43mCREATE BRANCH new_branch\u001b[39;49m\u001b[38;5;130;43;01m\\n\u001b[39;49;00m\u001b[38;5;124;43m'\u001b[39;49m\u001b[43m)\u001b[49m\n",
      "File \u001b[0;32m/usr/local/lib/python3.9/site-packages/IPython/core/interactiveshell.py:2517\u001b[0m, in \u001b[0;36mInteractiveShell.run_cell_magic\u001b[0;34m(self, magic_name, line, cell)\u001b[0m\n\u001b[1;32m   2515\u001b[0m \u001b[38;5;28;01mwith\u001b[39;00m \u001b[38;5;28mself\u001b[39m\u001b[38;5;241m.\u001b[39mbuiltin_trap:\n\u001b[1;32m   2516\u001b[0m     args \u001b[38;5;241m=\u001b[39m (magic_arg_s, cell)\n\u001b[0;32m-> 2517\u001b[0m     result \u001b[38;5;241m=\u001b[39m \u001b[43mfn\u001b[49m\u001b[43m(\u001b[49m\u001b[38;5;241;43m*\u001b[39;49m\u001b[43margs\u001b[49m\u001b[43m,\u001b[49m\u001b[43m \u001b[49m\u001b[38;5;241;43m*\u001b[39;49m\u001b[38;5;241;43m*\u001b[39;49m\u001b[43mkwargs\u001b[49m\u001b[43m)\u001b[49m\n\u001b[1;32m   2519\u001b[0m \u001b[38;5;66;03m# The code below prevents the output from being displayed\u001b[39;00m\n\u001b[1;32m   2520\u001b[0m \u001b[38;5;66;03m# when using magics with decorator @output_can_be_silenced\u001b[39;00m\n\u001b[1;32m   2521\u001b[0m \u001b[38;5;66;03m# when the last Python token in the expression is a ';'.\u001b[39;00m\n\u001b[1;32m   2522\u001b[0m \u001b[38;5;28;01mif\u001b[39;00m \u001b[38;5;28mgetattr\u001b[39m(fn, magic\u001b[38;5;241m.\u001b[39mMAGIC_OUTPUT_CAN_BE_SILENCED, \u001b[38;5;28;01mFalse\u001b[39;00m):\n",
      "File \u001b[0;32m~/.ipython/profile_default/startup/00-prettytables.py:81\u001b[0m, in \u001b[0;36msql\u001b[0;34m(line, cell)\u001b[0m\n\u001b[1;32m     79\u001b[0m         \u001b[38;5;28;01mreturn\u001b[39;00m _to_table(df, num_rows\u001b[38;5;241m=\u001b[39margs\u001b[38;5;241m.\u001b[39mlimit)\n\u001b[1;32m     80\u001b[0m \u001b[38;5;28;01melse\u001b[39;00m:\n\u001b[0;32m---> 81\u001b[0m     \u001b[38;5;28;01mreturn\u001b[39;00m _to_table(\u001b[43mspark\u001b[49m\u001b[38;5;241;43m.\u001b[39;49m\u001b[43msql\u001b[49m\u001b[43m(\u001b[49m\u001b[43mcell\u001b[49m\u001b[43m)\u001b[49m)\n",
      "File \u001b[0;32m/opt/spark/python/pyspark/sql/session.py:1631\u001b[0m, in \u001b[0;36mSparkSession.sql\u001b[0;34m(self, sqlQuery, args, **kwargs)\u001b[0m\n\u001b[1;32m   1627\u001b[0m         \u001b[38;5;28;01massert\u001b[39;00m \u001b[38;5;28mself\u001b[39m\u001b[38;5;241m.\u001b[39m_jvm \u001b[38;5;129;01mis\u001b[39;00m \u001b[38;5;129;01mnot\u001b[39;00m \u001b[38;5;28;01mNone\u001b[39;00m\n\u001b[1;32m   1628\u001b[0m         litArgs \u001b[38;5;241m=\u001b[39m \u001b[38;5;28mself\u001b[39m\u001b[38;5;241m.\u001b[39m_jvm\u001b[38;5;241m.\u001b[39mPythonUtils\u001b[38;5;241m.\u001b[39mtoArray(\n\u001b[1;32m   1629\u001b[0m             [_to_java_column(lit(v)) \u001b[38;5;28;01mfor\u001b[39;00m v \u001b[38;5;129;01min\u001b[39;00m (args \u001b[38;5;129;01mor\u001b[39;00m [])]\n\u001b[1;32m   1630\u001b[0m         )\n\u001b[0;32m-> 1631\u001b[0m     \u001b[38;5;28;01mreturn\u001b[39;00m DataFrame(\u001b[38;5;28;43mself\u001b[39;49m\u001b[38;5;241;43m.\u001b[39;49m\u001b[43m_jsparkSession\u001b[49m\u001b[38;5;241;43m.\u001b[39;49m\u001b[43msql\u001b[49m\u001b[43m(\u001b[49m\u001b[43msqlQuery\u001b[49m\u001b[43m,\u001b[49m\u001b[43m \u001b[49m\u001b[43mlitArgs\u001b[49m\u001b[43m)\u001b[49m, \u001b[38;5;28mself\u001b[39m)\n\u001b[1;32m   1632\u001b[0m \u001b[38;5;28;01mfinally\u001b[39;00m:\n\u001b[1;32m   1633\u001b[0m     \u001b[38;5;28;01mif\u001b[39;00m \u001b[38;5;28mlen\u001b[39m(kwargs) \u001b[38;5;241m>\u001b[39m \u001b[38;5;241m0\u001b[39m:\n",
      "File \u001b[0;32m/opt/spark/python/lib/py4j-0.10.9.7-src.zip/py4j/java_gateway.py:1322\u001b[0m, in \u001b[0;36mJavaMember.__call__\u001b[0;34m(self, *args)\u001b[0m\n\u001b[1;32m   1316\u001b[0m command \u001b[38;5;241m=\u001b[39m proto\u001b[38;5;241m.\u001b[39mCALL_COMMAND_NAME \u001b[38;5;241m+\u001b[39m\\\n\u001b[1;32m   1317\u001b[0m     \u001b[38;5;28mself\u001b[39m\u001b[38;5;241m.\u001b[39mcommand_header \u001b[38;5;241m+\u001b[39m\\\n\u001b[1;32m   1318\u001b[0m     args_command \u001b[38;5;241m+\u001b[39m\\\n\u001b[1;32m   1319\u001b[0m     proto\u001b[38;5;241m.\u001b[39mEND_COMMAND_PART\n\u001b[1;32m   1321\u001b[0m answer \u001b[38;5;241m=\u001b[39m \u001b[38;5;28mself\u001b[39m\u001b[38;5;241m.\u001b[39mgateway_client\u001b[38;5;241m.\u001b[39msend_command(command)\n\u001b[0;32m-> 1322\u001b[0m return_value \u001b[38;5;241m=\u001b[39m \u001b[43mget_return_value\u001b[49m\u001b[43m(\u001b[49m\n\u001b[1;32m   1323\u001b[0m \u001b[43m    \u001b[49m\u001b[43manswer\u001b[49m\u001b[43m,\u001b[49m\u001b[43m \u001b[49m\u001b[38;5;28;43mself\u001b[39;49m\u001b[38;5;241;43m.\u001b[39;49m\u001b[43mgateway_client\u001b[49m\u001b[43m,\u001b[49m\u001b[43m \u001b[49m\u001b[38;5;28;43mself\u001b[39;49m\u001b[38;5;241;43m.\u001b[39;49m\u001b[43mtarget_id\u001b[49m\u001b[43m,\u001b[49m\u001b[43m \u001b[49m\u001b[38;5;28;43mself\u001b[39;49m\u001b[38;5;241;43m.\u001b[39;49m\u001b[43mname\u001b[49m\u001b[43m)\u001b[49m\n\u001b[1;32m   1325\u001b[0m \u001b[38;5;28;01mfor\u001b[39;00m temp_arg \u001b[38;5;129;01min\u001b[39;00m temp_args:\n\u001b[1;32m   1326\u001b[0m     \u001b[38;5;28;01mif\u001b[39;00m \u001b[38;5;28mhasattr\u001b[39m(temp_arg, \u001b[38;5;124m\"\u001b[39m\u001b[38;5;124m_detach\u001b[39m\u001b[38;5;124m\"\u001b[39m):\n",
      "File \u001b[0;32m/opt/spark/python/pyspark/errors/exceptions/captured.py:185\u001b[0m, in \u001b[0;36mcapture_sql_exception.<locals>.deco\u001b[0;34m(*a, **kw)\u001b[0m\n\u001b[1;32m    181\u001b[0m converted \u001b[38;5;241m=\u001b[39m convert_exception(e\u001b[38;5;241m.\u001b[39mjava_exception)\n\u001b[1;32m    182\u001b[0m \u001b[38;5;28;01mif\u001b[39;00m \u001b[38;5;129;01mnot\u001b[39;00m \u001b[38;5;28misinstance\u001b[39m(converted, UnknownException):\n\u001b[1;32m    183\u001b[0m     \u001b[38;5;66;03m# Hide where the exception came from that shows a non-Pythonic\u001b[39;00m\n\u001b[1;32m    184\u001b[0m     \u001b[38;5;66;03m# JVM exception message.\u001b[39;00m\n\u001b[0;32m--> 185\u001b[0m     \u001b[38;5;28;01mraise\u001b[39;00m converted \u001b[38;5;28;01mfrom\u001b[39;00m \u001b[38;5;28;01mNone\u001b[39;00m\n\u001b[1;32m    186\u001b[0m \u001b[38;5;28;01melse\u001b[39;00m:\n\u001b[1;32m    187\u001b[0m     \u001b[38;5;28;01mraise\u001b[39;00m\n",
      "\u001b[0;31mIllegalArgumentException\u001b[0m: Ref new_branch already exists"
     ]
    }
   ],
   "source": [
    "%%sql\n",
    "\n",
    "ALTER TABLE nyc.taxis\n",
    "CREATE BRANCH new_branch"
   ]
  },
  {
   "cell_type": "code",
   "execution_count": 84,
   "id": "ffd4e24e-e077-44fa-a5cf-43bf686ed9e8",
   "metadata": {},
   "outputs": [],
   "source": [
    "spark.conf.set('spark.wap.branch', 'new_branch')"
   ]
  },
  {
   "cell_type": "code",
   "execution_count": 86,
   "id": "aae223bd-230f-4741-9692-ffeb3203c470",
   "metadata": {},
   "outputs": [],
   "source": [
    "spark.conf.unset('spark.wap.id')"
   ]
  },
  {
   "cell_type": "code",
   "execution_count": 87,
   "id": "cf14b782-9bc2-49ca-8a6b-ff99b3507b48",
   "metadata": {},
   "outputs": [
    {
     "name": "stderr",
     "output_type": "stream",
     "text": [
      "                                                                                \r"
     ]
    },
    {
     "data": {
      "text/html": [
       "<table>\n",
       "    <thead>\n",
       "        <tr>\n",
       "        </tr>\n",
       "    </thead>\n",
       "    <tbody>\n",
       "    </tbody>\n",
       "</table>"
      ],
      "text/plain": [
       "++\n",
       "||\n",
       "++\n",
       "++"
      ]
     },
     "execution_count": 87,
     "metadata": {},
     "output_type": "execute_result"
    }
   ],
   "source": [
    "%%sql\n",
    "\n",
    "DELETE FROM nyc.taxis\n",
    "WHERE payment_type == 0"
   ]
  },
  {
   "cell_type": "code",
   "execution_count": 93,
   "id": "7c3e7007-1ac0-4fbe-9338-fa8bf15ee8da",
   "metadata": {},
   "outputs": [
    {
     "name": "stderr",
     "output_type": "stream",
     "text": [
      "                                                                                \r"
     ]
    },
    {
     "data": {
      "text/html": [
       "<table>\n",
       "    <thead>\n",
       "        <tr>\n",
       "            <th>payment_type</th>\n",
       "        </tr>\n",
       "    </thead>\n",
       "    <tbody>\n",
       "        <tr>\n",
       "            <td>3</td>\n",
       "        </tr>\n",
       "        <tr>\n",
       "            <td>2</td>\n",
       "        </tr>\n",
       "        <tr>\n",
       "            <td>4</td>\n",
       "        </tr>\n",
       "        <tr>\n",
       "            <td>5</td>\n",
       "        </tr>\n",
       "    </tbody>\n",
       "</table>"
      ],
      "text/plain": [
       "+--------------+\n",
       "| payment_type |\n",
       "+--------------+\n",
       "|            3 |\n",
       "|            2 |\n",
       "|            4 |\n",
       "|            5 |\n",
       "+--------------+"
      ]
     },
     "execution_count": 93,
     "metadata": {},
     "output_type": "execute_result"
    }
   ],
   "source": [
    "%%sql\n",
    "\n",
    "SELECT DISTINCT payment_type\n",
    "FROM nyc.taxis"
   ]
  },
  {
   "cell_type": "markdown",
   "id": "05afdada-3231-48e4-8cb2-eaa22e07b29c",
   "metadata": {},
   "source": [
    "Посмотрим на ветку main"
   ]
  },
  {
   "cell_type": "code",
   "execution_count": 91,
   "id": "8a791d9c-d4ba-4aba-9d4a-f13a7c77a86f",
   "metadata": {},
   "outputs": [
    {
     "name": "stderr",
     "output_type": "stream",
     "text": [
      "                                                                                \r"
     ]
    },
    {
     "data": {
      "text/html": [
       "<table>\n",
       "    <thead>\n",
       "        <tr>\n",
       "            <th>payment_type</th>\n",
       "        </tr>\n",
       "    </thead>\n",
       "    <tbody>\n",
       "        <tr>\n",
       "            <td>0</td>\n",
       "        </tr>\n",
       "        <tr>\n",
       "            <td>5</td>\n",
       "        </tr>\n",
       "        <tr>\n",
       "            <td>3</td>\n",
       "        </tr>\n",
       "        <tr>\n",
       "            <td>2</td>\n",
       "        </tr>\n",
       "        <tr>\n",
       "            <td>4</td>\n",
       "        </tr>\n",
       "    </tbody>\n",
       "</table>"
      ],
      "text/plain": [
       "+--------------+\n",
       "| payment_type |\n",
       "+--------------+\n",
       "|            0 |\n",
       "|            5 |\n",
       "|            3 |\n",
       "|            2 |\n",
       "|            4 |\n",
       "+--------------+"
      ]
     },
     "execution_count": 91,
     "metadata": {},
     "output_type": "execute_result"
    }
   ],
   "source": [
    "%%sql\n",
    "\n",
    "SELECT DISTINCT payment_type\n",
    "FROM nyc.taxis VERSION AS OF 'main'"
   ]
  },
  {
   "cell_type": "code",
   "execution_count": 94,
   "id": "048ae24c-fe35-4255-834d-9e1a4e92c288",
   "metadata": {},
   "outputs": [],
   "source": [
    "query = f\"\"\"\n",
    "SELECT snapshot_id\n",
    "FROM nyc.taxis.refs\n",
    "WHERE name = 'new_branch'\n",
    "\"\"\"\n",
    "\n",
    "wap_snapshot_id = spark.sql(query).head().snapshot_id"
   ]
  },
  {
   "cell_type": "code",
   "execution_count": 95,
   "id": "3db9db84-57e3-4594-9590-038f7e4ccffa",
   "metadata": {},
   "outputs": [
    {
     "data": {
      "text/html": [
       "<table>\n",
       "    <thead>\n",
       "        <tr>\n",
       "            <th>source_snapshot_id</th>\n",
       "            <th>current_snapshot_id</th>\n",
       "        </tr>\n",
       "    </thead>\n",
       "    <tbody>\n",
       "        <tr>\n",
       "            <td>8206386991873546081</td>\n",
       "            <td>8206386991873546081</td>\n",
       "        </tr>\n",
       "    </tbody>\n",
       "</table>"
      ],
      "text/plain": [
       "+---------------------+---------------------+\n",
       "|  source_snapshot_id | current_snapshot_id |\n",
       "+---------------------+---------------------+\n",
       "| 8206386991873546081 | 8206386991873546081 |\n",
       "+---------------------+---------------------+"
      ]
     },
     "execution_count": 95,
     "metadata": {},
     "output_type": "execute_result"
    }
   ],
   "source": [
    "publish_query = f\"CALL system.cherrypick_snapshot('nyc.taxis', {wap_snapshot_id})\"\n",
    "\n",
    "%sql $publish_query"
   ]
  },
  {
   "cell_type": "code",
   "execution_count": 96,
   "id": "b8613c8c-1618-425a-a0e4-36be84c8a590",
   "metadata": {},
   "outputs": [
    {
     "name": "stderr",
     "output_type": "stream",
     "text": [
      "                                                                                \r"
     ]
    },
    {
     "data": {
      "text/html": [
       "<table>\n",
       "    <thead>\n",
       "        <tr>\n",
       "            <th>payment_type</th>\n",
       "        </tr>\n",
       "    </thead>\n",
       "    <tbody>\n",
       "        <tr>\n",
       "            <td>3</td>\n",
       "        </tr>\n",
       "        <tr>\n",
       "            <td>2</td>\n",
       "        </tr>\n",
       "        <tr>\n",
       "            <td>4</td>\n",
       "        </tr>\n",
       "        <tr>\n",
       "            <td>5</td>\n",
       "        </tr>\n",
       "    </tbody>\n",
       "</table>"
      ],
      "text/plain": [
       "+--------------+\n",
       "| payment_type |\n",
       "+--------------+\n",
       "|            3 |\n",
       "|            2 |\n",
       "|            4 |\n",
       "|            5 |\n",
       "+--------------+"
      ]
     },
     "execution_count": 96,
     "metadata": {},
     "output_type": "execute_result"
    }
   ],
   "source": [
    "%%sql\n",
    "\n",
    "SELECT DISTINCT payment_type\n",
    "FROM nyc.taxis VERSION AS OF 'main'"
   ]
  },
  {
   "cell_type": "code",
   "execution_count": 98,
   "id": "9abce0d5-9d59-4319-9eed-2499a6027f9c",
   "metadata": {},
   "outputs": [
    {
     "data": {
      "text/html": [
       "<table>\n",
       "    <thead>\n",
       "        <tr>\n",
       "        </tr>\n",
       "    </thead>\n",
       "    <tbody>\n",
       "    </tbody>\n",
       "</table>"
      ],
      "text/plain": [
       "++\n",
       "||\n",
       "++\n",
       "++"
      ]
     },
     "execution_count": 98,
     "metadata": {},
     "output_type": "execute_result"
    }
   ],
   "source": [
    "%%sql\n",
    "\n",
    "ALTER TABLE nyc.taxis\n",
    "DROP BRANCH new_branch"
   ]
  },
  {
   "cell_type": "code",
   "execution_count": 99,
   "id": "f2f0d603-0a76-4cc3-8c25-274fe69ed415",
   "metadata": {},
   "outputs": [
    {
     "data": {
      "text/html": [
       "<table>\n",
       "    <thead>\n",
       "        <tr>\n",
       "            <th>name</th>\n",
       "            <th>type</th>\n",
       "            <th>snapshot_id</th>\n",
       "            <th>max_reference_age_in_ms</th>\n",
       "            <th>min_snapshots_to_keep</th>\n",
       "            <th>max_snapshot_age_in_ms</th>\n",
       "        </tr>\n",
       "    </thead>\n",
       "    <tbody>\n",
       "        <tr>\n",
       "            <td>main</td>\n",
       "            <td>BRANCH</td>\n",
       "            <td>8206386991873546081</td>\n",
       "            <td>None</td>\n",
       "            <td>None</td>\n",
       "            <td>None</td>\n",
       "        </tr>\n",
       "    </tbody>\n",
       "</table>"
      ],
      "text/plain": [
       "+------+--------+---------------------+-------------------------+-----------------------+------------------------+\n",
       "| name |   type |         snapshot_id | max_reference_age_in_ms | min_snapshots_to_keep | max_snapshot_age_in_ms |\n",
       "+------+--------+---------------------+-------------------------+-----------------------+------------------------+\n",
       "| main | BRANCH | 8206386991873546081 |                    None |                  None |                   None |\n",
       "+------+--------+---------------------+-------------------------+-----------------------+------------------------+"
      ]
     },
     "execution_count": 99,
     "metadata": {},
     "output_type": "execute_result"
    }
   ],
   "source": [
    "%%sql\n",
    "\n",
    "SELECT *\n",
    "FROM nyc.taxis.refs"
   ]
  },
  {
   "cell_type": "code",
   "execution_count": null,
   "id": "8713ab15-c888-49e7-b0d9-10b497c990df",
   "metadata": {},
   "outputs": [],
   "source": []
  }
 ],
 "metadata": {
  "kernelspec": {
   "display_name": "Python 3 (ipykernel)",
   "language": "python",
   "name": "python3"
  },
  "language_info": {
   "codemirror_mode": {
    "name": "ipython",
    "version": 3
   },
   "file_extension": ".py",
   "mimetype": "text/x-python",
   "name": "python",
   "nbconvert_exporter": "python",
   "pygments_lexer": "ipython3",
   "version": "3.9.18"
  }
 },
 "nbformat": 4,
 "nbformat_minor": 5
}
